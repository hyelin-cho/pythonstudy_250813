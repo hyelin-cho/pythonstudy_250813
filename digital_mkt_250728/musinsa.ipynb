{
 "cells": [
  {
   "cell_type": "code",
   "execution_count": 11,
   "id": "6d04069a-253d-414e-8b2a-3b7402b27633",
   "metadata": {},
   "outputs": [
    {
     "name": "stdout",
     "output_type": "stream",
     "text": [
      "상품명 : 엣지 라인 트윌리 스카프 (블랙 & 아이보리)\n",
      "1. 선물로 줬는데 좋아하네요 고급져요 무난하게 하기 좋음\n",
      "2. 포장이 정성스러워서 기분 좋았어요 선물하기도 좋아보여요\n",
      "3. 스카프 코디 처음으로 해봤는데 포인트로도 손색없고 색도 부담스럽지 않아 튀지않고 자연스럽게 코디 완성 할 수 있습니다\n",
      "4. 고급스러워보이고 원단도 부드러워요!! 날씨 추워지면 더 잘 사용할것같아요\n",
      "5. 포인트로 좋습니다 하나쯤 있으면 색다른 코디하기 좋네요\n",
      "6. 코디하기 좋습니다 하나쯤 있으면 코디하기 좋네요\n"
     ]
    }
   ],
   "source": [
    "from selenium import webdriver\n",
    "from selenium.webdriver.chrome.service import Service\n",
    "from selenium.webdriver.chrome.options import Options\n",
    "from selenium.webdriver.common.by import By\n",
    "from selenium.webdriver.support.ui import WebDriverWait\n",
    "from selenium.webdriver.support import expected_conditions as EC\n",
    "from bs4 import BeautifulSoup\n",
    "from webdriver_manager.chrome import ChromeDriverManager\n",
    "from openpyxl import Workbook\n",
    "import time\n",
    "\n",
    "options = Options()\n",
    "options.add_argument(\"--headless\")\n",
    "options.add_argument(\"--no-sandbox\")\n",
    "options.add_argument(\"--disable-dev-shm-usage\")\n",
    "service = Service(ChromeDriverManager().install())\n",
    "driver = webdriver.Chrome(service=service, options=options)\n",
    "\n",
    "url = \"https://www.musinsa.com/products/3143647\"\n",
    "driver.get(url)\n",
    "\n",
    "try :\n",
    "    review_tab = WebDriverWait(driver, 10).until(\n",
    "        EC.element_to_be_clickable((By.XPATH, \"//span[contains(text(), '스냅·후기')]\"))\n",
    "    )\n",
    "    review_tab.click()\n",
    "    time.sleep(2)\n",
    "except Exception as e : #예외 객체\n",
    "    print(\"리뷰 탭 클릭 실패 : \", e)\n",
    "\n",
    "scroll_pause = 1\n",
    "last_height = driver.execute_script(\"return document.body.scrollHeight\")\n",
    "\n",
    "for _ in range(5) :\n",
    "    driver.execute_script(\"window.scrollTo(0, document.body.scrollHeight)\")\n",
    "    time.sleep(scroll_pause)\n",
    "    new_height = driver.execute_script(\"return document.body.scrollHeight\")\n",
    "    if new_height == last_height :\n",
    "        break\n",
    "    last_height = new_height\n",
    "\n",
    "soup = BeautifulSoup(driver.page_source, \"html.parser\")\n",
    "\n",
    "product_name = soup.select_one(\"span.text-title_18px_med.sc-1omefes-1.exqQRL.font-pretendard\").get_text(strip=True)\n",
    "\n",
    "review_cards = soup.select(\"div.GoodsReviewStaticList__Container-sc-s1ucwv-0.lnqPxe\")\n",
    "\n",
    "reviews = []\n",
    "for card in review_cards :\n",
    "    text_tags = card.select(\"span.text-body_13px_reg.text-black.font-pretendard\")\n",
    "    for tag in text_tags :\n",
    "        text = tag.get_text(strip=True)\n",
    "        if text and len(text) > 10 :\n",
    "            reviews.append(text)\n",
    "\n",
    "reviews = list(set(reviews))\n",
    "\n",
    "print(f\"상품명 : {product_name}\")\n",
    "for idx, review in enumerate(reviews, start=1) :\n",
    "    print(f\"{idx}. {review}\")"
   ]
  }
 ],
 "metadata": {
  "kernelspec": {
   "display_name": "Python [conda env:base] *",
   "language": "python",
   "name": "conda-base-py"
  },
  "language_info": {
   "codemirror_mode": {
    "name": "ipython",
    "version": 3
   },
   "file_extension": ".py",
   "mimetype": "text/x-python",
   "name": "python",
   "nbconvert_exporter": "python",
   "pygments_lexer": "ipython3",
   "version": "3.13.5"
  }
 },
 "nbformat": 4,
 "nbformat_minor": 5
}
