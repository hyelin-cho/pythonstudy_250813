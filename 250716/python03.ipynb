{
 "cells": [
  {
   "cell_type": "markdown",
   "id": "344f9d6c-dfe7-47af-b368-712d61ad6dae",
   "metadata": {},
   "source": [
    "#### 미션\n",
    "- 공공데이터 포털 사이트 > 캠핑장 정보를 api로 찾아온다\n",
    "- 100개의 캠핑장 정보만 엑셀에 저장\n",
    "- No / 캠핑장 아이디 (contentid) / 캠핑장 이름 (facltNm) / 위치 (doNm) / 주소(addr1) / 홈페이지 (homepage)"
   ]
  },
  {
   "cell_type": "code",
   "execution_count": 10,
   "id": "d6f51fed-6e4f-480e-bb54-f7d124d9af0c",
   "metadata": {},
   "outputs": [],
   "source": [
    "import requests\n",
    "\n",
    "api = \"L%2Bada8fV4ryuAVQLflWuX8ur2B4ZMpk04dzXQmnlK6%2FAj%2BO77uMbvKTIJmnjhifx3OLl6NidqGjt3CQwSf3fhA%3D%3D\"\n",
    "url = \"https://apis.data.go.kr/B551011/GoCamping/basedList\"\n",
    "\n"
   ]
  }
 ],
 "metadata": {
  "kernelspec": {
   "display_name": "Python [conda env:base] *",
   "language": "python",
   "name": "conda-base-py"
  },
  "language_info": {
   "codemirror_mode": {
    "name": "ipython",
    "version": 3
   },
   "file_extension": ".py",
   "mimetype": "text/x-python",
   "name": "python",
   "nbconvert_exporter": "python",
   "pygments_lexer": "ipython3",
   "version": "3.13.5"
  }
 },
 "nbformat": 4,
 "nbformat_minor": 5
}
