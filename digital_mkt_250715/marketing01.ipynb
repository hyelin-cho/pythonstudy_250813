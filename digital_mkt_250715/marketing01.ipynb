{
 "cells": [
  {
   "cell_type": "code",
   "execution_count": 1,
   "id": "54874a59-3088-407a-8173-73ead3cec5f5",
   "metadata": {},
   "outputs": [
    {
     "name": "stdout",
     "output_type": "stream",
     "text": [
      "[]\n"
     ]
    }
   ],
   "source": [
    "import requests\n",
    "from bs4 import BeautifulSoup\n",
    "from openpyxl import Workbook\n",
    "\n",
    "url = \"https://www.kurly.com/goods/5037452\"\n",
    "res = requests.get(url)\n",
    "soup = BeautifulSoup(res.text, \"html.parser\")\n",
    "\n",
    "test = soup.select(\".css-y49dcn.e36z05c13\")\n",
    "print(test)"
   ]
  },
  {
   "cell_type": "code",
   "execution_count": 2,
   "id": "d6cc6b15-5384-4db8-baa5-dd00cbc00ee4",
   "metadata": {},
   "outputs": [
    {
     "name": "stdout",
     "output_type": "stream",
     "text": [
      "Requirement already satisfied: selenium in /opt/anaconda3/lib/python3.13/site-packages (4.34.2)\n",
      "Requirement already satisfied: urllib3~=2.5.0 in /opt/anaconda3/lib/python3.13/site-packages (from urllib3[socks]~=2.5.0->selenium) (2.5.0)\n",
      "Requirement already satisfied: trio~=0.30.0 in /opt/anaconda3/lib/python3.13/site-packages (from selenium) (0.30.0)\n",
      "Requirement already satisfied: trio-websocket~=0.12.2 in /opt/anaconda3/lib/python3.13/site-packages (from selenium) (0.12.2)\n",
      "Requirement already satisfied: certifi>=2025.6.15 in /opt/anaconda3/lib/python3.13/site-packages (from selenium) (2025.6.15)\n",
      "Requirement already satisfied: typing_extensions~=4.14.0 in /opt/anaconda3/lib/python3.13/site-packages (from selenium) (4.14.1)\n",
      "Requirement already satisfied: websocket-client~=1.8.0 in /opt/anaconda3/lib/python3.13/site-packages (from selenium) (1.8.0)\n",
      "Requirement already satisfied: attrs>=23.2.0 in /opt/anaconda3/lib/python3.13/site-packages (from trio~=0.30.0->selenium) (24.3.0)\n",
      "Requirement already satisfied: sortedcontainers in /opt/anaconda3/lib/python3.13/site-packages (from trio~=0.30.0->selenium) (2.4.0)\n",
      "Requirement already satisfied: idna in /opt/anaconda3/lib/python3.13/site-packages (from trio~=0.30.0->selenium) (3.7)\n",
      "Requirement already satisfied: outcome in /opt/anaconda3/lib/python3.13/site-packages (from trio~=0.30.0->selenium) (1.3.0.post0)\n",
      "Requirement already satisfied: sniffio>=1.3.0 in /opt/anaconda3/lib/python3.13/site-packages (from trio~=0.30.0->selenium) (1.3.0)\n",
      "Requirement already satisfied: wsproto>=0.14 in /opt/anaconda3/lib/python3.13/site-packages (from trio-websocket~=0.12.2->selenium) (1.2.0)\n",
      "Requirement already satisfied: pysocks!=1.5.7,<2.0,>=1.5.6 in /opt/anaconda3/lib/python3.13/site-packages (from urllib3[socks]~=2.5.0->selenium) (1.7.1)\n",
      "Requirement already satisfied: h11<1,>=0.9.0 in /opt/anaconda3/lib/python3.13/site-packages (from wsproto>=0.14->trio-websocket~=0.12.2->selenium) (0.16.0)\n",
      "Note: you may need to restart the kernel to use updated packages.\n"
     ]
    }
   ],
   "source": [
    "pip install selenium"
   ]
  },
  {
   "cell_type": "code",
   "execution_count": 3,
   "id": "5d5d43ff-7ad9-49cb-b5ca-61b3b4ed6d1d",
   "metadata": {},
   "outputs": [
    {
     "name": "stdout",
     "output_type": "stream",
     "text": [
      "헤어 오일하면 역시 모로칸오일!\n",
      "\n",
      "예전엔 늘 백화점에서 구매했는데, 인기 있는 제품이다 보니 재입고 일정 맞추기도 어렵고 기다림이 꽤 있었어요. 그런데 이번엔 컬리에서 샛별배송으로 바로 받아볼 수 있어서 정말 편하더라고요. 퇴근하고 주문했는데 다음 날 아침, 바로 현관 앞에 도착! 이래서 컬리를 못 끊는 이유죠.\n",
      "\n",
      "모로칸오일은 워낙 유명해서 설명이 필요 없을 정도예요. 향이 고급스럽고 머릿결을 찰랑거리게 해주는 오일로, 손상모나 건조모에는 특히 더 효과가 확실해요. 저처럼 자주 염색·드라이 하는 모발에 발라주면, 푸석함 없이 차분하게 정돈되면서 윤기가 살아나요.\n",
      "\n",
      "끈적임 없이 흡수도 빨라서 사계절 내내 부담 없이 사용 가능하고, 소량으로도 충분해서 오래 쓰게 돼요. 드라이 전/후로 나눠 바르면 더 효과적이에요. 백화점 정품 그대로, 빠르게 받을 수 있다는 점에서 컬리에서 재구매할 이유가 확실해졌어요. 앞으로도 쭉 컬리에서 구매할 예정입니다!\n",
      "모로칸 오일은 너무나도 유명하죠?\n",
      "전 면세점 갈 일 있음 꼭 쟁이곤 하는데요\n",
      "\n",
      "면세점보다 혜택이 좋은 곳은?\n",
      "바로 컬리에요 🤗\n",
      "\n",
      "멤버스 혜택 또는 뷰티컬리데이에는 면세점보다 \n",
      "더 좋은 혜택으로 살 수 있어요 \n",
      "전 컬리에서 벌써 3번 이상 구매했는 걸요?\n",
      "\n",
      "똑 떨어지면 몇날 몇일 기다리지 않고 \n",
      "담날 새벽이면 오니까 \n",
      "내 머리결까지 컬리가 지켜줍니다\n",
      "\n",
      "✅ 제형\n",
      "노란빛 도는 점성있는 오일 제형\n",
      "\n",
      "✅ 향\n",
      "무난하니 호불호 없는 향\n",
      "(헤어제품으로 아르간 오일이 좋다고 해서 \n",
      "사서 써본 적이 있는데 저에겐 불호 였네요)\n",
      "\n",
      "✅  효과\n",
      "이게 제일 중요한데 젖은 머리에 발라두면\n",
      "마르고 나서도 머리가 엉킴없이 부드러워요\n",
      "머리에서 윤기도 나고요 ✨✨\n",
      "\n",
      "\n",
      "헤어오일 잘 못 쓰면 기름져서 떡지기도 하자나요😭\n",
      "모로칸 오일은 그런 것 없이 머리카락에 싹 스며들면서\n",
      "찰랑이는 머리결을 유지한다는 게 신통방통!!\n",
      "\n",
      "역시는 역시, 유명한 데는 다 이유가 있다!\n",
      "모로칸 오일이 다시 한번 증명하네요 🤗\n",
      "\n",
      "앞으론 쭉 모로칸 오일은 컬리에서만 \n",
      "사게될 것 같아요 🫶🏻\n",
      "머리감고 물기만 수건으로 톡톡하고\n",
      "모로칸오일 젖은 머리카락에 발라주고\n",
      "드라이하고 또 모로칸오일 발라줬는데\n",
      "머리카락이 부들부들\n",
      "오늘 처음 썼는데 너무 좋아요~^^\n",
      "잦은 염색으로 머리카락이 푸석푸석하고 머리결도 안좋고, 머리가 끊어지고 그래서\n",
      "스트레스였는데 컬리에서 저렴하게 살 수 있어서 넘 좋아요\n",
      "꾸준하게 쓰면 머리결 좋아질 거 같아요~\n",
      "비싸지만 돈값합니다 무엇보다 향이 너무좋아서 계속 맡게되네요\n",
      "헤어.피부에 다 사용해요.\n",
      "너무 무겁지 않고 향도 좋아요.\n",
      "좋은 제품을 저렴하게 구매했습니다.\n",
      "오일 모로칸이죠  .. 여름철 헤어 관리\n",
      "너무 좋은데 금방금방 씀 ㅠㅠ\n",
      "이만한 헤어오일이 없죠ㅡ비싸도 좋아요\n"
     ]
    }
   ],
   "source": [
    "from selenium import webdriver\n",
    "from selenium.webdriver.chrome.options import Options\n",
    "from bs4 import BeautifulSoup\n",
    "import time\n",
    "\n",
    "# 1.셀레니움 기본 옵션 설정\n",
    "options = Options()\n",
    "options.add_argument(\"--no-sandbox\")\n",
    "options.add_argument(\"--disable-dev-shm-usage\")\n",
    "options.add_argument(\"--headless\")\n",
    "\n",
    "driver = webdriver.Chrome(options = options)\n",
    "\n",
    "# 2.페이지 접속\n",
    "url = \"https://www.kurly.com/goods/1000078028\"\n",
    "driver.get(url)\n",
    "\n",
    "time.sleep(5) # 페이지 로딩대기 시간 설정\n",
    "\n",
    "# 3. HTML 가져오기\n",
    "soup = BeautifulSoup(driver.page_source, \"html.parser\")\n",
    "\n",
    "# 4. 리뷰 텍스트 추출하기\n",
    "reviews = soup.select(\"p.css-y49dcn.e36z05c13\")\n",
    "for review in reviews :\n",
    "    print(review.get_text().strip())\n",
    "\n",
    "driver.quit()"
   ]
  },
  {
   "cell_type": "code",
   "execution_count": 4,
   "id": "9681deeb-24b8-47fc-bc41-51c7e185f47e",
   "metadata": {},
   "outputs": [
    {
     "name": "stdout",
     "output_type": "stream",
     "text": [
      "엑셀 저장 완료 : kurly_reviews.xlsx\n"
     ]
    }
   ],
   "source": [
    "from selenium import webdriver\n",
    "from selenium.webdriver.chrome.options import Options\n",
    "from bs4 import BeautifulSoup\n",
    "import time\n",
    "from openpyxl import Workbook\n",
    "\n",
    "# 1.셀레니움 기본 옵션 설정\n",
    "options = Options()\n",
    "options.add_argument(\"--no-sandbox\")\n",
    "options.add_argument(\"--disable-dev-shm-usage\")\n",
    "options.add_argument(\"--headless\")\n",
    "\n",
    "driver = webdriver.Chrome(options = options)\n",
    "\n",
    "# 2.페이지 접속\n",
    "url = \"https://www.kurly.com/goods/1000078028\"\n",
    "driver.get(url)\n",
    "\n",
    "time.sleep(5) # 페이지 로딩대기 시간 설정\n",
    "\n",
    "# 3. HTML 가져오기\n",
    "soup = BeautifulSoup(driver.page_source, \"html.parser\")\n",
    "\n",
    "# 4. 리뷰 텍스트 추출하기\n",
    "reviews = soup.select(\"p.css-y49dcn.e36z05c13\")\n",
    "review_lists = [review.get_text().strip() for review in reviews]\n",
    "\n",
    "driver.quit()\n",
    "\n",
    "wb = Workbook()\n",
    "ws = wb.active\n",
    "ws.title = \"Kurly Reviews\"\n",
    "\n",
    "ws.append([\"리뷰 내용\"])\n",
    "for item in review_lists :\n",
    "    ws.append([item])\n",
    "\n",
    "wb.save(\"kurly_reviews.xlsx\")\n",
    "print(\"엑셀 저장 완료 : kurly_reviews.xlsx\")"
   ]
  }
 ],
 "metadata": {
  "kernelspec": {
   "display_name": "Python [conda env:base] *",
   "language": "python",
   "name": "conda-base-py"
  },
  "language_info": {
   "codemirror_mode": {
    "name": "ipython",
    "version": 3
   },
   "file_extension": ".py",
   "mimetype": "text/x-python",
   "name": "python",
   "nbconvert_exporter": "python",
   "pygments_lexer": "ipython3",
   "version": "3.13.5"
  }
 },
 "nbformat": 4,
 "nbformat_minor": 5
}
