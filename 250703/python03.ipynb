{
 "cells": [
  {
   "cell_type": "markdown",
   "id": "782d33f6-c11d-4e94-8899-9efb10db97a5",
   "metadata": {},
   "source": [
    "#### 함수(function)\n",
    "\n",
    "- 함수는 선언 & 호출 개념\n",
    "- 인자값 혹은 인수 개념\n",
    "- 함수를 선언하는 단계에서는 매개변수를 지정한다라고 부르고, 실제로 함수를 호출하는 단계에서는 이미 지정해놓은 매개변수의 공간에 입력할 값을 인자값 혹은 인수라고 부름!!# 인지값을 무조건 줘야함.\n",
    "- 매개변수를 지정했다면 반드시 인자값이 필요하다.\n",
    "- 매개변수와 인자값의 개수는 반드시 일치 해야한다.!!!!!\n",
    "  \n",
    "  ```\n",
    "  def 함수이름(인자값 = 인수 = 매개변수) : # function 함수를 선언한다. 함수가 어떠한 특정값을 받아야지만 구현 가능한게 있을 수 있다. \n",
    "      실행문\n",
    "      return 반환하고자하는 값 입력\n",
    "  ```\n"
   ]
  },
  {
   "cell_type": "code",
   "execution_count": 4,
   "id": "c74b6dfa-3591-465f-a1e4-a897abbeff49",
   "metadata": {},
   "outputs": [],
   "source": [
    "def func1() :\n",
    "    print(\"hello\")\n",
    "    print(\"hello\")\n",
    "    print(\"hello\")\n",
    "    print(\"hello\")"
   ]
  },
  {
   "cell_type": "code",
   "execution_count": 5,
   "id": "cef4bfe4-1b8a-4b6a-bbfa-05ae5579b518",
   "metadata": {},
   "outputs": [
    {
     "name": "stdout",
     "output_type": "stream",
     "text": [
      "hello\n",
      "hello\n",
      "hello\n",
      "hello\n"
     ]
    }
   ],
   "source": [
    "func1()"
   ]
  },
  {
   "cell_type": "code",
   "execution_count": 9,
   "id": "65b91466-2f91-4ad8-8a87-b0b8064d986a",
   "metadata": {},
   "outputs": [],
   "source": [
    "def func2(parameter) :\n",
    "    print(f\"hello, {parameter}\")"
   ]
  },
  {
   "cell_type": "code",
   "execution_count": 26,
   "id": "99b7947f-1a9d-42dc-8ec1-4cf6719512e9",
   "metadata": {},
   "outputs": [],
   "source": [
    "def func2(parameter01, parameter02) :\n",
    "    print(f\"hello, {parameter01} {parameter02}\")\n",
    "    return f\"hello, {parameter01} {parameter02}\" # 함수에 대한 종결을 의미. 가장 마지막에 적어야함."
   ]
  },
  {
   "cell_type": "code",
   "execution_count": 25,
   "id": "8ffef9b1-08c3-4f8e-8c3a-d0ff252a504b",
   "metadata": {},
   "outputs": [
    {
     "name": "stdout",
     "output_type": "stream",
     "text": [
      "hello, python world\n"
     ]
    },
    {
     "data": {
      "text/plain": [
       "'hello, python world'"
      ]
     },
     "execution_count": 25,
     "metadata": {},
     "output_type": "execute_result"
    }
   ],
   "source": [
    "result = func2(\"python\", \"world\")\n",
    "result"
   ]
  },
  {
   "cell_type": "code",
   "execution_count": 36,
   "id": "9ffa2707-b086-4362-a988-2303adef2834",
   "metadata": {},
   "outputs": [],
   "source": [
    "def sum(a,b) :\n",
    "    c = 1 #지역변수 = local\n",
    "    result02 = a + b\n",
    "    return(result02)\n",
    "a = 1 #전역변수 = global"
   ]
  },
  {
   "cell_type": "code",
   "execution_count": 32,
   "id": "b0c7f9b0-233f-4094-8f69-6628f91b2caa",
   "metadata": {},
   "outputs": [
    {
     "data": {
      "text/plain": [
       "3"
      ]
     },
     "execution_count": 32,
     "metadata": {},
     "output_type": "execute_result"
    }
   ],
   "source": [
    "sum(1, 2)"
   ]
  },
  {
   "cell_type": "code",
   "execution_count": 33,
   "id": "168c35ec-d00b-4085-949d-8abb0c6ad455",
   "metadata": {},
   "outputs": [
    {
     "data": {
      "text/plain": [
       "1"
      ]
     },
     "execution_count": 33,
     "metadata": {},
     "output_type": "execute_result"
    }
   ],
   "source": [
    "a"
   ]
  },
  {
   "cell_type": "code",
   "execution_count": 38,
   "id": "d452ad7d-58c5-4140-a53c-2ce16240482b",
   "metadata": {},
   "outputs": [
    {
     "name": "stdout",
     "output_type": "stream",
     "text": [
      "1\n",
      "2\n",
      "3\n"
     ]
    }
   ],
   "source": [
    "for item in [1, 2, 3] :\n",
    "    print(item) #item => 블록변수 = block"
   ]
  },
  {
   "cell_type": "code",
   "execution_count": 39,
   "id": "3a54b780-3fad-494c-a0f9-0a5f310303e2",
   "metadata": {},
   "outputs": [],
   "source": [
    "def func7(a) :\n",
    "    b = a + 1\n",
    "    return a, b"
   ]
  },
  {
   "cell_type": "code",
   "execution_count": 45,
   "id": "0d39427d-16f9-410f-b333-722cdd0d18c3",
   "metadata": {},
   "outputs": [
    {
     "name": "stdout",
     "output_type": "stream",
     "text": [
      "(4, 5)\n",
      "<class 'tuple'>\n"
     ]
    }
   ],
   "source": [
    "result07 = func7(4)\n",
    "print(result07)\n",
    "print(type(result07)) \n",
    "# tuple : 값, 형태, 갯수 -> 정해져있는 리스트 형태. 값이 유동적으로 바뀌지 않는 경우 리스트의 자료형태를 쓸 필요가 없다.\n",
    "# 여기서 튜플이 나왔다는 건 값에 대한 정의가 내려졌다?\n",
    "# 안정되어진 값을 쓰고자 한다 할 떄 사용"
   ]
  },
  {
   "cell_type": "code",
   "execution_count": 43,
   "id": "babac33c-6d01-4478-932d-ff4cc342c23c",
   "metadata": {},
   "outputs": [
    {
     "name": "stdout",
     "output_type": "stream",
     "text": [
      "<class 'str'>\n",
      "<class 'int'>\n",
      "<class 'bool'>\n",
      "<class 'list'>\n"
     ]
    }
   ],
   "source": [
    "print(type(\"str\"))\n",
    "print(type(1))\n",
    "print(type(True))\n",
    "print(type([1, 2, 3]))"
   ]
  },
  {
   "cell_type": "code",
   "execution_count": 46,
   "id": "f26a75e6-abd2-4b36-8e3f-413533c05886",
   "metadata": {},
   "outputs": [],
   "source": [
    "def id_check(id) :\n",
    "    if id == \"admin\" :\n",
    "        print(\"invalid id : admin\")\n",
    "        return # 값을 준다라고 생각 ㄴㄴ. 종결이라고 생각. 값을 주고 종결할 것인지 그냥 종결할 것인지 결정.\n",
    "    # else :\n",
    "        print(\"valid id :\", id) # else문이라고 하는 독립문이기도 함. 하지만 이걸 혼자 쓸 이유와 의미가 없음. "
   ]
  },
  {
   "cell_type": "code",
   "execution_count": 50,
   "id": "2f954f36-245e-485b-a7a9-ef664129b70c",
   "metadata": {},
   "outputs": [
    {
     "name": "stdout",
     "output_type": "stream",
     "text": [
      "valid id : admin02\n"
     ]
    }
   ],
   "source": [
    "id_check(\"admin02\")"
   ]
  }
 ],
 "metadata": {
  "kernelspec": {
   "display_name": "Python [conda env:base] *",
   "language": "python",
   "name": "conda-base-py"
  },
  "language_info": {
   "codemirror_mode": {
    "name": "ipython",
    "version": 3
   },
   "file_extension": ".py",
   "mimetype": "text/x-python",
   "name": "python",
   "nbconvert_exporter": "python",
   "pygments_lexer": "ipython3",
   "version": "3.13.5"
  }
 },
 "nbformat": 4,
 "nbformat_minor": 5
}
