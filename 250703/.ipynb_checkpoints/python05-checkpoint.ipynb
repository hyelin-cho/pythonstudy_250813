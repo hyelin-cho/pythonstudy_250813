{
 "cells": [
  {
   "cell_type": "markdown",
   "id": "64cdfc8f-c255-450b-bc0a-1112a4674361",
   "metadata": {},
   "source": [
    "- 구구단을 2단부터 9단까지 다음과 같이 출력해주세요\n",
    "  ```\n",
    "  2 x 1 =2\n",
    "  2 x 2 =4\n",
    "  ...\n",
    "  2 x 9 = 18\n",
    "  3 x 1 = 3\n",
    "  ...\n",
    "  9 x 9 = 81\n",
    "  ```"
   ]
  },
  {
   "cell_type": "code",
   "execution_count": 9,
   "id": "a7f523ef-d300-4473-b230-06cc700714b3",
   "metadata": {},
   "outputs": [
    {
     "ename": "SyntaxError",
     "evalue": "expression cannot contain assignment, perhaps you meant \"==\"? (1515224558.py, line 10)",
     "output_type": "error",
     "traceback": [
      "\u001b[0;36m  Cell \u001b[0;32mIn[9], line 10\u001b[0;36m\u001b[0m\n\u001b[0;31m    print(\"[num] x [num01]\" = [num] * [num01])\u001b[0m\n\u001b[0m          ^\u001b[0m\n\u001b[0;31mSyntaxError\u001b[0m\u001b[0;31m:\u001b[0m expression cannot contain assignment, perhaps you meant \"==\"?\n"
     ]
    }
   ],
   "source": [
    "# 데이터를 입력한다.\n",
    "# 숫자를 입력한다.\n",
    "# 반복문인가?\n",
    "# 프린트 - 숫자 x (1, 10) = 숫자 * (1, 10) ??\n",
    "# \n",
    "\n",
    "num = 0\n",
    "num01 = (1, 10)\n",
    "\n",
    "for num in range(1, 10) :\n",
    "    print(\"[num] x [num01]\" = [num] * [num01])"
   ]
  }
 ],
 "metadata": {
  "kernelspec": {
   "display_name": "Python [conda env:base] *",
   "language": "python",
   "name": "conda-base-py"
  },
  "language_info": {
   "codemirror_mode": {
    "name": "ipython",
    "version": 3
   },
   "file_extension": ".py",
   "mimetype": "text/x-python",
   "name": "python",
   "nbconvert_exporter": "python",
   "pygments_lexer": "ipython3",
   "version": "3.13.5"
  }
 },
 "nbformat": 4,
 "nbformat_minor": 5
}
