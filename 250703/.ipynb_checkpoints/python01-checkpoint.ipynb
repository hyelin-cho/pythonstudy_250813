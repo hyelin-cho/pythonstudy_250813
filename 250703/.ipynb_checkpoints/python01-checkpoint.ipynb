{
 "cells": [
  {
   "cell_type": "markdown",
   "id": "0868a1cf-48e1-44d4-b0c2-57a710d8579c",
   "metadata": {},
   "source": [
    "- 사용자로부터 점수를 입력받은 후 등급을 출력하세요.\n",
    "  - (A : 100 ~ 81, B : 80 ~ 61, C : 60 ~ 0)"
   ]
  },
  {
   "cell_type": "code",
   "execution_count": 3,
   "id": "9e544b3e-3b2b-448d-b696-66fcd27dc756",
   "metadata": {},
   "outputs": [
    {
     "name": "stdin",
     "output_type": "stream",
     "text": [
      "사용자의 점수 78\n"
     ]
    },
    {
     "name": "stdout",
     "output_type": "stream",
     "text": [
      "B\n"
     ]
    }
   ],
   "source": [
    "data = int(input(\"사용자의 점수\"))\n",
    "\n",
    "if data >= 81 and data <= 100 :\n",
    "    print(\"A\")\n",
    "elif data >= 61 and data <= 80 :\n",
    "    print(\"B\")\n",
    "elif data >= 0 and data <= 60 :\n",
    "    print(\"C\")"
   ]
  },
  {
   "cell_type": "markdown",
   "id": "948ecbce-f6e9-4dbb-ab1f-fe4dc3d52c72",
   "metadata": {},
   "source": [
    "- 사용자로부터 주민등록번호를 입력받아서 출생년도만 확인 후 출력해주세요.\n",
    "    - 예) 800000 - 1234567 => 80년생 입니다."
   ]
  },
  {
   "cell_type": "code",
   "execution_count": 6,
   "id": "1dcb31b0-9a8b-4888-8afd-35989f0c402d",
   "metadata": {},
   "outputs": [
    {
     "name": "stdin",
     "output_type": "stream",
     "text": [
      "주민등록번호입력 800000 - 1234567\n"
     ]
    },
    {
     "name": "stdout",
     "output_type": "stream",
     "text": [
      "80\n"
     ]
    }
   ],
   "source": [
    "data = input(\"주민등록번호입력\") # int 쓰면 안됨!, 문자열로 받아야 리스트 자료구조와 호환될 수 있음\n",
    "print(data[0:2])"
   ]
  },
  {
   "cell_type": "code",
   "execution_count": 13,
   "id": "2fcc8f7b-aaef-4c88-bbc9-2d92f86c50f8",
   "metadata": {},
   "outputs": [
    {
     "name": "stdin",
     "output_type": "stream",
     "text": [
      "주민등록번호입력 800000 - 1234567\n"
     ]
    },
    {
     "name": "stdout",
     "output_type": "stream",
     "text": [
      "80\n"
     ]
    }
   ],
   "source": [
    "data = input(\"주민등록번호입력\") \n",
    "age = data[0:2]\n",
    "\n",
    "print(age)"
   ]
  },
  {
   "cell_type": "code",
   "execution_count": 8,
   "id": "fb1257aa-c122-43be-9ddc-05739625697d",
   "metadata": {},
   "outputs": [
    {
     "name": "stdin",
     "output_type": "stream",
     "text": [
      "주민등록번호입력 800000 - 1234567\n"
     ]
    },
    {
     "name": "stdout",
     "output_type": "stream",
     "text": [
      "80년생\n"
     ]
    }
   ],
   "source": [
    "data = input(\"주민등록번호입력\") \n",
    "age = data[0:2]\n",
    "\n",
    "print(f\"{age}년생\")"
   ]
  },
  {
   "cell_type": "code",
   "execution_count": 18,
   "id": "a69d6f75-7413-4201-9a7c-6981d5351828",
   "metadata": {},
   "outputs": [
    {
     "name": "stdin",
     "output_type": "stream",
     "text": [
      "주민등록번호입력 800000 - 1234567\n"
     ]
    },
    {
     "name": "stdout",
     "output_type": "stream",
     "text": [
      "80\n"
     ]
    }
   ],
   "source": [
    "data = input(\"주민등록번호입력\") \n",
    "age = data.split(\"-\") # 구분자 = 무언가를 구분시켜주겠다. 특정 구분자를 기준으로 값을 쪼갠다. list의 자료형태 - index값\n",
    "print(age[0][0:2])"
   ]
  },
  {
   "cell_type": "code",
   "execution_count": 21,
   "id": "a9e989e1-800f-481b-9d12-0f6cc3ee4708",
   "metadata": {},
   "outputs": [
    {
     "name": "stdin",
     "output_type": "stream",
     "text": [
      "주민등록번호입력 800000 - 1234567\n"
     ]
    },
    {
     "name": "stdout",
     "output_type": "stream",
     "text": [
      "80\n"
     ]
    }
   ],
   "source": [
    "data = input(\"주민등록번호입력\") \n",
    "age = data.split(\"-\")\n",
    "age01 = age[0]\n",
    "print(age01[0:2])"
   ]
  },
  {
   "cell_type": "code",
   "execution_count": 22,
   "id": "4007de88-9218-475b-b35e-b456ca88bd90",
   "metadata": {},
   "outputs": [
    {
     "name": "stdin",
     "output_type": "stream",
     "text": [
      "주민등록번호입력 800000 - 1234567\n"
     ]
    },
    {
     "name": "stdout",
     "output_type": "stream",
     "text": [
      "80\n"
     ]
    }
   ],
   "source": [
    "data = input(\"주민등록번호입력\") \n",
    "# age = data.split(\"-\")\n",
    "print(data.split(\"-\")[0][0:2])"
   ]
  },
  {
   "cell_type": "code",
   "execution_count": 23,
   "id": "f1e3e969-aaf1-4f5f-8cdb-93cef8e93606",
   "metadata": {},
   "outputs": [
    {
     "name": "stdin",
     "output_type": "stream",
     "text": [
      "주민등록번호입력 800000 - 1234567\n"
     ]
    },
    {
     "name": "stdout",
     "output_type": "stream",
     "text": [
      "80년생\n"
     ]
    }
   ],
   "source": [
    "data = input(\"주민등록번호입력\") \n",
    "\n",
    "print(f\"{data.split(\"-\")[0][0:2]}년생\")"
   ]
  },
  {
   "cell_type": "markdown",
   "id": "e344864a-8b97-49f0-9ceb-9f85e1bbfd96",
   "metadata": {},
   "source": [
    "- 사용자로부터 주민등록번호를 입력받아서 성별을 \"남성\" 또는 \"여성\"으로 출력해주세요.\n",
    "  - 주민등록번호 뒷자리 첫번째 숫자가 \"1\" => 남성 // \"2\" => 여성"
   ]
  },
  {
   "cell_type": "code",
   "execution_count": 36,
   "id": "5bbe3dfd-ff4b-4a5b-9fc6-d39e730d90f4",
   "metadata": {},
   "outputs": [
    {
     "name": "stdin",
     "output_type": "stream",
     "text": [
      "주민등록번호입력 800000-2234567\n"
     ]
    },
    {
     "name": "stdout",
     "output_type": "stream",
     "text": [
      "여성\n"
     ]
    }
   ],
   "source": [
    "data = input(\"주민등록번호입력\")\n",
    "\n",
    "gender = data.split(\"-\")[1][0]\n",
    "\n",
    "if gender == \"1\" :\n",
    "    print(\"남성\")\n",
    "else :\n",
    "    print(\"여성\")"
   ]
  },
  {
   "cell_type": "code",
   "execution_count": 37,
   "id": "08eeab7a-adcf-4c3f-900f-556f4d549762",
   "metadata": {},
   "outputs": [
    {
     "data": {
      "text/plain": [
       "'a man goes into the room'"
      ]
     },
     "execution_count": 37,
     "metadata": {},
     "output_type": "execute_result"
    }
   ],
   "source": [
    "mystr = \"a man goes into the room...\" # 온점을 없애보는 법.\n",
    "\n",
    "result = mystr.strip(\".\") # 온점이 더이상 나오지 않을 때까지 제거\n",
    "result"
   ]
  },
  {
   "cell_type": "code",
   "execution_count": 39,
   "id": "9626454e-1971-4a8d-88cc-6db0705db520",
   "metadata": {},
   "outputs": [
    {
     "data": {
      "text/plain": [
       "'000770'"
      ]
     },
     "execution_count": 39,
     "metadata": {},
     "output_type": "execute_result"
    }
   ],
   "source": [
    "code = \"          000770\"\n",
    "code.strip()\n",
    "\n",
    "# strip() : 문자열 앞, 뒤 상관없이 공백이라고 판단되는 문자열(*공백, 개행, 탭 등등)을 모두 제거하는 역할을 하는 매서드 함수 ex) 들여쓰기, 줄바꿈\n",
    "# n : 뉴라인의 약자\n",
    "# t : tap의 약자"
   ]
  },
  {
   "cell_type": "code",
   "execution_count": 43,
   "id": "a694efcb-70d3-4aee-a7ff-00238277539a",
   "metadata": {},
   "outputs": [
    {
     "data": {
      "text/plain": [
       "'000770\\n'"
      ]
     },
     "execution_count": 43,
     "metadata": {},
     "output_type": "execute_result"
    }
   ],
   "source": [
    "code = \"000770\\n\"\n",
    "# code.strip()\n",
    "code"
   ]
  },
  {
   "cell_type": "code",
   "execution_count": 47,
   "id": "b0a18456-b3aa-4faf-be89-86617f35cd92",
   "metadata": {},
   "outputs": [
    {
     "data": {
      "text/plain": [
       "'000770'"
      ]
     },
     "execution_count": 47,
     "metadata": {},
     "output_type": "execute_result"
    }
   ],
   "source": [
    "code = \"000770\\n\"\n",
    "code.strip()\n",
    "\n",
    "# 매서드 함수 사용 시 개행 처리라는 \\를 없애줌"
   ]
  },
  {
   "cell_type": "code",
   "execution_count": 52,
   "id": "d80abca9-1bb6-40e9-995a-fc3efc277cbc",
   "metadata": {},
   "outputs": [
    {
     "name": "stdout",
     "output_type": "stream",
     "text": [
      "3\n",
      "0\n"
     ]
    }
   ],
   "source": [
    "python_desc = \"Installing Python is generally easy, and nowadays many Linux and UNIX distributions include a recent Python. Even some Windows computers (notably those from HP) now come with Python already installed.\"\n",
    "print(python_desc.count(\"Python\"))\n",
    "print(python_desc.count(\"python\")) # 대문자, 소문자 출력"
   ]
  },
  {
   "cell_type": "markdown",
   "id": "5b921aef-09cb-4aa6-887b-41b9590148f3",
   "metadata": {},
   "source": [
    "- 사용자로부터 note 라는 문자열을 받았다고 가정하세요.그리고 해당 문자열 안에 n이 들어가있는지 확인 후 n이 들어가있으면 숫자 0을 출력하고 만약 그렇지 않다면 1을 출력하세요."
   ]
  },
  {
   "cell_type": "code",
   "execution_count": 57,
   "id": "d587d802-3669-4768-9d4e-e1ac0b00b597",
   "metadata": {},
   "outputs": [
    {
     "name": "stdin",
     "output_type": "stream",
     "text": [
      " aaarrr\n"
     ]
    },
    {
     "data": {
      "text/plain": [
       "0"
      ]
     },
     "execution_count": 57,
     "metadata": {},
     "output_type": "execute_result"
    }
   ],
   "source": [
    "letters = input()\n",
    "\n",
    "var = letters.find(\"a\") \n",
    "\n",
    "var\n",
    "# if var == 0 : \n",
    "#    print(0)\n",
    "# else : \n",
    "#    print(-1)\n",
    "    \n",
    "# 일반적으로 프로그래밍 언어는 true와 false\n",
    "# truethy, falsy => 참인듯한 값, 거짓인듯한 값\n",
    "# 0, nul, undefind => falsy\n",
    "# 파이썬 => 0 => truethy, -1 => falsy"
   ]
  },
  {
   "cell_type": "markdown",
   "id": "f9fc790f-19c9-475f-ada2-9156c9f2e168",
   "metadata": {},
   "source": [
    "- 사용자로부터 주민등록번호를 입력받은 후 사용자의 출생지가 어디인지 확인 후 출력해주세요.\n",
    "  - 주민등록번호 중 뒤에 8자리 중에서 첫번째 숫자가 성별을 의미, 두번째 숫자부터 세번째 숫자까지 출생지를 의미 \"00 ~ 08 : 서울\",\"09 ~ 12 : 부산\""
   ]
  },
  {
   "cell_type": "code",
   "execution_count": 75,
   "id": "9ae467ec-0287-4701-81fd-6f0a8189236c",
   "metadata": {},
   "outputs": [
    {
     "name": "stdin",
     "output_type": "stream",
     "text": [
      "주민등록번호입력 800000-2124567\n"
     ]
    }
   ],
   "source": [
    "data = input(\"주민등록번호입력\")\n",
    "local = data.split(\"-\")[1][1:3]\n",
    "\n",
    "if local <= \"00\" and local >= \"08\" :\n",
    "    print(\"서울 출생\")\n",
    "elif local <= \"09\" and local >= \"12\" :\n",
    "    print(\"부산 출생\") # 이건 아님"
   ]
  },
  {
   "cell_type": "code",
   "execution_count": 77,
   "id": "7d5daf6e-cd84-4aee-9b0d-ce47cacd03a8",
   "metadata": {},
   "outputs": [
    {
     "name": "stdout",
     "output_type": "stream",
     "text": [
      "서울 출생\n"
     ]
    }
   ],
   "source": [
    "data = \"800000-2074567\"\n",
    "\n",
    "location = int(data.split(\"-\")[1][1:3])\n",
    "\n",
    "if location >= 0 and location <= 8 :\n",
    "    print(\"서울 출생\")\n",
    "elif location >= 9 and location <= 12 :\n",
    "    print(\"부산 출생\")"
   ]
  }
 ],
 "metadata": {
  "kernelspec": {
   "display_name": "Python [conda env:base] *",
   "language": "python",
   "name": "conda-base-py"
  },
  "language_info": {
   "codemirror_mode": {
    "name": "ipython",
    "version": 3
   },
   "file_extension": ".py",
   "mimetype": "text/x-python",
   "name": "python",
   "nbconvert_exporter": "python",
   "pygments_lexer": "ipython3",
   "version": "3.13.5"
  }
 },
 "nbformat": 4,
 "nbformat_minor": 5
}
