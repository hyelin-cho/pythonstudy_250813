{
 "cells": [
  {
   "cell_type": "markdown",
   "id": "c6595e6b-826c-4abe-a7f6-d44d684aab2a",
   "metadata": {},
   "source": [
    "#### 자료구조 형태\n",
    "- 숫자, 문자, 블리언\n",
    "- 리스트(list)\n",
    "- 튜플(tuple)\n",
    "  - 리스트와 달리 튜플은 소괄호 형태를 띄고 있음.\n",
    "  - 튜플은 최초 생성 후 값을 삭제하거나 추가할 수 없음. 무조건!\n",
    "  - 단, 튜플 간 병합기능 혹은 튜플 자체의 복제는 가능함.\n",
    "  - 튜플은 리스트처럼 이터러블한 객체의 속성을 가지고 있음. => 반복문 사용할 수 있음 && 튜플 내부 아이템들은 각각 저마다의 고유한 인덱스 값을 가지고 있다는 의미이기도 함.\n",
    "  - 함수의 반환 값으로 찾아온 값을 활용해서 일반 변수 안에 값을 넣을 때 구조분해할당의 형식으로 값을 전달할 수 있음.\n",
    "  - 튜플을 수정, 편집, 삭제를 하고 싶다면 => 리스트로 바꿔주세요 => list(튜플자료형) => 리스트가 됨!!"
   ]
  },
  {
   "cell_type": "code",
   "execution_count": 3,
   "id": "c79df6b7-afe3-4442-b240-402546f5f393",
   "metadata": {},
   "outputs": [
    {
     "name": "stdout",
     "output_type": "stream",
     "text": [
      "<class 'list'>\n",
      "<class 'tuple'>\n"
     ]
    }
   ],
   "source": [
    "listitems = []\n",
    "tupleitems = (1,2,3)\n",
    "\n",
    "print(type(listitems))\n",
    "print(type(tupleitems))"
   ]
  },
  {
   "cell_type": "code",
   "execution_count": 4,
   "id": "ae983030-8621-48f1-bbd2-8a68bb40b54c",
   "metadata": {},
   "outputs": [
    {
     "name": "stdout",
     "output_type": "stream",
     "text": [
      "1\n",
      "2\n",
      "3\n"
     ]
    }
   ],
   "source": [
    "for item in tupleitems :\n",
    "    print(item)"
   ]
  },
  {
   "cell_type": "code",
   "execution_count": 11,
   "id": "2251449d-fc2c-44a9-ad67-127ba3a9627b",
   "metadata": {},
   "outputs": [
    {
     "name": "stdout",
     "output_type": "stream",
     "text": [
      "(1, 2, 3, 4)\n",
      "(1, 2, 1, 2, 1, 2)\n"
     ]
    }
   ],
   "source": [
    "# del tupleitems [1]\n",
    "# tupleitems.append(4)\n",
    "# tupleitems[4] = 4 # assignment = 할당\n",
    "\n",
    "tuple01 = (1,2)\n",
    "tuple02 = (3,4)\n",
    "\n",
    "print(tuple01 + tuple02) # 다른 형태의 값은 절대 올 수 없음\n",
    "print(tuple01 * 3)"
   ]
  },
  {
   "cell_type": "code",
   "execution_count": 28,
   "id": "75642001-9fba-4abc-b5ca-6e7a5c50aec6",
   "metadata": {},
   "outputs": [],
   "source": [
    "x = 1\n",
    "y = 2"
   ]
  },
  {
   "cell_type": "code",
   "execution_count": 13,
   "id": "8881ebd9-fafb-4ae6-92fc-3e1f1491ad74",
   "metadata": {},
   "outputs": [],
   "source": [
    "# temp = x\n",
    "# x = y\n",
    "# y = temp"
   ]
  },
  {
   "cell_type": "code",
   "execution_count": 30,
   "id": "2a2328ef-d56b-492c-81a4-cb8e027834c6",
   "metadata": {},
   "outputs": [],
   "source": [
    "(x, y) = (y, x)"
   ]
  },
  {
   "cell_type": "code",
   "execution_count": 35,
   "id": "d80e897e-f183-4d29-8552-6d30c373afca",
   "metadata": {},
   "outputs": [
    {
     "data": {
      "text/plain": [
       "2"
      ]
     },
     "execution_count": 35,
     "metadata": {},
     "output_type": "execute_result"
    }
   ],
   "source": [
    "x"
   ]
  },
  {
   "cell_type": "code",
   "execution_count": 45,
   "id": "11337d23-1cfc-478e-9aac-f771a08f4ef8",
   "metadata": {},
   "outputs": [],
   "source": [
    "def quot_and_rem(x, y) :\n",
    "    quot = x // y\n",
    "    rem = x % y\n",
    "    return (quot, rem)"
   ]
  },
  {
   "cell_type": "code",
   "execution_count": 40,
   "id": "6350d9f2-b293-4f77-aad4-4b6c6f8dee74",
   "metadata": {},
   "outputs": [],
   "source": [
    "(quot01, rem01) = quot_and_rem(10, 3)"
   ]
  },
  {
   "cell_type": "code",
   "execution_count": 44,
   "id": "dd15f260-846e-43ab-a1db-b8eab163c3e0",
   "metadata": {},
   "outputs": [
    {
     "data": {
      "text/plain": [
       "int"
      ]
     },
     "execution_count": 44,
     "metadata": {},
     "output_type": "execute_result"
    }
   ],
   "source": [
    "type(quot01)"
   ]
  },
  {
   "cell_type": "code",
   "execution_count": 43,
   "id": "949485b0-4496-4a30-b722-0eeb437cc311",
   "metadata": {},
   "outputs": [
    {
     "data": {
      "text/plain": [
       "1"
      ]
     },
     "execution_count": 43,
     "metadata": {},
     "output_type": "execute_result"
    }
   ],
   "source": [
    "rem01"
   ]
  },
  {
   "cell_type": "code",
   "execution_count": 47,
   "id": "b30ad285-5ed5-4300-afa1-efdea95ba13d",
   "metadata": {},
   "outputs": [
    {
     "data": {
      "text/plain": [
       "tuple"
      ]
     },
     "execution_count": 47,
     "metadata": {},
     "output_type": "execute_result"
    }
   ],
   "source": [
    "data1 = (1, 2, 3)\n",
    "type(data1)"
   ]
  },
  {
   "cell_type": "code",
   "execution_count": 48,
   "id": "bfa50378-e9fb-40cb-8138-ce9b1dca5412",
   "metadata": {},
   "outputs": [
    {
     "data": {
      "text/plain": [
       "[1, 2, 3]"
      ]
     },
     "execution_count": 48,
     "metadata": {},
     "output_type": "execute_result"
    }
   ],
   "source": [
    "list(data1)"
   ]
  }
 ],
 "metadata": {
  "kernelspec": {
   "display_name": "Python [conda env:base] *",
   "language": "python",
   "name": "conda-base-py"
  },
  "language_info": {
   "codemirror_mode": {
    "name": "ipython",
    "version": 3
   },
   "file_extension": ".py",
   "mimetype": "text/x-python",
   "name": "python",
   "nbconvert_exporter": "python",
   "pygments_lexer": "ipython3",
   "version": "3.13.5"
  }
 },
 "nbformat": 4,
 "nbformat_minor": 5
}
