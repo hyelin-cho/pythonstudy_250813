{
 "cells": [
  {
   "cell_type": "code",
   "execution_count": 2,
   "id": "32c820fe-8ac0-4307-a1a3-458fa9cde5cc",
   "metadata": {},
   "outputs": [
    {
     "name": "stdout",
     "output_type": "stream",
     "text": [
      "Teddy의 선물 블로그\n"
     ]
    }
   ],
   "source": [
    "from selenium import webdriver\n",
    "from selenium.webdriver.chrome.service import Service\n",
    "from selenium.webdriver.common.by import By\n",
    "from selenium.webdriver.common.keys import Keys\n",
    "from selenium.webdriver.chrome.options import Options\n",
    "from webdriver_manager.chrome import ChromeDriverManager\n",
    "import time\n",
    "import pyautogui\n",
    "\n",
    "service = Service(ChromeDriverManager().install())\n",
    "\n",
    "options = Options()\n",
    "options.add_argument(\"headless\")\n",
    "options.add_argument(\"window-size=1920x1080\")\n",
    "options.add_argument(\"--disable-gpu\")\n",
    "options.add_argument(\"Mozilla/5.0 (Macintosh; Intel Mac OS X 10_15_7) AppleWebKit/537.36 (KHTML, like Gecko) Chrome/138.0.0.0 Safari/537.36\")\n",
    "options.add_argument(\"lang=ko_KR\")\n",
    "\n",
    "driver = webdriver.Chrome(service = service, options = options)\n",
    "driver.get(\"https://davelee-fun.github.io\")\n",
    "\n",
    "element = driver.find_element(By.TAG_NAME, \"h1\")\n",
    "print(element.text)\n",
    "\n",
    "time.sleep(3)\n",
    "\n",
    "driver.quit()"
   ]
  },
  {
   "cell_type": "markdown",
   "id": "0df035d3-bf9f-4070-b91c-ffb2b69b99e7",
   "metadata": {},
   "source": [
    "#### 다음 웹 사이트에 접속해서 selenium을 활용해 크롤링 해오세요.\n",
    "- https://crawlingtest.netlify.app\n",
    "- 부모요소의 id 속성 값이 dev_course_list인 자식요소의 class가 course인 데이터만 출력해주세요."
   ]
  },
  {
   "cell_type": "code",
   "execution_count": 12,
   "id": "b0bcc356-e207-404e-92b6-b7c54b4a841b",
   "metadata": {},
   "outputs": [
    {
     "name": "stdout",
     "output_type": "stream",
     "text": [
      "(초급) - 강사가 실제 사용하는 자동 프로그램 소개 [2]\n",
      "(초급) - 필요한 프로그램 설치 시연 [5]\n",
      "(초급) - 데이터를 엑셀 파일로 만들기 [9]\n",
      "(초급) -     엑셀 파일 이쁘게! 이쁘게! [8]\n",
      "(초급) -     나대신 주기적으로 파이썬 프로그램 실행하기 [7]\n",
      "(초급) - 파이썬으로 슬랙(slack) 메신저에 글쓰기 [40]\n",
      "(초급) - 웹사이트 변경사항 주기적으로 체크해서, 메신저로 알람주기 [12]\n",
      "(초급) - 네이버 API 사용해서, 블로그에 글쓰기 [42]\n",
      "(중급) - 자동으로 쿠팡파트너스 API 로 가져온 상품 정보, 네이버 블로그/트위터에 홍보하기 [412]\n"
     ]
    }
   ],
   "source": [
    "from selenium import webdriver\n",
    "from selenium.webdriver.chrome.service import Service\n",
    "from selenium.webdriver.common.by import By\n",
    "from selenium.webdriver.common.keys import Keys\n",
    "from selenium.webdriver.chrome.options import Options\n",
    "from webdriver_manager.chrome import ChromeDriverManager\n",
    "import time\n",
    "import pyautogui\n",
    "\n",
    "service = Service(ChromeDriverManager().install())\n",
    "\n",
    "options = Options()\n",
    "options.add_argument(\"headless\")\n",
    "options.add_argument(\"window-size=1920x1080\")\n",
    "options.add_argument(\"--disable-gpu\")\n",
    "options.add_argument(\"Mozilla/5.0 (Macintosh; Intel Mac OS X 10_15_7) AppleWebKit/537.36 (KHTML, like Gecko) Chrome/138.0.0.0 Safari/537.36\")\n",
    "options.add_argument(\"lang=ko_KR\")\n",
    "\n",
    "driver = webdriver.Chrome(service = service, options = options)\n",
    "driver.get(\"https://crawlingtest.netlify.app/\")\n",
    "\n",
    "elements = driver.find_elements(By.CSS_SELECTOR, \"ul#dev_course_list > li.course\")\n",
    "\n",
    "for element in elements :\n",
    "    print(element.text)\n",
    "\n",
    "time.sleep(3)\n",
    "\n",
    "driver.quit()"
   ]
  },
  {
   "cell_type": "markdown",
   "id": "38fcf287-969f-4301-a3a7-e62c72a702b5",
   "metadata": {},
   "source": [
    "#### 다음 웹 사이트에 접속해서 selenium을 활용해 크롤링 해오세요.\n",
    "- https://crawlingtest.netlify.app\n",
    "- 해당 사이트 내 커리큘럼 일정 표 안에 있는 데이터를 모두 추출해서 출력해주세요."
   ]
  },
  {
   "cell_type": "code",
   "execution_count": 35,
   "id": "79a840d5-9493-4c0b-87e4-1af20be74cfd",
   "metadata": {},
   "outputs": [
    {
     "name": "stdout",
     "output_type": "stream",
     "text": [
      "일정\n",
      "커리큘럼 타이틀\n",
      "난이도\n",
      "5.1 ~ 6.15\n",
      "나만의 엣지있는 블로그 사이트 만들기 (취미로 익히는 IT)\n",
      "초급\n",
      "6.16 ~ 7.31\n",
      "파이썬과 데이터과학 첫걸음 (IT 기본기 익히기)\n",
      "중급\n"
     ]
    }
   ],
   "source": [
    "from selenium import webdriver\n",
    "from selenium.webdriver.chrome.service import Service\n",
    "from selenium.webdriver.common.by import By\n",
    "from selenium.webdriver.common.keys import Keys\n",
    "from selenium.webdriver.chrome.options import Options\n",
    "from webdriver_manager.chrome import ChromeDriverManager\n",
    "import time\n",
    "import pyautogui\n",
    "\n",
    "service = Service(ChromeDriverManager().install())\n",
    "\n",
    "options = Options()\n",
    "options.add_argument(\"headless\")\n",
    "options.add_argument(\"window-size=1920x1080\")\n",
    "options.add_argument(\"--disable-gpu\")\n",
    "options.add_argument(\"Mozilla/5.0 (Macintosh; Intel Mac OS X 10_15_7) AppleWebKit/537.36 (KHTML, like Gecko) Chrome/138.0.0.0 Safari/537.36\")\n",
    "options.add_argument(\"lang=ko_KR\")\n",
    "\n",
    "driver = webdriver.Chrome(service = service, options = options)\n",
    "driver.get(\"https://crawlingtest.netlify.app/\")\n",
    "\n",
    "# elements = driver.find_elements(By.TAG_NAME, \"td\")\n",
    "elements = driver.find_elements(By.CSS_SELECTOR, \"table tr td\")\n",
    "\n",
    "for element in elements :\n",
    "    print(element.text)\n",
    "    \n",
    "time.sleep(3)\n",
    "\n",
    "driver.quit()"
   ]
  },
  {
   "cell_type": "markdown",
   "id": "8cd08dd8-37df-4aa3-8b20-88cb2a9d5d22",
   "metadata": {},
   "source": [
    "#### 다음 웹 사이트에 접속해서 selenium을 활용해 크롤링 해오세요.\n",
    "- https://crawlingtest.netlify.app\n",
    "- 아래 데이터만 추출해오세요.\n",
    "- (중급) - 자동으로 쿠팡파트너스 API 로 가져온 상품 정보, 네이버 블로그/트위터에 홍보하기 [412]"
   ]
  },
  {
   "cell_type": "code",
   "execution_count": 57,
   "id": "6a9a7780-ef1c-42d6-8850-c2f24b4e8c5b",
   "metadata": {},
   "outputs": [
    {
     "name": "stdout",
     "output_type": "stream",
     "text": [
      "(중급) - 자동으로 쿠팡파트너스 API 로 가져온 상품 정보, 네이버 블로그/트위터에 홍보하기 [412]\n"
     ]
    }
   ],
   "source": [
    "from selenium import webdriver\n",
    "from selenium.webdriver.chrome.service import Service\n",
    "from selenium.webdriver.common.by import By\n",
    "from selenium.webdriver.common.keys import Keys\n",
    "from selenium.webdriver.chrome.options import Options\n",
    "from webdriver_manager.chrome import ChromeDriverManager\n",
    "import time\n",
    "import pyautogui\n",
    "\n",
    "service = Service(ChromeDriverManager().install())\n",
    "\n",
    "options = Options()\n",
    "options.add_argument(\"headless\")\n",
    "options.add_argument(\"window-size=1920x1080\")\n",
    "options.add_argument(\"--disable-gpu\")\n",
    "options.add_argument(\"Mozilla/5.0 (Macintosh; Intel Mac OS X 10_15_7) AppleWebKit/537.36 (KHTML, like Gecko) Chrome/138.0.0.0 Safari/537.36\")\n",
    "options.add_argument(\"lang=ko_KR\")\n",
    "\n",
    "driver = webdriver.Chrome(service = service, options = options)\n",
    "driver.get(\"https://crawlingtest.netlify.app/\")\n",
    "\n",
    "elements = driver.find_elements(By.CSS_SELECTOR, \"ul#dev_course_list > li.course\")\n",
    "\n",
    "# for element in elements :\n",
    "#     print(element.text)\n",
    "\n",
    "print(elements[8].text)\n",
    "    \n",
    "time.sleep(3)\n",
    "\n",
    "driver.quit()"
   ]
  },
  {
   "cell_type": "markdown",
   "id": "d2db7abd-7bc0-4cbb-b366-b537f8e99b78",
   "metadata": {},
   "source": [
    "#### 다음 웹 사이트에 접속해서 selenium을 활용해 크롤링 해오세요.\n",
    "- https://divjason.github.io/sellenium-test/\n",
    "- class 값이 \"news\"인 요소의 태그 내용을 찾아서 출력"
   ]
  },
  {
   "cell_type": "code",
   "execution_count": 110,
   "id": "38a09c8e-b33b-4fd8-96a1-1b530882a453",
   "metadata": {},
   "outputs": [
    {
     "name": "stdout",
     "output_type": "stream",
     "text": [
      "뉴스: 머신러닝 강좌가 나왔어요~~~\n"
     ]
    }
   ],
   "source": [
    "from selenium import webdriver\n",
    "from selenium.webdriver.chrome.service import Service\n",
    "from selenium.webdriver.common.by import By\n",
    "from selenium.webdriver.common.keys import Keys\n",
    "from selenium.webdriver.chrome.options import Options\n",
    "from webdriver_manager.chrome import ChromeDriverManager\n",
    "import time\n",
    "import pyautogui\n",
    "\n",
    "service = Service(ChromeDriverManager().install())\n",
    "\n",
    "options = Options()\n",
    "options.add_argument(\"headless\")\n",
    "options.add_argument(\"window-size=1920x1080\")\n",
    "options.add_argument(\"--disable-gpu\")\n",
    "options.add_argument(\"Mozilla/5.0 (Macintosh; Intel Mac OS X 10_15_7) AppleWebKit/537.36 (KHTML, like Gecko) Chrome/138.0.0.0 Safari/537.36\")\n",
    "options.add_argument(\"lang=ko_KR\")\n",
    "\n",
    "driver = webdriver.Chrome(service = service, options = options)\n",
    "driver.get(\"https://divjason.github.io/sellenium-test/\")\n",
    "\n",
    "element = driver.find_element(By.CSS_SELECTOR, \"span.news\")\n",
    "print(element.text)\n",
    "    \n",
    "time.sleep(3)\n",
    "\n",
    "driver.quit()"
   ]
  },
  {
   "cell_type": "markdown",
   "id": "1d65484c-d1f2-485d-ba00-2ccff4746860",
   "metadata": {},
   "source": [
    "#### 다음 웹 사이트에 접속해서 selenium을 활용해 크롤링 해오세요.\n",
    "- https://divjason.github.io/sellenium-test/\n",
    "- input 태그 요소에 아이디 error@error.com / 비밀번호 1234 입력 후 로그인 버튼 자동으로 클릭하기\n",
    "- 클릭 이후 이동한 페이지에서 message 라는 클래스 속성값을 가지고 있는 요소의 텍스트 정보를 출력"
   ]
  },
  {
   "cell_type": "code",
   "execution_count": 122,
   "id": "5a7223dd-e178-475b-a58f-b69737dea1ab",
   "metadata": {},
   "outputs": [],
   "source": [
    "from selenium import webdriver\n",
    "from selenium.webdriver.chrome.service import Service\n",
    "from selenium.webdriver.common.by import By\n",
    "from selenium.webdriver.common.keys import Keys\n",
    "from selenium.webdriver.chrome.options import Options\n",
    "from webdriver_manager.chrome import ChromeDriverManager\n",
    "import time\n",
    "import pyautogui\n",
    "\n",
    "service = Service(ChromeDriverManager().install())\n",
    "\n",
    "options = Options()\n",
    "# options.add_argument(\"headless\")\n",
    "options.add_argument(\"window-size=1920x1080\")\n",
    "options.add_argument(\"--disable-gpu\")\n",
    "options.add_argument(\"Mozilla/5.0 (Macintosh; Intel Mac OS X 10_15_7) AppleWebKit/537.36 (KHTML, like Gecko) Chrome/138.0.0.0 Safari/537.36\") #--User-agent= 윈도우 버전. 추가하면 헤드리스랑 겹쳐서 사용가능\n",
    "options.add_argument(\"lang=ko_KR\")\n",
    "\n",
    "driver = webdriver.Chrome(service = service, options = options)\n",
    "driver.get(\"https://divjason.github.io/sellenium-test/\")\n",
    "\n",
    "# 내가 한 거\n",
    "# element = driver.find_element(By.NAME, \"username\")\n",
    "# element.clear()\n",
    "# element.send_keys(\"error@error.com\")\n",
    "\n",
    "# element = driver.find_element(By.NAME, \"password\")\n",
    "# element.clear() # 초기화 먼저\n",
    "# element.send_keys(\"1234\")\n",
    "\n",
    "# element.send_keys(Keys.ENTER) # RETURN과 ENTER가 똑같음\n",
    "\n",
    "# 쌤 꺼\n",
    "element = driver.find_element(By.ID, \"username\")\n",
    "element.clear()\n",
    "element.send_keys(\"error@error.com\")\n",
    "\n",
    "element = driver.find_element(By.ID, \"password\")\n",
    "element.clear()\n",
    "element.send_keys(\"1234\")\n",
    "\n",
    "time.sleep(5)\n",
    "\n",
    "# element.send_keys(Keys.RETURN) # 이거 안먹는 사이트 무조건 있음. -> 명확한 버튼 값을 찾아와서 -- . 이건 야매\n",
    "element = driver.find_element(By.CSS_SELECTOR, \"input[type='submit']\") # 속성 선택자\n",
    "element.click() # 얘가 정석. \n",
    "\n",
    "time.sleep(5)\n",
    "\n",
    "driver.quit()"
   ]
  },
  {
   "cell_type": "markdown",
   "id": "088e8321-7b3a-4736-a43f-d81b45253ea7",
   "metadata": {},
   "source": [
    "#### 다음 웹 사이트에 접속해서 selenium을 활용해 크롤링 해오세요.\n",
    "- https://divjason.github.io/sellenium-test/\n",
    "- input 태그 요소에 아이디 error@error.com / 비밀번호 1234 입력 후 로그인 버튼 자동으로\n",
    "  클릭 이후 이동한 페이지에서 message 라는 클래스 속성값을 가지고 있는 요소의 텍스트 정보를 출력"
   ]
  },
  {
   "cell_type": "code",
   "execution_count": 125,
   "id": "30f86933-e2d8-44cc-b07e-d97de472aaa1",
   "metadata": {},
   "outputs": [
    {
     "name": "stdout",
     "output_type": "stream",
     "text": [
      "실제 사이트는 https://megaitlab.com/ 입니다\n",
      "본 페이지는 로그인된 페이지입니다!\n",
      "뉴스: 머신러닝 강좌가 나왔어요~~~\n"
     ]
    }
   ],
   "source": [
    "from selenium import webdriver\n",
    "from selenium.webdriver.chrome.service import Service\n",
    "from selenium.webdriver.common.by import By\n",
    "from selenium.webdriver.common.keys import Keys\n",
    "from selenium.webdriver.chrome.options import Options\n",
    "from webdriver_manager.chrome import ChromeDriverManager\n",
    "import time\n",
    "import pyautogui\n",
    "\n",
    "service = Service(ChromeDriverManager().install())\n",
    "\n",
    "options = Options()\n",
    "# options.add_argument(\"headless\")\n",
    "options.add_argument(\"window-size=1920x1080\")\n",
    "options.add_argument(\"--disable-gpu\")\n",
    "options.add_argument(\"Mozilla/5.0 (Macintosh; Intel Mac OS X 10_15_7) AppleWebKit/537.36 (KHTML, like Gecko) Chrome/138.0.0.0 Safari/537.36\") #--User-agent= 윈도우 버전. 추가하면 헤드리스랑 겹쳐서 사용가능\n",
    "options.add_argument(\"lang=ko_KR\")\n",
    "\n",
    "driver = webdriver.Chrome(service = service, options = options)\n",
    "driver.get(\"https://divjason.github.io/sellenium-test/\")\n",
    "\n",
    "# 내가 한 거\n",
    "# element = driver.find_element(By.NAME, \"username\")\n",
    "# element.clear()\n",
    "# element.send_keys(\"error@error.com\")\n",
    "\n",
    "# element = driver.find_element(By.NAME, \"password\")\n",
    "# element.clear() # 초기화 먼저\n",
    "# element.send_keys(\"1234\")\n",
    "\n",
    "# element.send_keys(Keys.ENTER) # RETURN과 ENTER가 똑같음\n",
    "\n",
    "# 쌤 꺼\n",
    "element = driver.find_element(By.ID, \"username\")\n",
    "element.clear()\n",
    "element.send_keys(\"error@error.com\")\n",
    "\n",
    "element = driver.find_element(By.ID, \"password\")\n",
    "element.clear()\n",
    "element.send_keys(\"1234\")\n",
    "\n",
    "time.sleep(3)\n",
    "\n",
    "element = driver.find_element(By.CSS_SELECTOR, \"input[type='submit']\")\n",
    "element.click()\n",
    "\n",
    "time.sleep(3)\n",
    "\n",
    "element = driver.find_element(By.CSS_SELECTOR, \"div.message\")\n",
    "print(element.text)\n",
    "\n",
    "driver.quit()"
   ]
  },
  {
   "cell_type": "markdown",
   "id": "bb6bbb16-0256-45a9-8749-c65833b8bdd0",
   "metadata": {},
   "source": [
    "#### 다음 웹 사이트에 접속해서 selenium을 활용해 크롤링 해오세요.\n",
    "- https://divjason.github.io/sellenium-test/\n",
    "- input 태그 요소에 아이디 error@error.com / 비밀번호 1234 입력 후 로그인 버튼 자동으로\n",
    "  클릭 이후 이동한 페이지에서 message 라는 클래스 속성값을 가지고 있는 요소의 텍스트 정보를 출력\n",
    "- 해당 페이지에서 로그아웃 버튼을 클릭 후 이동한 페이지에서 다시 message 라는 클래스 속성값을 가지고 있는 요소의 텍스트 정보를 출력"
   ]
  },
  {
   "cell_type": "code",
   "execution_count": 1,
   "id": "98e9ae88-a2b1-4d64-a4c4-16a125c54cca",
   "metadata": {},
   "outputs": [
    {
     "ename": "WebDriverException",
     "evalue": "Message: Service /Users/hyelincho/.wdm/drivers/chromedriver/mac64/138.0.7204.168/chromedriver-mac-arm64/chromedriver unexpectedly exited. Status code was: -9\n",
     "output_type": "error",
     "traceback": [
      "\u001b[0;31m---------------------------------------------------------------------------\u001b[0m",
      "\u001b[0;31mWebDriverException\u001b[0m                        Traceback (most recent call last)",
      "Cell \u001b[0;32mIn[1], line 19\u001b[0m\n\u001b[1;32m     16\u001b[0m options\u001b[38;5;241m.\u001b[39madd_argument(\u001b[38;5;124m\"\u001b[39m\u001b[38;5;124mMozilla/5.0 (Macintosh; Intel Mac OS X 10_15_7) AppleWebKit/537.36 (KHTML, like Gecko) Chrome/138.0.0.0 Safari/537.36\u001b[39m\u001b[38;5;124m\"\u001b[39m) \u001b[38;5;66;03m#--User-agent= 윈도우 버전. 추가하면 헤드리스랑 겹쳐서 사용가능\u001b[39;00m\n\u001b[1;32m     17\u001b[0m options\u001b[38;5;241m.\u001b[39madd_argument(\u001b[38;5;124m\"\u001b[39m\u001b[38;5;124mlang=ko_KR\u001b[39m\u001b[38;5;124m\"\u001b[39m)\n\u001b[0;32m---> 19\u001b[0m driver \u001b[38;5;241m=\u001b[39m webdriver\u001b[38;5;241m.\u001b[39mChrome(service \u001b[38;5;241m=\u001b[39m service, options \u001b[38;5;241m=\u001b[39m options)\n\u001b[1;32m     20\u001b[0m driver\u001b[38;5;241m.\u001b[39mget(\u001b[38;5;124m\"\u001b[39m\u001b[38;5;124mhttps://divjason.github.io/sellenium-test/\u001b[39m\u001b[38;5;124m\"\u001b[39m)\n\u001b[1;32m     22\u001b[0m element \u001b[38;5;241m=\u001b[39m driver\u001b[38;5;241m.\u001b[39mfind_element(By\u001b[38;5;241m.\u001b[39mID, \u001b[38;5;124m\"\u001b[39m\u001b[38;5;124musername\u001b[39m\u001b[38;5;124m\"\u001b[39m)\n",
      "File \u001b[0;32m/opt/anaconda3/lib/python3.13/site-packages/selenium/webdriver/chrome/webdriver.py:47\u001b[0m, in \u001b[0;36mWebDriver.__init__\u001b[0;34m(self, options, service, keep_alive)\u001b[0m\n\u001b[1;32m     44\u001b[0m service \u001b[38;5;241m=\u001b[39m service \u001b[38;5;28;01mif\u001b[39;00m service \u001b[38;5;28;01melse\u001b[39;00m Service()\n\u001b[1;32m     45\u001b[0m options \u001b[38;5;241m=\u001b[39m options \u001b[38;5;28;01mif\u001b[39;00m options \u001b[38;5;28;01melse\u001b[39;00m Options()\n\u001b[0;32m---> 47\u001b[0m \u001b[38;5;28msuper\u001b[39m()\u001b[38;5;241m.\u001b[39m\u001b[38;5;21m__init__\u001b[39m(\n\u001b[1;32m     48\u001b[0m     browser_name\u001b[38;5;241m=\u001b[39mDesiredCapabilities\u001b[38;5;241m.\u001b[39mCHROME[\u001b[38;5;124m\"\u001b[39m\u001b[38;5;124mbrowserName\u001b[39m\u001b[38;5;124m\"\u001b[39m],\n\u001b[1;32m     49\u001b[0m     vendor_prefix\u001b[38;5;241m=\u001b[39m\u001b[38;5;124m\"\u001b[39m\u001b[38;5;124mgoog\u001b[39m\u001b[38;5;124m\"\u001b[39m,\n\u001b[1;32m     50\u001b[0m     options\u001b[38;5;241m=\u001b[39moptions,\n\u001b[1;32m     51\u001b[0m     service\u001b[38;5;241m=\u001b[39mservice,\n\u001b[1;32m     52\u001b[0m     keep_alive\u001b[38;5;241m=\u001b[39mkeep_alive,\n\u001b[1;32m     53\u001b[0m )\n",
      "File \u001b[0;32m/opt/anaconda3/lib/python3.13/site-packages/selenium/webdriver/chromium/webdriver.py:58\u001b[0m, in \u001b[0;36mChromiumDriver.__init__\u001b[0;34m(self, browser_name, vendor_prefix, options, service, keep_alive)\u001b[0m\n\u001b[1;32m     55\u001b[0m     options\u001b[38;5;241m.\u001b[39mbrowser_version \u001b[38;5;241m=\u001b[39m \u001b[38;5;28;01mNone\u001b[39;00m\n\u001b[1;32m     57\u001b[0m \u001b[38;5;28mself\u001b[39m\u001b[38;5;241m.\u001b[39mservice\u001b[38;5;241m.\u001b[39mpath \u001b[38;5;241m=\u001b[39m \u001b[38;5;28mself\u001b[39m\u001b[38;5;241m.\u001b[39mservice\u001b[38;5;241m.\u001b[39menv_path() \u001b[38;5;129;01mor\u001b[39;00m finder\u001b[38;5;241m.\u001b[39mget_driver_path()\n\u001b[0;32m---> 58\u001b[0m \u001b[38;5;28mself\u001b[39m\u001b[38;5;241m.\u001b[39mservice\u001b[38;5;241m.\u001b[39mstart()\n\u001b[1;32m     60\u001b[0m executor \u001b[38;5;241m=\u001b[39m ChromiumRemoteConnection(\n\u001b[1;32m     61\u001b[0m     remote_server_addr\u001b[38;5;241m=\u001b[39m\u001b[38;5;28mself\u001b[39m\u001b[38;5;241m.\u001b[39mservice\u001b[38;5;241m.\u001b[39mservice_url,\n\u001b[1;32m     62\u001b[0m     browser_name\u001b[38;5;241m=\u001b[39mbrowser_name,\n\u001b[0;32m   (...)\u001b[0m\n\u001b[1;32m     65\u001b[0m     ignore_proxy\u001b[38;5;241m=\u001b[39moptions\u001b[38;5;241m.\u001b[39m_ignore_local_proxy,\n\u001b[1;32m     66\u001b[0m )\n\u001b[1;32m     68\u001b[0m \u001b[38;5;28;01mtry\u001b[39;00m:\n",
      "File \u001b[0;32m/opt/anaconda3/lib/python3.13/site-packages/selenium/webdriver/common/service.py:108\u001b[0m, in \u001b[0;36mService.start\u001b[0;34m(self)\u001b[0m\n\u001b[1;32m    106\u001b[0m count \u001b[38;5;241m=\u001b[39m \u001b[38;5;241m0\u001b[39m\n\u001b[1;32m    107\u001b[0m \u001b[38;5;28;01mwhile\u001b[39;00m \u001b[38;5;28;01mTrue\u001b[39;00m:\n\u001b[0;32m--> 108\u001b[0m     \u001b[38;5;28mself\u001b[39m\u001b[38;5;241m.\u001b[39massert_process_still_running()\n\u001b[1;32m    109\u001b[0m     \u001b[38;5;28;01mif\u001b[39;00m \u001b[38;5;28mself\u001b[39m\u001b[38;5;241m.\u001b[39mis_connectable():\n\u001b[1;32m    110\u001b[0m         \u001b[38;5;28;01mbreak\u001b[39;00m\n",
      "File \u001b[0;32m/opt/anaconda3/lib/python3.13/site-packages/selenium/webdriver/common/service.py:121\u001b[0m, in \u001b[0;36mService.assert_process_still_running\u001b[0;34m(self)\u001b[0m\n\u001b[1;32m    119\u001b[0m return_code \u001b[38;5;241m=\u001b[39m \u001b[38;5;28mself\u001b[39m\u001b[38;5;241m.\u001b[39mprocess\u001b[38;5;241m.\u001b[39mpoll()\n\u001b[1;32m    120\u001b[0m \u001b[38;5;28;01mif\u001b[39;00m return_code:\n\u001b[0;32m--> 121\u001b[0m     \u001b[38;5;28;01mraise\u001b[39;00m WebDriverException(\u001b[38;5;124mf\u001b[39m\u001b[38;5;124m\"\u001b[39m\u001b[38;5;124mService \u001b[39m\u001b[38;5;132;01m{\u001b[39;00m\u001b[38;5;28mself\u001b[39m\u001b[38;5;241m.\u001b[39m_path\u001b[38;5;132;01m}\u001b[39;00m\u001b[38;5;124m unexpectedly exited. Status code was: \u001b[39m\u001b[38;5;132;01m{\u001b[39;00mreturn_code\u001b[38;5;132;01m}\u001b[39;00m\u001b[38;5;124m\"\u001b[39m)\n",
      "\u001b[0;31mWebDriverException\u001b[0m: Message: Service /Users/hyelincho/.wdm/drivers/chromedriver/mac64/138.0.7204.168/chromedriver-mac-arm64/chromedriver unexpectedly exited. Status code was: -9\n"
     ]
    }
   ],
   "source": [
    "from selenium import webdriver\n",
    "from selenium.webdriver.chrome.service import Service\n",
    "from selenium.webdriver.common.by import By\n",
    "from selenium.webdriver.common.keys import Keys\n",
    "from selenium.webdriver.chrome.options import Options\n",
    "from webdriver_manager.chrome import ChromeDriverManager\n",
    "import time\n",
    "import pyautogui\n",
    "\n",
    "service = Service(ChromeDriverManager().install())\n",
    "\n",
    "options = Options()\n",
    "# options.add_argument(\"headless\")\n",
    "options.add_argument(\"window-size=1920x1080\")\n",
    "options.add_argument(\"--disable-gpu\")\n",
    "options.add_argument(\"Mozilla/5.0 (Macintosh; Intel Mac OS X 10_15_7) AppleWebKit/537.36 (KHTML, like Gecko) Chrome/138.0.0.0 Safari/537.36\") #--User-agent= 윈도우 버전. 추가하면 헤드리스랑 겹쳐서 사용가능\n",
    "options.add_argument(\"lang=ko_KR\")\n",
    "\n",
    "driver = webdriver.Chrome(service = service, options = options)\n",
    "driver.get(\"https://divjason.github.io/sellenium-test/\")\n",
    "\n",
    "element = driver.find_element(By.ID, \"username\")\n",
    "element.clear()\n",
    "element.send_keys(\"error@error.com\")\n",
    "\n",
    "element = driver.find_element(By.ID, \"password\")\n",
    "element.clear()\n",
    "element.send_keys(\"1234\")\n",
    "\n",
    "time.sleep(3)\n",
    "\n",
    "element = driver.find_element(By.CSS_SELECTOR, \"input[type='submit']\")\n",
    "element.click()\n",
    "\n",
    "time.sleep(3)\n",
    "\n",
    "element = driver.find_element(By.CSS_SELECTOR, \"div.message\")\n",
    "\n",
    "element = driver.find_element(By.CSS_SELECTOR, \"input[type='submit']\")\n",
    "element.click()\n",
    "\n",
    "time.sleep(3)\n",
    "\n",
    "element = driver.find_element(By.CSS_SELECTOR, \"div.message\")\n",
    "print(element.text)\n",
    "\n",
    "driver.quit()"
   ]
  }
 ],
 "metadata": {
  "kernelspec": {
   "display_name": "Python [conda env:base] *",
   "language": "python",
   "name": "conda-base-py"
  },
  "language_info": {
   "codemirror_mode": {
    "name": "ipython",
    "version": 3
   },
   "file_extension": ".py",
   "mimetype": "text/x-python",
   "name": "python",
   "nbconvert_exporter": "python",
   "pygments_lexer": "ipython3",
   "version": "3.13.5"
  }
 },
 "nbformat": 4,
 "nbformat_minor": 5
}
