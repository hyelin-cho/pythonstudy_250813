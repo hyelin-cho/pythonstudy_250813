{
 "cells": [
  {
   "cell_type": "code",
   "execution_count": 3,
   "id": "6ba2f296-d664-413a-b702-24102dde5ca9",
   "metadata": {},
   "outputs": [
    {
     "name": "stdout",
     "output_type": "stream",
     "text": [
      "Requirement already satisfied: selenium in /opt/anaconda3/lib/python3.13/site-packages (4.34.2)\n",
      "Requirement already satisfied: webdriver_manager in /opt/anaconda3/lib/python3.13/site-packages (4.0.2)\n",
      "Requirement already satisfied: urllib3~=2.5.0 in /opt/anaconda3/lib/python3.13/site-packages (from urllib3[socks]~=2.5.0->selenium) (2.5.0)\n",
      "Requirement already satisfied: trio~=0.30.0 in /opt/anaconda3/lib/python3.13/site-packages (from selenium) (0.30.0)\n",
      "Requirement already satisfied: trio-websocket~=0.12.2 in /opt/anaconda3/lib/python3.13/site-packages (from selenium) (0.12.2)\n",
      "Requirement already satisfied: certifi>=2025.6.15 in /opt/anaconda3/lib/python3.13/site-packages (from selenium) (2025.6.15)\n",
      "Requirement already satisfied: typing_extensions~=4.14.0 in /opt/anaconda3/lib/python3.13/site-packages (from selenium) (4.14.1)\n",
      "Requirement already satisfied: websocket-client~=1.8.0 in /opt/anaconda3/lib/python3.13/site-packages (from selenium) (1.8.0)\n",
      "Requirement already satisfied: attrs>=23.2.0 in /opt/anaconda3/lib/python3.13/site-packages (from trio~=0.30.0->selenium) (24.3.0)\n",
      "Requirement already satisfied: sortedcontainers in /opt/anaconda3/lib/python3.13/site-packages (from trio~=0.30.0->selenium) (2.4.0)\n",
      "Requirement already satisfied: idna in /opt/anaconda3/lib/python3.13/site-packages (from trio~=0.30.0->selenium) (3.7)\n",
      "Requirement already satisfied: outcome in /opt/anaconda3/lib/python3.13/site-packages (from trio~=0.30.0->selenium) (1.3.0.post0)\n",
      "Requirement already satisfied: sniffio>=1.3.0 in /opt/anaconda3/lib/python3.13/site-packages (from trio~=0.30.0->selenium) (1.3.0)\n",
      "Requirement already satisfied: wsproto>=0.14 in /opt/anaconda3/lib/python3.13/site-packages (from trio-websocket~=0.12.2->selenium) (1.2.0)\n",
      "Requirement already satisfied: pysocks!=1.5.7,<2.0,>=1.5.6 in /opt/anaconda3/lib/python3.13/site-packages (from urllib3[socks]~=2.5.0->selenium) (1.7.1)\n",
      "Requirement already satisfied: requests in /opt/anaconda3/lib/python3.13/site-packages (from webdriver_manager) (2.32.3)\n",
      "Requirement already satisfied: python-dotenv in /opt/anaconda3/lib/python3.13/site-packages (from webdriver_manager) (1.1.0)\n",
      "Requirement already satisfied: packaging in /opt/anaconda3/lib/python3.13/site-packages (from webdriver_manager) (24.2)\n",
      "Requirement already satisfied: h11<1,>=0.9.0 in /opt/anaconda3/lib/python3.13/site-packages (from wsproto>=0.14->trio-websocket~=0.12.2->selenium) (0.16.0)\n",
      "Requirement already satisfied: charset-normalizer<4,>=2 in /opt/anaconda3/lib/python3.13/site-packages (from requests->webdriver_manager) (3.3.2)\n"
     ]
    }
   ],
   "source": [
    "!pip install selenium webdriver_manager"
   ]
  },
  {
   "cell_type": "code",
   "execution_count": 14,
   "id": "b69b7aac-9404-44a3-88fe-3b104ecd59e2",
   "metadata": {},
   "outputs": [
    {
     "name": "stdout",
     "output_type": "stream",
     "text": [
      "Teddy의 선물 블로그\n"
     ]
    }
   ],
   "source": [
    "from selenium import webdriver\n",
    "from selenium.webdriver.chrome.service import Service\n",
    "from selenium.webdriver.common.by import By\n",
    "from webdriver_manager.chrome import ChromeDriverManager\n",
    "import time\n",
    "\n",
    "service = Service(ChromeDriverManager().install())\n",
    "driver = webdriver.Chrome(service=service)\n",
    "\n",
    "driver.get(\"http://davelee-fun.github.io/\")\n",
    "\n",
    "# print(driver.title)\n",
    "# print(driver.current_url)\n",
    "\n",
    "# assert \"Teddy의 선물 블로그\" in driver.title # 찾아온 데이터가 있는지 없는지 단언 -> 아니라고 하면 에러. 문제 없으면 지워도 상관없음\n",
    "\n",
    "element = driver.find_element(By.TAG_NAME, \"h1\")\n",
    "print(element.text)\n",
    "\n",
    "time.sleep(1)\n",
    "\n",
    "driver.quit()"
   ]
  },
  {
   "cell_type": "code",
   "execution_count": 17,
   "id": "efa2dda6-40c2-4032-9b3b-2c9972226e2f",
   "metadata": {},
   "outputs": [
    {
     "name": "stdout",
     "output_type": "stream",
     "text": [
      "상품명: 보몽드 순면스퀘어 솔리드 누빔매트커버, 다크블루\n",
      "상품명: 슈에뜨룸 선인장 리플 침구 세트, 베이지\n",
      "상품명: 선우랜드 레인보우 2단 문걸이용 옷걸이 _중형, 화이트, 상세페이지참조\n",
      "상품명: 보드래 헬로우 누빔 매트리스커버, 핑크\n",
      "상품명: 보드래 퍼펙트 누빔 매트리스커버, 차콜\n",
      "상품명: 피아블 클래식 방수 매트리스커버, 화이트\n",
      "상품명: 더자리 에코항균 마이크로 매트리스커버, 밀키차콜그레이\n",
      "상품명: 더자리 프레쉬 퓨어 매트리스 커버, 퓨어 차콜그레이\n",
      "상품명: 몽쉐어 알러스킨 항균 매트리스 커버, 카키그레이\n",
      "상품명: 쿠팡 브랜드 - 코멧 홈 40수 트윌 순면 100% 홑겹 매트리스커버, 그레이\n",
      "상품명: 패브릭아트 항균 마이크로 원단 매트리스 커버, 아이보리\n",
      "상품명: 바숨 순면 누빔 침대 매트리스커버, 차콜\n",
      "상품명: WEMAX 다용도 문옷걸이, 화이트, 1개\n",
      "상품명: 타카타카 프리미엄 나노 화이바 누빔 매트리스 커버, 젠틀핑핑\n",
      "상품명: 보몽드 순면스퀘어 누빔매트커버, 다크그레이\n",
      "상품명: 보드래 국내산 순면 60수 누빔 매트리스커버, 그레이\n"
     ]
    }
   ],
   "source": [
    "from selenium import webdriver # 속도 면에서 월등히 뛰어나다\n",
    "from selenium.webdriver.chrome.service import Service\n",
    "from selenium.webdriver.common.by import By\n",
    "from webdriver_manager.chrome import ChromeDriverManager\n",
    "import time\n",
    "\n",
    "service = Service(ChromeDriverManager().install())\n",
    "driver = webdriver.Chrome(service=service)\n",
    "\n",
    "driver.get(\"http://davelee-fun.github.io/\")\n",
    "\n",
    "\n",
    "elements = driver.find_elements(By.TAG_NAME, \"h4\")\n",
    "\n",
    "for element in elements :\n",
    "    print(element.text)\n",
    "\n",
    "time.sleep(1)\n",
    "\n",
    "driver.quit()"
   ]
  },
  {
   "cell_type": "code",
   "execution_count": 19,
   "id": "390990ad-7be7-4338-93e3-8b980f62ee02",
   "metadata": {},
   "outputs": [
    {
     "name": "stdout",
     "output_type": "stream",
     "text": [
      "Blog\n",
      "About\n"
     ]
    }
   ],
   "source": [
    "# ID 값 찾아오기 \n",
    "from selenium import webdriver\n",
    "from selenium.webdriver.chrome.service import Service\n",
    "from selenium.webdriver.common.by import By\n",
    "from webdriver_manager.chrome import ChromeDriverManager\n",
    "import time\n",
    "\n",
    "service = Service(ChromeDriverManager().install())\n",
    "driver = webdriver.Chrome(service=service)\n",
    "\n",
    "driver.get(\"http://davelee-fun.github.io/\")\n",
    "\n",
    "\n",
    "# element = driver.find_element(By.ID, \"navbarMediumish\")\n",
    "# print(element.text)\n",
    "\n",
    "elements = driver.find_elements(By.ID, \"navbarMediumish\")\n",
    "for element in elements :\n",
    "    print(element.text)\n",
    "\n",
    "time.sleep(1)\n",
    "\n",
    "driver.quit()"
   ]
  }
 ],
 "metadata": {
  "kernelspec": {
   "display_name": "Python [conda env:base] *",
   "language": "python",
   "name": "conda-base-py"
  },
  "language_info": {
   "codemirror_mode": {
    "name": "ipython",
    "version": 3
   },
   "file_extension": ".py",
   "mimetype": "text/x-python",
   "name": "python",
   "nbconvert_exporter": "python",
   "pygments_lexer": "ipython3",
   "version": "3.13.5"
  }
 },
 "nbformat": 4,
 "nbformat_minor": 5
}
