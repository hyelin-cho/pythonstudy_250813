{
 "cells": [
  {
   "cell_type": "code",
   "execution_count": 1,
   "id": "677a71df-2722-4bf3-b10c-ac6195eb7121",
   "metadata": {},
   "outputs": [
    {
     "ename": "NoSuchElementException",
     "evalue": "Message: no such element: Unable to locate element: {\"method\":\"xpath\",\"selector\":\"//input[@id='username']\"}\n  (Session info: chrome=139.0.7258.128); For documentation on this error, please visit: https://www.selenium.dev/documentation/webdriver/troubleshooting/errors#nosuchelementexception\nStacktrace:\n0   chromedriver                        0x0000000100b4b26c cxxbridge1$str$ptr + 2741972\n1   chromedriver                        0x0000000100b431dc cxxbridge1$str$ptr + 2709060\n2   chromedriver                        0x000000010068d4fc cxxbridge1$string$len + 90520\n3   chromedriver                        0x00000001006d4a14 cxxbridge1$string$len + 382640\n4   chromedriver                        0x0000000100715db8 cxxbridge1$string$len + 649812\n5   chromedriver                        0x00000001006c8d30 cxxbridge1$string$len + 334284\n6   chromedriver                        0x0000000100b0e66c cxxbridge1$str$ptr + 2493140\n7   chromedriver                        0x0000000100b118a0 cxxbridge1$str$ptr + 2505992\n8   chromedriver                        0x0000000100aef4a4 cxxbridge1$str$ptr + 2365708\n9   chromedriver                        0x0000000100b1215c cxxbridge1$str$ptr + 2508228\n10  chromedriver                        0x0000000100ae059c cxxbridge1$str$ptr + 2304516\n11  chromedriver                        0x0000000100b31c78 cxxbridge1$str$ptr + 2638048\n12  chromedriver                        0x0000000100b31e04 cxxbridge1$str$ptr + 2638444\n13  chromedriver                        0x0000000100b42e28 cxxbridge1$str$ptr + 2708112\n14  libsystem_pthread.dylib             0x0000000198a47c0c _pthread_start + 136\n15  libsystem_pthread.dylib             0x0000000198a42b80 thread_start + 8\n",
     "output_type": "error",
     "traceback": [
      "\u001b[0;31m---------------------------------------------------------------------------\u001b[0m",
      "\u001b[0;31mNoSuchElementException\u001b[0m                    Traceback (most recent call last)",
      "Cell \u001b[0;32mIn[1], line 25\u001b[0m\n\u001b[1;32m     22\u001b[0m driver \u001b[38;5;241m=\u001b[39m webdriver\u001b[38;5;241m.\u001b[39mChrome(service\u001b[38;5;241m=\u001b[39mservice, options\u001b[38;5;241m=\u001b[39moptions)\n\u001b[1;32m     23\u001b[0m driver\u001b[38;5;241m.\u001b[39mget(\u001b[38;5;124m\"\u001b[39m\u001b[38;5;124mhttps://www.musinsa.com\u001b[39m\u001b[38;5;124m\"\u001b[39m)\n\u001b[0;32m---> 25\u001b[0m element \u001b[38;5;241m=\u001b[39m driver\u001b[38;5;241m.\u001b[39mfind_element(By\u001b[38;5;241m.\u001b[39mXPATH, \u001b[38;5;124m\"\u001b[39m\u001b[38;5;124m//input[@id=\u001b[39m\u001b[38;5;124m'\u001b[39m\u001b[38;5;124musername\u001b[39m\u001b[38;5;124m'\u001b[39m\u001b[38;5;124m]\u001b[39m\u001b[38;5;124m\"\u001b[39m)\n\u001b[1;32m     26\u001b[0m element\u001b[38;5;241m.\u001b[39mclear()\n\u001b[1;32m     27\u001b[0m element\u001b[38;5;241m.\u001b[39msend\u001b[38;5;241m.\u001b[39mkeys(\u001b[38;5;124m\"\u001b[39m\u001b[38;5;124merror@error.com\u001b[39m\u001b[38;5;124m\"\u001b[39m)\n",
      "File \u001b[0;32m/opt/anaconda3/lib/python3.13/site-packages/selenium/webdriver/remote/webdriver.py:922\u001b[0m, in \u001b[0;36mWebDriver.find_element\u001b[0;34m(self, by, value)\u001b[0m\n\u001b[1;32m    919\u001b[0m         \u001b[38;5;28;01mraise\u001b[39;00m NoSuchElementException(\u001b[38;5;124mf\u001b[39m\u001b[38;5;124m\"\u001b[39m\u001b[38;5;124mCannot locate relative element with: \u001b[39m\u001b[38;5;132;01m{\u001b[39;00mby\u001b[38;5;241m.\u001b[39mroot\u001b[38;5;132;01m}\u001b[39;00m\u001b[38;5;124m\"\u001b[39m)\n\u001b[1;32m    920\u001b[0m     \u001b[38;5;28;01mreturn\u001b[39;00m elements[\u001b[38;5;241m0\u001b[39m]\n\u001b[0;32m--> 922\u001b[0m \u001b[38;5;28;01mreturn\u001b[39;00m \u001b[38;5;28mself\u001b[39m\u001b[38;5;241m.\u001b[39mexecute(Command\u001b[38;5;241m.\u001b[39mFIND_ELEMENT, {\u001b[38;5;124m\"\u001b[39m\u001b[38;5;124musing\u001b[39m\u001b[38;5;124m\"\u001b[39m: by, \u001b[38;5;124m\"\u001b[39m\u001b[38;5;124mvalue\u001b[39m\u001b[38;5;124m\"\u001b[39m: value})[\u001b[38;5;124m\"\u001b[39m\u001b[38;5;124mvalue\u001b[39m\u001b[38;5;124m\"\u001b[39m]\n",
      "File \u001b[0;32m/opt/anaconda3/lib/python3.13/site-packages/selenium/webdriver/remote/webdriver.py:454\u001b[0m, in \u001b[0;36mWebDriver.execute\u001b[0;34m(self, driver_command, params)\u001b[0m\n\u001b[1;32m    451\u001b[0m response \u001b[38;5;241m=\u001b[39m cast(RemoteConnection, \u001b[38;5;28mself\u001b[39m\u001b[38;5;241m.\u001b[39mcommand_executor)\u001b[38;5;241m.\u001b[39mexecute(driver_command, params)\n\u001b[1;32m    453\u001b[0m \u001b[38;5;28;01mif\u001b[39;00m response:\n\u001b[0;32m--> 454\u001b[0m     \u001b[38;5;28mself\u001b[39m\u001b[38;5;241m.\u001b[39merror_handler\u001b[38;5;241m.\u001b[39mcheck_response(response)\n\u001b[1;32m    455\u001b[0m     response[\u001b[38;5;124m\"\u001b[39m\u001b[38;5;124mvalue\u001b[39m\u001b[38;5;124m\"\u001b[39m] \u001b[38;5;241m=\u001b[39m \u001b[38;5;28mself\u001b[39m\u001b[38;5;241m.\u001b[39m_unwrap_value(response\u001b[38;5;241m.\u001b[39mget(\u001b[38;5;124m\"\u001b[39m\u001b[38;5;124mvalue\u001b[39m\u001b[38;5;124m\"\u001b[39m, \u001b[38;5;28;01mNone\u001b[39;00m))\n\u001b[1;32m    456\u001b[0m     \u001b[38;5;28;01mreturn\u001b[39;00m response\n",
      "File \u001b[0;32m/opt/anaconda3/lib/python3.13/site-packages/selenium/webdriver/remote/errorhandler.py:232\u001b[0m, in \u001b[0;36mErrorHandler.check_response\u001b[0;34m(self, response)\u001b[0m\n\u001b[1;32m    230\u001b[0m         alert_text \u001b[38;5;241m=\u001b[39m value[\u001b[38;5;124m\"\u001b[39m\u001b[38;5;124malert\u001b[39m\u001b[38;5;124m\"\u001b[39m]\u001b[38;5;241m.\u001b[39mget(\u001b[38;5;124m\"\u001b[39m\u001b[38;5;124mtext\u001b[39m\u001b[38;5;124m\"\u001b[39m)\n\u001b[1;32m    231\u001b[0m     \u001b[38;5;28;01mraise\u001b[39;00m exception_class(message, screen, stacktrace, alert_text)  \u001b[38;5;66;03m# type: ignore[call-arg]  # mypy is not smart enough here\u001b[39;00m\n\u001b[0;32m--> 232\u001b[0m \u001b[38;5;28;01mraise\u001b[39;00m exception_class(message, screen, stacktrace)\n",
      "\u001b[0;31mNoSuchElementException\u001b[0m: Message: no such element: Unable to locate element: {\"method\":\"xpath\",\"selector\":\"//input[@id='username']\"}\n  (Session info: chrome=139.0.7258.128); For documentation on this error, please visit: https://www.selenium.dev/documentation/webdriver/troubleshooting/errors#nosuchelementexception\nStacktrace:\n0   chromedriver                        0x0000000100b4b26c cxxbridge1$str$ptr + 2741972\n1   chromedriver                        0x0000000100b431dc cxxbridge1$str$ptr + 2709060\n2   chromedriver                        0x000000010068d4fc cxxbridge1$string$len + 90520\n3   chromedriver                        0x00000001006d4a14 cxxbridge1$string$len + 382640\n4   chromedriver                        0x0000000100715db8 cxxbridge1$string$len + 649812\n5   chromedriver                        0x00000001006c8d30 cxxbridge1$string$len + 334284\n6   chromedriver                        0x0000000100b0e66c cxxbridge1$str$ptr + 2493140\n7   chromedriver                        0x0000000100b118a0 cxxbridge1$str$ptr + 2505992\n8   chromedriver                        0x0000000100aef4a4 cxxbridge1$str$ptr + 2365708\n9   chromedriver                        0x0000000100b1215c cxxbridge1$str$ptr + 2508228\n10  chromedriver                        0x0000000100ae059c cxxbridge1$str$ptr + 2304516\n11  chromedriver                        0x0000000100b31c78 cxxbridge1$str$ptr + 2638048\n12  chromedriver                        0x0000000100b31e04 cxxbridge1$str$ptr + 2638444\n13  chromedriver                        0x0000000100b42e28 cxxbridge1$str$ptr + 2708112\n14  libsystem_pthread.dylib             0x0000000198a47c0c _pthread_start + 136\n15  libsystem_pthread.dylib             0x0000000198a42b80 thread_start + 8\n"
     ]
    }
   ],
   "source": [
    "from selenium import webdriver\n",
    "from selenium.webdriver.chrome.service import Service\n",
    "from selenium.webdriver.common.by import By\n",
    "from selenium.webdriver.common.keys import Keys\n",
    "from selenium.webdriver.chrome.options import Options\n",
    "from webdriver_manager.chrome import ChromeDriverManager\n",
    "from urllib.request import urlretrieve\n",
    "import time\n",
    "import pyautogui\n",
    "\n",
    "service = Service(ChromeDriverManager().install())\n",
    "\n",
    "options = Options()\n",
    "# options.add_argument(\"headless\")\n",
    "options.add_argument(\"window-size=1920x1080\")\n",
    "options.add_argument(\"--no-sandbox\")\n",
    "options.add_argument(\"--disable-dev-shm-usage\")\n",
    "options.add_argument(\"--disable-gpu\")\n",
    "options.add_argument(\"--user-agent=Mozilla/5.0 (Macintosh; ARM Mac OS X 13_0) AppleWebKit/537.36 (KHTML, like Gecko) Chrome/114.0.0.0 Safari/537.36\")\n",
    "options.add_argument(\"lang=ko_KR\")\n",
    "\n",
    "driver = webdriver.Chrome(service=service, options=options)\n",
    "driver.get(\"https://www.musinsa.com\")\n",
    "\n",
    "element = driver.find_element(By.XPATH, \"//input[@id='username']\")\n",
    "element.clear()\n",
    "element.send.keys(\"error@error.com\")\n",
    "\n",
    "element = driver.find_element(By.XPATH, \"//input[@id='password']\")\n",
    "element.clear()\n",
    "element.send.keys(\"1234\")\n",
    "\n",
    "element = driver.find_element(By.XPATH, \"//input[@type='submit']\")\n",
    "element.click()\n",
    "\n",
    "time.sleep(3)\n",
    "\n",
    "element = driver.find_element(By.XPATH, \"//div[@class='message']\")\n",
    "print(element.text)\n",
    "\n",
    "driver.quit()"
   ]
  }
 ],
 "metadata": {
  "kernelspec": {
   "display_name": "Python [conda env:base] *",
   "language": "python",
   "name": "conda-base-py"
  },
  "language_info": {
   "codemirror_mode": {
    "name": "ipython",
    "version": 3
   },
   "file_extension": ".py",
   "mimetype": "text/x-python",
   "name": "python",
   "nbconvert_exporter": "python",
   "pygments_lexer": "ipython3",
   "version": "3.13.5"
  }
 },
 "nbformat": 4,
 "nbformat_minor": 5
}
