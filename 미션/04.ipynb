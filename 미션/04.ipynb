{
 "cells": [
  {
   "cell_type": "markdown",
   "id": "c7a247b0-3505-4ba6-8b8b-490866a153b5",
   "metadata": {},
   "source": [
    "#### 1. 무신사에 로그인 후 찜한 상품 리스트에서 브랜드명과 가격을 수집하세요."
   ]
  },
  {
   "cell_type": "code",
   "execution_count": 4,
   "id": "488991be-db16-4ecb-97b7-5e0e19aa5d39",
   "metadata": {},
   "outputs": [
    {
     "name": "stdout",
     "output_type": "stream",
     "text": [
      "수동으로 인증 시작!\n",
      "쿠키 저장 완료\n"
     ]
    }
   ],
   "source": [
    "from selenium import webdriver\n",
    "from selenium.webdriver.chrome.service import Service\n",
    "from selenium.webdriver.chrome.options import Options\n",
    "from webdriver_manager.chrome import ChromeDriverManager\n",
    "import pickle\n",
    "import time\n",
    "\n",
    "options = Options()\n",
    "options.add_argument(\"--start-maximized\")\n",
    "options.add_argument(\"window-size=1920x1080\")\n",
    "options.add_argument(\"lang=ko_KR\")\n",
    "\n",
    "service = Service(ChromeDriverManager().install())\n",
    "\n",
    "driver = webdriver.Chrome(service=service, options=options)\n",
    "\n",
    "driver.get(\"https://www.musinsa.com/auth/login\")\n",
    "print(\"수동으로 인증 시작!\")\n",
    "time.sleep(40)\n",
    "\n",
    "with open(\"musinsa_cookies.pkl\", \"wb\") as m :\n",
    "    pickle.dump(driver.get_cookies(), m)\n",
    "\n",
    "print(\"쿠키 저장 완료\")\n",
    "driver.quit()"
   ]
  },
  {
   "cell_type": "code",
   "execution_count": 15,
   "id": "00d063dd-adaf-4d4e-9a95-705e9525ce13",
   "metadata": {},
   "outputs": [
    {
     "name": "stdout",
     "output_type": "stream",
     "text": [
      "1. THERMOLOCK (써모락) 여성 튜브 슬림 다운 자켓_Cream : 45%\n",
      "159,000원\n",
      "2. Wishful 슬림핏 반팔티 : 44%\n",
      "25,900원\n",
      "3. 케이븐 2.0 - 알파인 스노우 / 392290-38 : 41%\n",
      "46,990원\n",
      "4. soml 로고 슬림 크롭 티셔츠 화이트 : 41%\n",
      "17,590원\n",
      "5. 맥세이프 카드지갑 가죽 럭셔리 카드 케이스 : 52%\n",
      "10,900원\n",
      "6. EAST STARS 맥세이프 가죽 카드지갑 : 10%\n",
      "17,100원\n",
      "7. HALFMOON ACCORDION POCKET - BLACK : 10%\n",
      "44,100원\n",
      "8. 아이폰 갤럭시 실리콘 맥세이프 케이스 M-실리콘 : 14%\n",
      "17,110원\n",
      "9. (+맥세이프) 스타트윙클니트 에폭시범퍼 케이스 (브라운) - 아이폰/갤럭시 : 18,900원\n",
      "10. 우먼즈 슬림 크루 넥 티셔츠 [블랙] : 35%\n",
      "10,290원\n"
     ]
    }
   ],
   "source": [
    "from selenium import webdriver\n",
    "from selenium.webdriver.chrome.service import Service\n",
    "from selenium.webdriver.chrome.options import Options\n",
    "from selenium.webdriver.common.by import By\n",
    "from webdriver_manager.chrome import ChromeDriverManager\n",
    "import pickle\n",
    "import time\n",
    "\n",
    "options = Options()\n",
    "options.add_argument(\"--start-maximized\")\n",
    "options.add_argument(\"window-size=1920x1080\")\n",
    "options.add_argument(\"lang=ko_KR\")\n",
    "\n",
    "service = Service(ChromeDriverManager().install())\n",
    "\n",
    "driver = webdriver.Chrome(service=service, options=options)\n",
    "\n",
    "driver.get(\"https://www.musinsa.com\")\n",
    "time.sleep(3)\n",
    "\n",
    "with open(\"musinsa_cookies.pkl\", \"rb\") as m :\n",
    "    cookies = pickle.load(m)\n",
    "for cookie in cookies :\n",
    "    driver.add_cookie(cookie)\n",
    "\n",
    "driver.get(\"https://www.musinsa.com/like/goods\")\n",
    "time.sleep(3)\n",
    "\n",
    "driver.refresh()\n",
    "time.sleep(5)\n",
    "\n",
    "mss01 = driver.find_elements(By.CSS_SELECTOR, \"div.sc-v5cj9w-0.FWDcY\")\n",
    "\n",
    "for i, mss in enumerate(mss01[:10], 1) :\n",
    "    title = mss.find_element(By.CSS_SELECTOR, \"span.sc-ghWlax\").text\n",
    "    price = mss.find_element(By.CSS_SELECTOR, \"div.sc-gtLWhw.sc-egkSDF.fmVUhx.kypjxV\").text\n",
    "    print(f\"{i}. {title} : {price}\")\n",
    "        \n",
    "driver.quit()"
   ]
  },
  {
   "cell_type": "markdown",
   "id": "c0830701-e0c9-4f62-896d-808306c3c1e4",
   "metadata": {},
   "source": [
    "#### 2. 인스타그램에 로그인한 후 특정 계정의 최근 게시물 이미지 URL을 5개 수집하세요."
   ]
  },
  {
   "cell_type": "code",
   "execution_count": null,
   "id": "e7962acb-aa61-4ad8-bfe4-14e48e5ec722",
   "metadata": {},
   "outputs": [],
   "source": [
    "from selenium import webdriver\n",
    "from selenium.webdriver.chrome.service import Service\n",
    "from selenium.webdriver.chrome.options import Options\n",
    "from selenium.webdriver.common.by import By\n",
    "from webdriver_manager.chrome import ChromeDriverManager\n",
    "import pickle\n",
    "import time\n",
    "\n",
    "options = Options()\n",
    "options.add_argument(\"--start-maximized\")\n",
    "options.add_argument(\"window-size=1920x1080\")\n",
    "options.add_argument(\"lang=ko_KR\")\n",
    "\n",
    "service = Service(ChromeDriverManager().install())\n",
    "\n",
    "driver = webdriver.Chrome(service=service, options=options)\n",
    "\n",
    "driver.get(\"https://www.instagram.com/accounts/login/\")\n",
    "time.sleep(30)\n",
    "\n",
    "with open(\"instagram_cookies.pkl\", \"rb\") as m :\n",
    "    cookies = pickle.load(m)\n",
    "for cookie in cookies :\n",
    "    driver.add_cookie(cookie)\n",
    "\n",
    "driver.get(\"https://www.instagram.com/jinkyunghong/?next=%2F\")\n",
    "time.sleep(3)\n",
    "\n",
    "driver.refresh()\n",
    "time.sleep(5)\n",
    "\n",
    "jins = driver.find_elements(By.CSS_SELECTOR, \"\")\n",
    "\n",
    "for i, jin in enumerate(jins[:10], 1) :\n",
    "    title = jin.find_element(By.CSS_SELECTOR, \"span.sc-ghWlax\").text\n",
    "    price = jin.find_element(By.CSS_SELECTOR, \"div.sc-gtLWhw.sc-egkSDF.fmVUhx.kypjxV\").text\n",
    "    print(f\"{i}. {title} : {price}\")\n",
    "        \n",
    "driver.quit()"
   ]
  },
  {
   "cell_type": "markdown",
   "id": "8be0b883-5520-4757-ba1e-53e8c8c6ca01",
   "metadata": {},
   "source": [
    "#### 3. Gmail에 로그인한 후 받은편지함에서 최근 이메일 제목 10개를 수집하세요."
   ]
  },
  {
   "cell_type": "code",
   "execution_count": null,
   "id": "66114ac7-5ef7-48b0-8e3c-900c6315f467",
   "metadata": {},
   "outputs": [],
   "source": []
  },
  {
   "cell_type": "markdown",
   "id": "cd64c832-d7aa-499e-b374-258f787b359c",
   "metadata": {},
   "source": [
    "#### 4. 다나와(*혹은 본인이 자주 방문 및 사용하는 가격비교 사이트) 로그인 후 찜한 상품 리스트를 수집하세요."
   ]
  },
  {
   "cell_type": "code",
   "execution_count": null,
   "id": "b35a435e-0328-4854-bdb9-7f3c0b101638",
   "metadata": {},
   "outputs": [],
   "source": []
  },
  {
   "cell_type": "markdown",
   "id": "28e11c7e-f3a1-4142-80c5-7def4e8fda38",
   "metadata": {},
   "source": [
    "#### 5. GS샵(*혹은 본인이 자주 방문 및 구매하는 쇼핑몰) 로그인 후 주문배송조회 페이지의 상품명과 상태를 수집하세요."
   ]
  },
  {
   "cell_type": "code",
   "execution_count": null,
   "id": "f6153323-3096-4da9-8135-561db6a6ff7c",
   "metadata": {},
   "outputs": [],
   "source": []
  }
 ],
 "metadata": {
  "kernelspec": {
   "display_name": "Python [conda env:base] *",
   "language": "python",
   "name": "conda-base-py"
  },
  "language_info": {
   "codemirror_mode": {
    "name": "ipython",
    "version": 3
   },
   "file_extension": ".py",
   "mimetype": "text/x-python",
   "name": "python",
   "nbconvert_exporter": "python",
   "pygments_lexer": "ipython3",
   "version": "3.13.5"
  }
 },
 "nbformat": 4,
 "nbformat_minor": 5
}
