{
 "cells": [
  {
   "cell_type": "markdown",
   "id": "c7a247b0-3505-4ba6-8b8b-490866a153b5",
   "metadata": {},
   "source": [
    "#### 1. 무신사에 로그인 후 찜한 상품 리스트에서 브랜드명과 가격을 수집하세요."
   ]
  },
  {
   "cell_type": "code",
   "execution_count": null,
   "id": "00d063dd-adaf-4d4e-9a95-705e9525ce13",
   "metadata": {},
   "outputs": [],
   "source": []
  },
  {
   "cell_type": "markdown",
   "id": "c0830701-e0c9-4f62-896d-808306c3c1e4",
   "metadata": {},
   "source": [
    "#### 2. 인스타그램에 로그인한 후 특정 계정의 최근 게시물 이미지 URL을 5개 수집하세요."
   ]
  },
  {
   "cell_type": "code",
   "execution_count": null,
   "id": "488991be-db16-4ecb-97b7-5e0e19aa5d39",
   "metadata": {},
   "outputs": [],
   "source": []
  },
  {
   "cell_type": "markdown",
   "id": "8be0b883-5520-4757-ba1e-53e8c8c6ca01",
   "metadata": {},
   "source": [
    "#### 3. Gmail에 로그인한 후 받은편지함에서 최근 이메일 제목 10개를 수집하세요."
   ]
  },
  {
   "cell_type": "code",
   "execution_count": null,
   "id": "66114ac7-5ef7-48b0-8e3c-900c6315f467",
   "metadata": {},
   "outputs": [],
   "source": []
  },
  {
   "cell_type": "markdown",
   "id": "cd64c832-d7aa-499e-b374-258f787b359c",
   "metadata": {},
   "source": [
    "#### 4. 다나와(*혹은 본인이 자주 방문 및 사용하는 가격비교 사이트) 로그인 후 찜한 상품 리스트를 수집하세요."
   ]
  },
  {
   "cell_type": "code",
   "execution_count": null,
   "id": "b35a435e-0328-4854-bdb9-7f3c0b101638",
   "metadata": {},
   "outputs": [],
   "source": []
  },
  {
   "cell_type": "markdown",
   "id": "28e11c7e-f3a1-4142-80c5-7def4e8fda38",
   "metadata": {},
   "source": [
    "#### 5. GS샵(*혹은 본인이 자주 방문 및 구매하는 쇼핑몰) 로그인 후 주문배송조회 페이지의 상품명과 상태를 수집하세요."
   ]
  },
  {
   "cell_type": "code",
   "execution_count": null,
   "id": "f6153323-3096-4da9-8135-561db6a6ff7c",
   "metadata": {},
   "outputs": [],
   "source": []
  }
 ],
 "metadata": {
  "kernelspec": {
   "display_name": "Python [conda env:base] *",
   "language": "python",
   "name": "conda-base-py"
  },
  "language_info": {
   "codemirror_mode": {
    "name": "ipython",
    "version": 3
   },
   "file_extension": ".py",
   "mimetype": "text/x-python",
   "name": "python",
   "nbconvert_exporter": "python",
   "pygments_lexer": "ipython3",
   "version": "3.13.5"
  }
 },
 "nbformat": 4,
 "nbformat_minor": 5
}
