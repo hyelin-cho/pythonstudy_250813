{
 "cells": [
  {
   "cell_type": "markdown",
   "id": "4b6ed619-8cb5-44c1-9bc3-c789695f321b",
   "metadata": {},
   "source": [
    "#### 1. 마켓컬리에서 신상품 중 평점이 높은 10개 상품의 이름과 평점을 수집하세요."
   ]
  },
  {
   "cell_type": "code",
   "execution_count": 4,
   "id": "3478b25b-e6e0-451f-99e0-dfc3a0d38953",
   "metadata": {},
   "outputs": [
    {
     "name": "stdout",
     "output_type": "stream",
     "text": [
      "1. [미카구토] 코로로 과일젤리 7종 골라담기 (택2) / 731\n",
      "2. [아브카] (new 향기)퍼퓸 핸드워시 500ml 2개입 8종 (택1) / 155\n",
      "3. [헤라] 센슈얼 누드 글로스 8종 (택1) (DARE TO BARE 신규 컬렉션 출시) (+미니 브라운 마스카라 증정) / 856\n",
      "4. [라벨리] 빙수 4종(택1) / 45\n",
      "5. [도스타코스] 께사디야 2종 / 114\n",
      "6. [제스트코] 캔샤베트 190mL X 3개입 2종(택1) / 68\n",
      "7. [라벨리] 요거트 아이스크림 4종(택1) / 61\n",
      "8. [KF365] 한우 양념 불고기 500g(냉장) / 60\n",
      "9. [켄트로얄][최초특가] 헬로키티 에디션 성인/키즈 칫솔 10개입 2종 (택1) / 66\n",
      "10. [로로멜로] 아이스 브륄레 80g 4종(택1) / 58\n"
     ]
    }
   ],
   "source": [
    "from selenium import webdriver\n",
    "from selenium.webdriver.chrome.service import Service\n",
    "from selenium.webdriver.chrome.options import Options\n",
    "from selenium.webdriver.common.by import By\n",
    "from webdriver_manager.chrome import ChromeDriverManager\n",
    "import time\n",
    "\n",
    "service = Service(ChromeDriverManager().install())\n",
    "options = Options()\n",
    "options.add_argument(\"--headless\")\n",
    "options.add_argument(\"--window-size=1920x1080\")\n",
    "options.add_argument(\"--start-maximized\")\n",
    "options.add_argument(\"--user-agent=Mozilla/5.0 (Macintosh; Intel Mac OS X 10_15_7) AppleWebKit/537.36 (KHTML, like Gecko) Chrome/138.0.0.0 Safari/537.36\")\n",
    "options.add_argument(\"--lang=ko_KR\")\n",
    "\n",
    "driver = webdriver.Chrome(service=service, options=options)\n",
    "url = \"https://www.kurly.com/collection-groups/market-newproduct?page=1&collection=newranking1&per_page=96&sorted_type=1\"\n",
    "driver.get(url)\n",
    "time.sleep(2)\n",
    "\n",
    "kurly01 = driver.find_elements(By.CSS_SELECTOR, \"a.css-8bebpy.e1c07x488\")\n",
    "\n",
    "for i, kurly in enumerate(kurly01[:10], 1) :\n",
    "    product = kurly.find_element(By.CSS_SELECTOR, \"span.css-1dry2r1\").text\n",
    "    review = kurly.find_element(By.CSS_SELECTOR, \"span.review-number\").text\n",
    "    print(f\"{i}. {product} / {review}\")\n",
    "\n",
    "time.sleep(2)"
   ]
  },
  {
   "cell_type": "markdown",
   "id": "0b92ca96-e8ee-47ec-b823-7d5cac82a627",
   "metadata": {},
   "source": [
    "#### 2. G마켓에서 '게이밍 키보드' 검색 후 스크롤을 내려 상품명과 리뷰수를 수집하세요."
   ]
  },
  {
   "cell_type": "code",
   "execution_count": 31,
   "id": "f1a5a0f7-fd30-4e49-af2c-39e5f48cfa1a",
   "metadata": {},
   "outputs": [],
   "source": [
    "import requests\n",
    "from bs4 import BeautifulSoup\n",
    "\n",
    "query = \"게이밍 키보드\"\n",
    "url = f\"https://www.gmarket.co.kr/n/search?keyword={query}\" \n",
    "headers = {\n",
    "    \"User-Agent\": \"Mozilla/5.0 (Macintosh; Intel Mac OS X 10_15_7) AppleWebKit/537.36 (KHTML, like Gecko) Chrome/138.0.0.0 Safari/537.36\"\n",
    "}\n",
    "\n",
    "response = requests.get(url, headers=headers)\n",
    "soup = BeautifulSoup(response.text, \"html.parser\")\n",
    "\n",
    "search01 = soup.select(\"a.ox1N67gcMkHhMh7hbfHi.VZxw34rcBHTWHgERxv0b\")\n",
    "\n",
    "for i, search in enumerate(search01[:10], 1) :\n",
    "    print(f\"{i}. {search.text.strip()}\")"
   ]
  },
  {
   "cell_type": "markdown",
   "id": "067fbfe9-96a6-46a5-b0f8-4707b2cda2d3",
   "metadata": {},
   "source": [
    "#### 3. 11번가에서 '캠핑용품' 검색 후 가격 범위 필터 적용 후 상품명 수집하세요."
   ]
  },
  {
   "cell_type": "code",
   "execution_count": 6,
   "id": "8d9cc36c-60b5-48a5-a1eb-eb3a7e2bc56f",
   "metadata": {},
   "outputs": [
    {
     "name": "stdout",
     "output_type": "stream",
     "text": [
      "1. 상품명\n",
      "[내일도착] 헤스타 100% 국내산 친환경 실리콘 김밥말이 간편 김밥틀 무독성 소풍 나들이 캠핑 조리도구\n",
      "2. 상품명\n",
      "[내일도착] 헤스타 국내산 실리콘 아이스트레이 28구 냉동 얼음틀 캠핑 나들이 학교 급식실 사무실 회사 아이스뱅크\n",
      "3. 상품명\n",
      "[내일도착] 헤스타 국내산 스테인레스 바베큐집게 캠핑 고기 전 요리 굽기 고급 프리미엄 집게\n",
      "4. 상품명\n",
      "루메나 X3 LED 헤드랜턴 캡라이트 [베이지]\n",
      "5. 상품명\n",
      "쿨조끼 아이스조끼 세트 작업복 7시간냉기지속 얼음 쿨자켓 쿨아이스 여름자켓\n",
      "6. 상품명\n",
      "카르닉 캠핑테이블 우드쉘프 인디언행어 거치대 경량테이블 접이식 폴딩 차박 캠핑용품\n",
      "7. 상품명\n",
      "[리베로] 1+1 봄맞이 캠핑의자 모음전\n",
      "8. 상품명\n",
      "잭커리 1000v2 인산철 올인원 파워뱅크 차박 캠핑용\n",
      "9. 상품명\n",
      "카나모 훈제 바베큐그릴 숯불그릴 불판높이조절 캠핑 화로\n",
      "10. 상품명\n",
      "팔팔장작 참나무장작 캠핑 바베큐 미니 사이즈 10kg 15kg\n"
     ]
    }
   ],
   "source": [
    "from selenium import webdriver\n",
    "from selenium.webdriver.chrome.service import Service\n",
    "from selenium.webdriver.chrome.options import Options\n",
    "from selenium.webdriver.common.by import By\n",
    "from webdriver_manager.chrome import ChromeDriverManager\n",
    "import time\n",
    "\n",
    "service = Service(ChromeDriverManager().install())\n",
    "options = Options()\n",
    "options.add_argument(\"--headless\")\n",
    "options.add_argument(\"--window-size=1920x1080\")\n",
    "options.add_argument(\"--start-maximized\")\n",
    "options.add_argument(\"--user-agent=Mozilla/5.0 (Macintosh; Intel Mac OS X 10_15_7) AppleWebKit/537.36 (KHTML, like Gecko) Chrome/138.0.0.0 Safari/537.36\")\n",
    "options.add_argument(\"--lang=ko_KR\")\n",
    "\n",
    "driver = webdriver.Chrome(service=service, options=options)\n",
    "\n",
    "query = \"캠핑용품\"\n",
    "url = f\"https://search.11st.co.kr/pc/total-search?kwd={query}\" \n",
    "driver.get(url)\n",
    "time.sleep(2)\n",
    "\n",
    "search02 = driver.find_elements(By.CSS_SELECTOR, \"div.c-card-item__name\")\n",
    "\n",
    "for i, search in enumerate(search02[:10], 1) :\n",
    "    print(f\"{i}. {search.text.strip()}\")\n",
    "\n",
    "time.sleep(2)"
   ]
  },
  {
   "cell_type": "markdown",
   "id": "44ccf3b6-423e-478c-8050-dbbcf0ca0290",
   "metadata": {},
   "source": [
    "#### 4. 크몽에서 '마케팅' 서비스 필터 조작 후 제목과 가격을 수집하세요."
   ]
  },
  {
   "cell_type": "code",
   "execution_count": 28,
   "id": "eee295c8-8816-419a-a79f-16f85b328663",
   "metadata": {},
   "outputs": [
    {
     "name": "stdout",
     "output_type": "stream",
     "text": [
      "1. GA4설치/전자상거래설치/보고서제작/컨설팅/GTM활용 / 20,000원~\n",
      "2. GTM, GA4, 메타픽셀 추적요소 세팅 및 교육 / 99,000원\n",
      "3. 구글 전문 구글 애널리틱스 GA4, GTM 세팅 / 110,000원~\n",
      "4. 구글 메타 틱톡 광고 마케팅 ROAS 자동화 대시보드 / 440,000원~\n",
      "5.  / \n",
      "6.  / \n",
      "7.  / \n",
      "8.  / \n",
      "9.  / \n",
      "10.  / \n"
     ]
    }
   ],
   "source": [
    "from selenium import webdriver\n",
    "from selenium.webdriver.chrome.service import Service\n",
    "from selenium.webdriver.chrome.options import Options\n",
    "from selenium.webdriver.common.by import By\n",
    "from webdriver_manager.chrome import ChromeDriverManager\n",
    "import time\n",
    "\n",
    "service = Service(ChromeDriverManager().install())\n",
    "options = Options()\n",
    "options.add_argument(\"--headless\")\n",
    "options.add_argument(\"--window-size=1920x1080\")\n",
    "options.add_argument(\"--start-maximized\")\n",
    "options.add_argument(\"--user-agent=Mozilla/5.0 (Macintosh; Intel Mac OS X 10_15_7) AppleWebKit/537.36 (KHTML, like Gecko) Chrome/138.0.0.0 Safari/537.36\")\n",
    "options.add_argument(\"--lang=ko_KR\")\n",
    "\n",
    "driver = webdriver.Chrome(service=service, options=options)\n",
    "\n",
    "driver = webdriver.Chrome(service=service, options=options)\n",
    "url = \"https://kmong.com/category/252\"\n",
    "driver.get(url)\n",
    "time.sleep(2)\n",
    "\n",
    "kmong1 = driver.find_elements(By.CSS_SELECTOR, \"article.css-0.edqw2x10\")\n",
    "    \n",
    "for i, kmong in enumerate(kmong1[:10], 1) :\n",
    "    title1 = kmong.find_element(By.XPATH, \".//div[contains(@class, 'flex-col')][1]\").text\n",
    "    price1 = kmong.find_element(By.XPATH, \".//div[contains(text(),'원')]\").text\n",
    "    print(f\"{i}. {title1} / {price1}\")"
   ]
  },
  {
   "cell_type": "markdown",
   "id": "801611d9-737b-4aa0-a899-47f1bb501a36",
   "metadata": {},
   "source": [
    "#### 5. GS샵에서 홈쇼핑 생방송 시간표를 스크롤로 수집하세요."
   ]
  },
  {
   "cell_type": "code",
   "execution_count": 30,
   "id": "fd0ceeeb-5a6e-441a-bfb4-7d9d1266c301",
   "metadata": {},
   "outputs": [
    {
     "name": "stdout",
     "output_type": "stream",
     "text": [
      "  생방송 시간표  \n",
      "마이쇼핑 메뉴마이쇼핑주문/배송조회적립금/포인트5% 할인멤버십 혜택장바구니\n",
      "방송시간00:05\n",
      "방송시간01:05\n",
      "방송시간02:00자막방송\n",
      "방송시간03:00자막방송\n",
      "방송시간04:00자막방송\n",
      "방송시간05:00자막방송\n",
      "방송시간05:30\n",
      "방송시간06:00\n",
      "방송시간06:45\n",
      "방송시간07:50자막방송\n",
      "방송시간08:50자막방송\n",
      "방송시간10:00자막방송\n",
      "방송시간11:15자막방송\n",
      "방송시간12:30자막방송\n",
      "방송시간13:45자막방송\n",
      "방송시간14:55자막방송\n",
      "방송시간16:05자막방송\n",
      "방송시간17:15자막방송\n",
      "방송시간18:20자막방송스페셜 방송여행어때\n",
      "방송시간19:25자막방송\n",
      "방송시간20:30자막방송\n",
      "방송시간21:35자막방송\n",
      "방송시간22:40\n",
      "방송시간23:50\n"
     ]
    }
   ],
   "source": [
    "from selenium import webdriver\n",
    "from selenium.webdriver.chrome.service import Service\n",
    "from selenium.webdriver.chrome.options import Options\n",
    "from selenium.webdriver.common.by import By\n",
    "from webdriver_manager.chrome import ChromeDriverManager\n",
    "import time\n",
    "\n",
    "service = Service(ChromeDriverManager().install())\n",
    "options = Options()\n",
    "options.add_argument(\"--headless\")\n",
    "options.add_argument(\"--window-size=1920x1080\")\n",
    "options.add_argument(\"--start-maximized\")\n",
    "options.add_argument(\"--user-agent=Mozilla/5.0 (Macintosh; Intel Mac OS X 10_15_7) AppleWebKit/537.36 (KHTML, like Gecko) Chrome/138.0.0.0 Safari/537.36\")\n",
    "options.add_argument(\"--lang=ko_KR\")\n",
    "\n",
    "driver = webdriver.Chrome(service=service, options=options)\n",
    "\n",
    "driver = webdriver.Chrome(service=service, options=options)\n",
    "url = \"https://www.gsshop.com/shop/tv/tvScheduleMain.gs?gsid=gnb-AU390790-AU390790-0&lseq=390790\"\n",
    "driver.get(url)\n",
    "time.sleep(2)\n",
    "\n",
    "\n",
    "scroll_pause = 1\n",
    "last_height = driver.execute_script(\"return document.body.scrollHeight\")\n",
    "for _ in range(5):\n",
    "    driver.execute_script(\"window.scrollTo(0, document.body.scrollHeight);\")\n",
    "    time.sleep(scroll_pause)\n",
    "    new_height = driver.execute_script(\"return document.body.scrollHeight\")\n",
    "    if new_height == last_height:\n",
    "        break\n",
    "    last_height = new_height\n",
    "    \n",
    "\n",
    "soup = BeautifulSoup(driver.page_source, \"html.parser\")\n",
    "    \n",
    "title2 = soup.select(\"aside\")\n",
    "print(\"  생방송 시간표  \")\n",
    "for t in title2:\n",
    "    text = t.get_text(strip=True)\n",
    "    print(text[:200])"
   ]
  }
 ],
 "metadata": {
  "kernelspec": {
   "display_name": "Python [conda env:base] *",
   "language": "python",
   "name": "conda-base-py"
  },
  "language_info": {
   "codemirror_mode": {
    "name": "ipython",
    "version": 3
   },
   "file_extension": ".py",
   "mimetype": "text/x-python",
   "name": "python",
   "nbconvert_exporter": "python",
   "pygments_lexer": "ipython3",
   "version": "3.13.5"
  }
 },
 "nbformat": 4,
 "nbformat_minor": 5
}
