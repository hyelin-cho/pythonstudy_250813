{
 "cells": [
  {
   "cell_type": "markdown",
   "id": "4b6ed619-8cb5-44c1-9bc3-c789695f321b",
   "metadata": {},
   "source": [
    "#### 1. 마켓컬리에서 신상품 중 평점이 높은 10개 상품의 이름과 평점을 수집하세요."
   ]
  },
  {
   "cell_type": "code",
   "execution_count": 5,
   "id": "3478b25b-e6e0-451f-99e0-dfc3a0d38953",
   "metadata": {},
   "outputs": [
    {
     "name": "stdout",
     "output_type": "stream",
     "text": [
      "1. [미카구토] 코로로 과일젤리 7종 골라담기 (택2) / 723\n"
     ]
    }
   ],
   "source": [
    "from selenium import webdriver\n",
    "from selenium.webdriver.chrome.service import Service\n",
    "from selenium.webdriver.chrome.options import Options\n",
    "from selenium.webdriver.common.by import By\n",
    "from webdriver_manager.chrome import ChromeDriverManager\n",
    "import time\n",
    "\n",
    "service = Service(ChromeDriverManager().install())\n",
    "options = Options()\n",
    "options.add_argument(\"--headless\")\n",
    "options.add_argument(\"--window-size=1920x1080\")\n",
    "options.add_argument(\"--start-maximized\")\n",
    "options.add_argument(\"--user-agent=Mozilla/5.0 (Macintosh; Intel Mac OS X 10_15_7) AppleWebKit/537.36 (KHTML, like Gecko) Chrome/138.0.0.0 Safari/537.36\")\n",
    "options.add_argument(\"--lang=ko_KR\")\n",
    "\n",
    "driver = webdriver.Chrome(service=service, options=options)\n",
    "url = \"https://www.kurly.com/collection-groups/market-newproduct?page=1&collection=newranking1&per_page=96&sorted_type=1\"\n",
    "driver.get(url)\n",
    "time.sleep(2)\n",
    "\n",
    "kurly01 = driver.find_elements(By.CSS_SELECTOR, \"div.css-1d3w5wq\")\n",
    "\n",
    "for i, kurly in enumerate(kurly01[:10], 1) :\n",
    "    product = kurly.find_element(By.CSS_SELECTOR, \"span.css-1dry2r1\").text\n",
    "    review = kurly.find_element(By.CSS_SELECTOR, \"span.review-number\").text\n",
    "    print(f\"{i}. {product} / {review}\")\n",
    "\n",
    "time.sleep(2)"
   ]
  },
  {
   "cell_type": "markdown",
   "id": "0b92ca96-e8ee-47ec-b823-7d5cac82a627",
   "metadata": {},
   "source": [
    "#### 2. G마켓에서 '게이밍 키보드' 검색 후 스크롤을 내려 상품명과 리뷰수를 수집하세요."
   ]
  },
  {
   "cell_type": "code",
   "execution_count": null,
   "id": "f1a5a0f7-fd30-4e49-af2c-39e5f48cfa1a",
   "metadata": {},
   "outputs": [],
   "source": []
  },
  {
   "cell_type": "markdown",
   "id": "067fbfe9-96a6-46a5-b0f8-4707b2cda2d3",
   "metadata": {},
   "source": [
    "#### 3. 11번가에서 '캠핑용품' 검색 후 가격 범위 필터 적용 후 상품명 수집하세요."
   ]
  },
  {
   "cell_type": "code",
   "execution_count": null,
   "id": "8d9cc36c-60b5-48a5-a1eb-eb3a7e2bc56f",
   "metadata": {},
   "outputs": [],
   "source": []
  },
  {
   "cell_type": "markdown",
   "id": "44ccf3b6-423e-478c-8050-dbbcf0ca0290",
   "metadata": {},
   "source": [
    "#### 4. 크몽에서 '마케팅' 서비스 필터 조작 후 제목과 가격을 수집하세요."
   ]
  },
  {
   "cell_type": "code",
   "execution_count": null,
   "id": "eee295c8-8816-419a-a79f-16f85b328663",
   "metadata": {},
   "outputs": [],
   "source": []
  },
  {
   "cell_type": "markdown",
   "id": "801611d9-737b-4aa0-a899-47f1bb501a36",
   "metadata": {},
   "source": [
    "#### 5. GS샵에서 홈쇼핑 생방송 시간표를 스크롤로 수집하세요."
   ]
  },
  {
   "cell_type": "code",
   "execution_count": null,
   "id": "5a745156-57c3-43d5-8b92-1469c00eb721",
   "metadata": {},
   "outputs": [],
   "source": []
  }
 ],
 "metadata": {
  "kernelspec": {
   "display_name": "Python [conda env:base] *",
   "language": "python",
   "name": "conda-base-py"
  },
  "language_info": {
   "codemirror_mode": {
    "name": "ipython",
    "version": 3
   },
   "file_extension": ".py",
   "mimetype": "text/x-python",
   "name": "python",
   "nbconvert_exporter": "python",
   "pygments_lexer": "ipython3",
   "version": "3.13.5"
  }
 },
 "nbformat": 4,
 "nbformat_minor": 5
}
