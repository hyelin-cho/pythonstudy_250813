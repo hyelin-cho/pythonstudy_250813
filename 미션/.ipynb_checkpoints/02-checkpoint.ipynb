{
 "cells": [
  {
   "cell_type": "markdown",
   "id": "1f401cda-2793-4c03-a4d0-b4a4d15565e4",
   "metadata": {},
   "source": [
    "#### 1. 네이버 지식백과에서 '콘텐츠 마케팅' 항목의 본문 요약을 추출하세요."
   ]
  },
  {
   "cell_type": "code",
   "execution_count": 3,
   "id": "2c526d0b-e390-40af-8a42-6b35eb70ee0d",
   "metadata": {},
   "outputs": [
    {
     "name": "stdout",
     "output_type": "stream",
     "text": [
      "콘텐츠산업은 21세기 창조경제를 견인할 핵심 성장 동력으로 각광받고 있고, 디지털 미디어의 다원화로 산업이 성장하고 있지만, 동시에 콘텐츠 사업자간 경쟁은 더욱 치열해지고 있다. 콘텐츠 기업은 사업 분야와 역량에 따라 제작, 유통, 단말 등 강점을 갖는 사업 영역이 있다. 성장과 경쟁의 압박 속에서 이익의 창출이 어려워질수록 각 산업의 핵심가치에 기반한 전략이 빛을 발하게 되는데, 콘텐츠산업의 중심에는 소비자, 즉 고객이 존재한다. 고객과 직접 대면하며, 고객과의 관계 속에서 미래성장의 가능성을 발견하는 콘텐츠사업자들의 핵심적인 10대 전략을 분석하고, 콘텐츠산업의 미래성장 가능성을 진단한다.\n",
      "\n",
      "콘텐츠산업은 21세기 창조경제를 견인할 핵심 성장 동력으로 각광받고 있고, 디지털 미디어의 다원화로 산업이 성장하고 있지만, 동시에 콘텐츠 사업자간 경쟁은 더욱 치열해지고 있다. 콘텐츠 기업은 사업 분야와 역량에 따라 제작, 유통, 단말 등 강점을 갖는 사업 영역이 있다. 성장과 경쟁의 압박 속에서 이익의 창출이 어려워질수록 각 산업의 핵심가치에 기반한 전략이 빛을 발하게 되는데, 콘텐츠산업의 중심에는 소비자, 즉 고객이 존재한다. 고객과 직접 대면하며, 고객과의 관계 속에서 미래성장의 가능성을 발견하는 콘텐츠사업자들의 핵심적인 10대 전략을 분석하고, 콘텐츠산업의 미래성장 가능성을 진단한다.\n"
     ]
    }
   ],
   "source": [
    "from selenium import webdriver\n",
    "from selenium.webdriver.chrome.service import Service\n",
    "from selenium.webdriver.chrome.options import Options\n",
    "from selenium.webdriver.common.by import By\n",
    "from webdriver_manager.chrome import ChromeDriverManager\n",
    "import time\n",
    "\n",
    "service = Service(ChromeDriverManager().install())\n",
    "options = Options()\n",
    "options.add_argument(\"--headless\")\n",
    "options.add_argument(\"--window-size=1920x1080\")\n",
    "options.add_argument(\"--start-maximized\")\n",
    "options.add_argument(\"--user-agent=Mozilla/5.0 (Macintosh; Intel Mac OS X 10_15_7) AppleWebKit/537.36 (KHTML, like Gecko) Chrome/138.0.0.0 Safari/537.36\")\n",
    "options.add_argument(\"--lang=ko_KR\")\n",
    "\n",
    "driver = webdriver.Chrome(service=service, options=options)\n",
    "url = \"https://terms.naver.com/entry.naver?docId=2275742&cid=42266&categoryId=51204\"\n",
    "driver.get(url)\n",
    "time.sleep(2)\n",
    "\n",
    "mkt01 = driver.find_elements(By.CSS_SELECTOR, \"p.txt\")\n",
    "\n",
    "for mkt in mkt01:\n",
    "    print(mkt.text)\n",
    "\n",
    "time.sleep(2)"
   ]
  },
  {
   "cell_type": "markdown",
   "id": "ae99811a-a573-4e71-9d23-5ce3f8301b52",
   "metadata": {},
   "source": [
    "#### 2. 한국관광공사 '추천 여행지' 페이지에서 지역별 여행지명을 수집하세요."
   ]
  },
  {
   "cell_type": "code",
   "execution_count": 1,
   "id": "a6b15e8c-a88e-4336-a7d2-67c2bc9237a8",
   "metadata": {},
   "outputs": [],
   "source": [
    "# ?"
   ]
  },
  {
   "cell_type": "markdown",
   "id": "7918a9f6-a626-4e75-9919-d7659e4e0ead",
   "metadata": {},
   "source": [
    "#### 3. 브런치 홈페이지에서 인기 글 제목을 수집하세요."
   ]
  },
  {
   "cell_type": "code",
   "execution_count": 3,
   "id": "1e707bb3-c34d-4ae5-9aba-e8297ebaee10",
   "metadata": {},
   "outputs": [
    {
     "name": "stdout",
     "output_type": "stream",
     "text": [
      "브런치 인기글 메인에 내 글 두 개가 동시에 오르다니\n",
      "'오늘의 명상' 종례편지를 모으며\n",
      "브런치 홈 인기글을 분석해봤다. 결론은.. 모르겠더이다\n",
      "브런치 인기글 알고리즘 분석\n",
      "내겐 너무 경솔했던 브런치 인기글\n",
      "브런치 조회수에 혼이 날아가다\n",
      "브런치 Recommended Article이 된다는 것\n",
      "인기글의 비결요? 그냥 쓰는데요\n",
      "인기글\n",
      "인기 있는 브런치 글을 쓰려면?\n",
      "휴재 및 성원 감사인사드립니다.\n",
      "2018 UX/UI 인기글 모음\n"
     ]
    }
   ],
   "source": [
    "from selenium import webdriver\n",
    "from selenium.webdriver.chrome.service import Service\n",
    "from selenium.webdriver.chrome.options import Options\n",
    "from selenium.webdriver.common.by import By\n",
    "from webdriver_manager.chrome import ChromeDriverManager\n",
    "import time\n",
    "\n",
    "service = Service(ChromeDriverManager().install())\n",
    "options = Options()\n",
    "options.add_argument(\"--headless\")\n",
    "options.add_argument(\"--window-size=1920x1080\")\n",
    "options.add_argument(\"--start-maximized\")\n",
    "options.add_argument(\"--user-agent=Mozilla/5.0 (Macintosh; Intel Mac OS X 10_15_7) AppleWebKit/537.36 (KHTML, like Gecko) Chrome/138.0.0.0 Safari/537.36\")\n",
    "options.add_argument(\"--lang=ko_KR\")\n",
    "\n",
    "driver = webdriver.Chrome(service=service, options=options)\n",
    "url = \"https://brunch.co.kr/keyword/%EC%9D%B8%EA%B8%B0%EA%B8%80\"\n",
    "driver.get(url)\n",
    "time.sleep(2)\n",
    "\n",
    "title1 = driver.find_elements(By.CSS_SELECTOR, \"strong.tit_subject\")\n",
    "\n",
    "for title in title1 :\n",
    "    print(title.text)\n",
    "\n",
    "time.sleep(2)"
   ]
  },
  {
   "cell_type": "markdown",
   "id": "1ac86d7b-c83a-4ae2-8987-e4a65d007815",
   "metadata": {},
   "source": [
    "#### 4. 교보문고 경제 분야 주간 베스트셀러 도서 제목 수집하세요."
   ]
  },
  {
   "cell_type": "code",
   "execution_count": 8,
   "id": "bfc8523e-93ec-433b-9aaf-037ee7856ee1",
   "metadata": {},
   "outputs": [
    {
     "name": "stdout",
     "output_type": "stream",
     "text": [
      "박곰희 연금 부자 수업\n",
      "새로운 질서\n",
      "세계 경제 지각 변동\n",
      "글로벌 주식 투자 빅 시프트\n",
      "워런 버핏 삶의 원칙\n",
      "돈의 심리학(30만 부 기념 스페셜 에디션)\n",
      "미치도록 보고 싶었던 돈의 얼굴\n",
      "워런 버핏 웨이\n",
      "단 3개의 미국 ETF로 은퇴하라\n",
      "인생을 바꾸는 최고의 ETF\n",
      "부의 전략 수업\n",
      "박태웅의 AI 강의 2025\n",
      "돈의 속성(400쇄 리커버에디션)\n",
      "자본주의\n",
      "초보자를 단숨에 고수로 만드는 주식투자 핵심 수업\n",
      "심리투자 불변의 법칙\n",
      "결핍은 우리를 어떻게 변화시키는가\n",
      "빅 사이클\n",
      "저는 2천만 원으로 시작해 5년 만에 85개의 프랜차이즈를 운영하는 92년생입니다\n",
      "AI 에이전트 트렌드&활용백과\n"
     ]
    }
   ],
   "source": [
    "from selenium import webdriver\n",
    "from selenium.webdriver.chrome.service import Service\n",
    "from selenium.webdriver.chrome.options import Options\n",
    "from selenium.webdriver.common.by import By\n",
    "from webdriver_manager.chrome import ChromeDriverManager\n",
    "import time\n",
    "\n",
    "service = Service(ChromeDriverManager().install())\n",
    "options = Options()\n",
    "options.add_argument(\"--headless\")\n",
    "options.add_argument(\"--window-size=1920x1080\")\n",
    "options.add_argument(\"--start-maximized\")\n",
    "options.add_argument(\"--user-agent=Mozilla/5.0 (Macintosh; Intel Mac OS X 10_15_7) AppleWebKit/537.36 (KHTML, like Gecko) Chrome/138.0.0.0 Safari/537.36\")\n",
    "options.add_argument(\"--lang=ko_KR\")\n",
    "\n",
    "driver = webdriver.Chrome(service=service, options=options)\n",
    "url = \"https://store.kyobobook.co.kr/bestseller/total/weekly/economics\"\n",
    "driver.get(url)\n",
    "time.sleep(2)\n",
    "\n",
    "book01= driver.find_elements(By.CLASS_NAME, \"fz-16.mt-2\")\n",
    "\n",
    "for book in book01:\n",
    "    print(book.text)\n",
    "\n",
    "time.sleep(2)"
   ]
  },
  {
   "cell_type": "markdown",
   "id": "7a573a4f-5983-46a3-97af-0c71d09d7cc2",
   "metadata": {},
   "source": [
    "#### 5. 멜론 차트 1~10위 노래 제목과 가수를 수집하세요."
   ]
  },
  {
   "cell_type": "code",
   "execution_count": 8,
   "id": "f36a0b30-dae7-44fd-be4d-46d54a58c862",
   "metadata": {},
   "outputs": [
    {
     "name": "stdout",
     "output_type": "stream",
     "text": [
      "1. Golden : HUNTR/X, EJAE, AUDREY NUNA, REI AMI, KPop Demon Hunters Cast\n",
      "2. Soda Pop : KPop Demon Hunters Cast, Danny Chung, Saja Boys, Andrew Choi, Neckwav, Kevin Woo, samUIL Lee\n",
      "3. FAMOUS : ALLDAY PROJECT\n",
      "4. 뛰어(JUMP) : BLACKPINK\n",
      "5. Drowning : WOODZ\n",
      "6. Dirty Work : aespa\n",
      "7. 시작의 아이 : 마크툽 (MAKTUB)\n",
      "8. 너에게 닿기를 : 10CM\n",
      "9. Your Idol : KPop Demon Hunters Cast, Danny Chung, Saja Boys, Andrew Choi, Neckwav, Kevin Woo, samUIL Lee\n",
      "10. WICKED : ALLDAY PROJECT\n"
     ]
    }
   ],
   "source": [
    "from selenium import webdriver\n",
    "from selenium.webdriver.chrome.service import Service\n",
    "from selenium.webdriver.chrome.options import Options\n",
    "from selenium.webdriver.common.by import By\n",
    "from webdriver_manager.chrome import ChromeDriverManager\n",
    "import time\n",
    "\n",
    "service = Service(ChromeDriverManager().install())\n",
    "options = Options()\n",
    "options.add_argument(\"--headless\")\n",
    "options.add_argument(\"--window-size=1920x1080\")\n",
    "options.add_argument(\"--start-maximized\")\n",
    "options.add_argument(\"--user-agent=Mozilla/5.0 (Macintosh; Intel Mac OS X 10_15_7) AppleWebKit/537.36 (KHTML, like Gecko) Chrome/138.0.0.0 Safari/537.36\")\n",
    "options.add_argument(\"--lang=ko_KR\")\n",
    "\n",
    "driver = webdriver.Chrome(service=service, options=options)\n",
    "url = \"https://www.melon.com/chart/index.htm\"\n",
    "driver.get(url)\n",
    "time.sleep(2)\n",
    "\n",
    "rank01 = driver.find_elements(By.CSS_SELECTOR, \"tr.lst50\")\n",
    "\n",
    "# for rank in rank01 :\n",
    "#     print(rank.text)\n",
    "\n",
    "\n",
    "for i, rank in enumerate(rank01[:10], 1) :\n",
    "    title = rank.find_element(By.CSS_SELECTOR, \"div.ellipsis.rank01\").text\n",
    "    singer = rank.find_element(By.CSS_SELECTOR, \"div.ellipsis.rank02\").text\n",
    "    print(f\"{i}. {title} : {singer}\")\n",
    "\n",
    "time.sleep(2)"
   ]
  },
  {
   "cell_type": "markdown",
   "id": "6db2883c-2457-4547-be35-d5462fe4c63c",
   "metadata": {},
   "source": [
    "#### 6. 구글 뉴스에서 'ChatGPT' 관련 기사 제목을 수집하세요."
   ]
  },
  {
   "cell_type": "code",
   "execution_count": 11,
   "id": "2177087a-39dc-47fc-bbff-8506d9295805",
   "metadata": {},
   "outputs": [
    {
     "name": "stdout",
     "output_type": "stream",
     "text": [
      "1. ChatGPT Lured Him Down a Philosophical Rabbit Hole. Then He Had to Find a Way Out\n",
      "2. OpenAI's head of ChatGPT shares the one trait you need to be successful at the company\n",
      "3. I tried out the 4 new ChatGPT personalities. The 'cynic' was funny — but the 'robot' was my favorite.\n",
      "4. A man asked ChatGPT how to remove sodium chloride from his diet. It landed him in the hospital\n",
      "5. Release of ChatGPT-5 'Beginning of a New Era For Humanity'\n",
      "6. Chatbots Can Go Into a Delusional Spiral. Here’s How It Happens.\n",
      "7. The New ChatGPT Resets the AI Race\n",
      "8. ‘I Feel Like I’m Going Crazy’: ChatGPT Fuels Delusional Spirals\n",
      "9. Turn This ChatGPT Prompt Into A $100,000+ Passive Income Stream\n",
      "10. OpenAI released GPT-5, a big upgrade to ChatGPT. Here’s what to know.\n"
     ]
    }
   ],
   "source": [
    "import requests\n",
    "from bs4 import BeautifulSoup\n",
    "\n",
    "query = \"ChatGPT\"\n",
    "url = f\"https://news.google.com/search?q={query}\"\n",
    "\n",
    "headers = {\n",
    "    \"User-Agent\": \"Mozilla/5.0 (Macintosh; Intel Mac OS X 10_15_7) AppleWebKit/537.36 (KHTML, like Gecko) Chrome/138.0.0.0 Safari/537.36\"\n",
    "}\n",
    "\n",
    "response = requests.get(url, headers=headers)\n",
    "soup = BeautifulSoup(response.text, \"html.parser\")\n",
    "\n",
    "titles = soup.select(\"a.JtKRv\")\n",
    "\n",
    "for i, title in enumerate(titles[:10], 1) :\n",
    "    print(f\"{i}. {title.text.strip()}\")"
   ]
  },
  {
   "cell_type": "markdown",
   "id": "fc6e033f-ad65-428f-938c-f7f1cc7114ed",
   "metadata": {},
   "source": [
    "#### 7. 서울시청 홈페이지에서 공지사항 제목 10개를 수집하세요."
   ]
  },
  {
   "cell_type": "code",
   "execution_count": null,
   "id": "72797ead-aa6f-4455-aa10-aa173733dbef",
   "metadata": {},
   "outputs": [],
   "source": [
    "# ? 어딨음"
   ]
  },
  {
   "cell_type": "markdown",
   "id": "664d195d-54dd-4d28-8696-978e9c305991",
   "metadata": {},
   "source": [
    "#### 8. 쿠팡에서 '노트북' 검색결과의 리뷰 수가 100개 이상인 상품만 수집하세요."
   ]
  },
  {
   "cell_type": "code",
   "execution_count": null,
   "id": "a9369faf-ebda-4c3e-a4d8-ec977f081c4b",
   "metadata": {},
   "outputs": [],
   "source": [
    "import requests\n",
    "from bs4 import BeautifulSoup\n",
    "\n",
    "query = \"노트북\"\n",
    "url = f\"https://www.coupang.com/np/search?component=&q={query}\"\n",
    "\n",
    "headers = {\n",
    "    \"User-Agent\": \"Mozilla/5.0 (Macintosh; Intel Mac OS X 10_15_7) AppleWebKit/537.36 (KHTML, like Gecko) Chrome/138.0.0.0 Safari/537.36\"\n",
    "}\n",
    "\n",
    "response = requests.get(url, headers=headers)\n",
    "soup = BeautifulSoup(response.text, \"html.parser\")\n",
    "\n",
    "\n",
    "reveiws = soup.select(\"span.ProductRating_ratingCount__R0Vhz\")"
   ]
  },
  {
   "cell_type": "markdown",
   "id": "82f29d01-d267-42ad-a306-913292043529",
   "metadata": {},
   "source": [
    "#### 9. 인스타그램에 로그인 후 '#여행' 해시태그로 게시물 20개의 텍스트를 수집하세요."
   ]
  },
  {
   "cell_type": "code",
   "execution_count": null,
   "id": "f6e1b3a1-fadf-48ce-be23-66c905d9efbb",
   "metadata": {},
   "outputs": [],
   "source": []
  },
  {
   "cell_type": "markdown",
   "id": "56513a06-706f-4da0-8673-0a5e42194a1e",
   "metadata": {},
   "source": [
    "#### 10. 트위터 로그인 후 '#디지털마케팅' 트윗 50개의 텍스트를 수집하세요."
   ]
  },
  {
   "cell_type": "code",
   "execution_count": null,
   "id": "a7e14263-ed65-4c21-8aad-263bd99eba4e",
   "metadata": {},
   "outputs": [],
   "source": []
  }
 ],
 "metadata": {
  "kernelspec": {
   "display_name": "Python [conda env:base] *",
   "language": "python",
   "name": "conda-base-py"
  },
  "language_info": {
   "codemirror_mode": {
    "name": "ipython",
    "version": 3
   },
   "file_extension": ".py",
   "mimetype": "text/x-python",
   "name": "python",
   "nbconvert_exporter": "python",
   "pygments_lexer": "ipython3",
   "version": "3.13.5"
  }
 },
 "nbformat": 4,
 "nbformat_minor": 5
}
