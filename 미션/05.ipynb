{
 "cells": [
  {
   "cell_type": "markdown",
   "id": "f332b8b0-b832-4b70-bf78-8c784d559119",
   "metadata": {},
   "source": [
    "본인이 현재 사용중인 통신사 사이트 로그인 후 최근 요금명세서 주요항목을 수집하세요.\n",
    "교보문고에 로그인하여 주문 배송조회 페이지의 도서명을 수집하세요.\n",
    "ChatGPT 로그인 후 히스토리에서 최근 5개 질문을 수집하세요.\n",
    "Github 로그인 후 내 레포지토리 리스트를 수집하세요.\n",
    "슬랙에 로그인 후 특정 채널의 최근 메시지 50개를 수집하세요."
   ]
  },
  {
   "cell_type": "code",
   "execution_count": null,
   "id": "ae4caa44-dd86-43b7-bf48-3478446119dc",
   "metadata": {},
   "outputs": [],
   "source": []
  }
 ],
 "metadata": {
  "kernelspec": {
   "display_name": "Python [conda env:base] *",
   "language": "python",
   "name": "conda-base-py"
  },
  "language_info": {
   "codemirror_mode": {
    "name": "ipython",
    "version": 3
   },
   "file_extension": ".py",
   "mimetype": "text/x-python",
   "name": "python",
   "nbconvert_exporter": "python",
   "pygments_lexer": "ipython3",
   "version": "3.13.5"
  }
 },
 "nbformat": 4,
 "nbformat_minor": 5
}
