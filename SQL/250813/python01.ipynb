{
 "cells": [
  {
   "cell_type": "code",
   "execution_count": 10,
   "id": "11954524-1181-4448-b0f1-337097be5094",
   "metadata": {},
   "outputs": [],
   "source": [
    "# 패턴 코드"
   ]
  },
  {
   "cell_type": "code",
   "execution_count": 1,
   "id": "041ad4a6-56e9-4221-bed1-4d7168947334",
   "metadata": {},
   "outputs": [],
   "source": [
    "import pymysql\n",
    "\n",
    "db = pymysql.connect(\n",
    "    host = \"localhost\",\n",
    "    port = 3306,\n",
    "    user = \"root\",\n",
    "    password = \"whgPfls3770\",\n",
    "    db = \"ecommerce_v1\",\n",
    "    charset = \"utf8\"\n",
    ")"
   ]
  },
  {
   "cell_type": "code",
   "execution_count": 2,
   "id": "44d1ab1c-0046-40cd-8140-5ef66be9d161",
   "metadata": {},
   "outputs": [
    {
     "data": {
      "text/plain": [
       "<pymysql.connections.Connection at 0x11f808830>"
      ]
     },
     "execution_count": 2,
     "metadata": {},
     "output_type": "execute_result"
    }
   ],
   "source": [
    "db"
   ]
  },
  {
   "cell_type": "code",
   "execution_count": 3,
   "id": "2c204226-6c87-4be2-8c77-9c19088eb0dc",
   "metadata": {},
   "outputs": [],
   "source": [
    "ecommercev1 = db.cursor()"
   ]
  },
  {
   "cell_type": "code",
   "execution_count": null,
   "id": "e5eb9259-3858-4af1-8312-be339894d9a8",
   "metadata": {},
   "outputs": [],
   "source": [
    "# 직접 테이블을 넣을 수 있는 상황이 됨."
   ]
  },
  {
   "cell_type": "code",
   "execution_count": 4,
   "id": "d87d2d63-128f-40dc-b547-b4cafb6c88a4",
   "metadata": {},
   "outputs": [
    {
     "data": {
      "text/plain": [
       "<pymysql.cursors.Cursor at 0x11b2d1010>"
      ]
     },
     "execution_count": 4,
     "metadata": {},
     "output_type": "execute_result"
    }
   ],
   "source": [
    "ecommercev1"
   ]
  },
  {
   "cell_type": "code",
   "execution_count": 5,
   "id": "f18779c4-50e8-4d62-b7db-a402898f4c53",
   "metadata": {},
   "outputs": [],
   "source": [
    "sql = \"\"\"\n",
    "    CREATE TABLE product(\n",
    "        product_CODE VARCHAR(20) PRIMARY KEY NOT NULL,\n",
    "        TITLE VARCHAR(200) NOT NULL,\n",
    "        ORI_PRICE INT,\n",
    "        DISCOOUNT_PRICE INT,\n",
    "        DISCOOUNT_PERCENT INT,\n",
    "        DELIVERY VARCHAR(2)\n",
    "    );\n",
    "\"\"\""
   ]
  },
  {
   "cell_type": "code",
   "execution_count": 6,
   "id": "92c4c498-da10-4898-8072-ae791497b2a0",
   "metadata": {},
   "outputs": [
    {
     "data": {
      "text/plain": [
       "'\\n    CREATE TABLE product(\\n        product_CODE VARCHAR(20) PRIMARY KEY NOT NULL,\\n        TITLE VARCHAR(200) NOT NULL,\\n        ORI_PRICE INT,\\n        DISCOOUNT_PRICE INT,\\n        DISCOOUNT_PERCENT INT,\\n        DELIVERY VARCHAR(2)\\n    );\\n'"
      ]
     },
     "execution_count": 6,
     "metadata": {},
     "output_type": "execute_result"
    }
   ],
   "source": [
    "sql"
   ]
  },
  {
   "cell_type": "code",
   "execution_count": 7,
   "id": "28ee0584-37af-4fd0-b6d7-63a6ed987d22",
   "metadata": {},
   "outputs": [
    {
     "data": {
      "text/plain": [
       "0"
      ]
     },
     "execution_count": 7,
     "metadata": {},
     "output_type": "execute_result"
    }
   ],
   "source": [
    "ecommercev1.execute(sql)"
   ]
  },
  {
   "cell_type": "code",
   "execution_count": 8,
   "id": "4f356d20-afa9-414a-9f70-1c983a442553",
   "metadata": {},
   "outputs": [],
   "source": [
    "db.commit()"
   ]
  },
  {
   "cell_type": "code",
   "execution_count": 9,
   "id": "5477a15c-8d62-4f10-ae6c-2d2c95f6429e",
   "metadata": {},
   "outputs": [],
   "source": [
    "db.close()"
   ]
  },
  {
   "cell_type": "code",
   "execution_count": 11,
   "id": "2988b371-328b-42c7-b462-eab598a090c6",
   "metadata": {},
   "outputs": [],
   "source": [
    "# 여기까지가 한 단락. "
   ]
  },
  {
   "cell_type": "code",
   "execution_count": 31,
   "id": "6b24a06d-46ff-497f-b7ab-0c973303958e",
   "metadata": {},
   "outputs": [],
   "source": [
    "# 원래 위에서 컨트롤 엔터해도 되지만 쉬운 이해를 위해 다시 접속!\n",
    "import pymysql\n",
    "\n",
    "db = pymysql.connect(\n",
    "    host = \"localhost\",\n",
    "    port = 3306,\n",
    "    user = \"root\",\n",
    "    password = \"whgPfls3770\",\n",
    "    db = \"ecommerce_v1\",\n",
    "    charset = \"utf8\"\n",
    ")"
   ]
  },
  {
   "cell_type": "code",
   "execution_count": 32,
   "id": "6ed0b1e9-182f-490a-818e-6fc64b2073f6",
   "metadata": {},
   "outputs": [],
   "source": [
    "cursor = db.cursor()"
   ]
  },
  {
   "cell_type": "code",
   "execution_count": 21,
   "id": "31ca18c7-d3c1-4eb7-b758-bcaa4b639e88",
   "metadata": {
    "scrolled": true
   },
   "outputs": [
    {
     "name": "stdout",
     "output_type": "stream",
     "text": [
      " \n",
      "        INSERT INTO product VALUES(\n",
      "            '215679151',\n",
      "            '스위트바니 여름 신상 5,900원 ~ 롱원피스/티셔츠/긴팔/반팔',\n",
      "            230000,\n",
      "            6900,\n",
      "            70,\n",
      "            'F'\n",
      "        )\n",
      "    \n",
      " \n",
      "        INSERT INTO product VALUES(\n",
      "            '215679152',\n",
      "            '스위트바니 여름 신상 5,900원 ~ 롱원피스/티셔츠/긴팔/반팔',\n",
      "            230000,\n",
      "            6900,\n",
      "            70,\n",
      "            'F'\n",
      "        )\n",
      "    \n",
      " \n",
      "        INSERT INTO product VALUES(\n",
      "            '215679153',\n",
      "            '스위트바니 여름 신상 5,900원 ~ 롱원피스/티셔츠/긴팔/반팔',\n",
      "            230000,\n",
      "            6900,\n",
      "            70,\n",
      "            'F'\n",
      "        )\n",
      "    \n",
      " \n",
      "        INSERT INTO product VALUES(\n",
      "            '215679154',\n",
      "            '스위트바니 여름 신상 5,900원 ~ 롱원피스/티셔츠/긴팔/반팔',\n",
      "            230000,\n",
      "            6900,\n",
      "            70,\n",
      "            'F'\n",
      "        )\n",
      "    \n",
      " \n",
      "        INSERT INTO product VALUES(\n",
      "            '215679155',\n",
      "            '스위트바니 여름 신상 5,900원 ~ 롱원피스/티셔츠/긴팔/반팔',\n",
      "            230000,\n",
      "            6900,\n",
      "            70,\n",
      "            'F'\n",
      "        )\n",
      "    \n",
      " \n",
      "        INSERT INTO product VALUES(\n",
      "            '215679156',\n",
      "            '스위트바니 여름 신상 5,900원 ~ 롱원피스/티셔츠/긴팔/반팔',\n",
      "            230000,\n",
      "            6900,\n",
      "            70,\n",
      "            'F'\n",
      "        )\n",
      "    \n",
      " \n",
      "        INSERT INTO product VALUES(\n",
      "            '215679157',\n",
      "            '스위트바니 여름 신상 5,900원 ~ 롱원피스/티셔츠/긴팔/반팔',\n",
      "            230000,\n",
      "            6900,\n",
      "            70,\n",
      "            'F'\n",
      "        )\n",
      "    \n",
      " \n",
      "        INSERT INTO product VALUES(\n",
      "            '215679158',\n",
      "            '스위트바니 여름 신상 5,900원 ~ 롱원피스/티셔츠/긴팔/반팔',\n",
      "            230000,\n",
      "            6900,\n",
      "            70,\n",
      "            'F'\n",
      "        )\n",
      "    \n",
      " \n",
      "        INSERT INTO product VALUES(\n",
      "            '215679159',\n",
      "            '스위트바니 여름 신상 5,900원 ~ 롱원피스/티셔츠/긴팔/반팔',\n",
      "            230000,\n",
      "            6900,\n",
      "            70,\n",
      "            'F'\n",
      "        )\n",
      "    \n",
      " \n",
      "        INSERT INTO product VALUES(\n",
      "            '215679160',\n",
      "            '스위트바니 여름 신상 5,900원 ~ 롱원피스/티셔츠/긴팔/반팔',\n",
      "            230000,\n",
      "            6900,\n",
      "            70,\n",
      "            'F'\n",
      "        )\n",
      "    \n"
     ]
    }
   ],
   "source": [
    "for index in range(10) :\n",
    "    product_code = 215679150 + index + 1\n",
    "    SQL = f\"\"\" \n",
    "        INSERT INTO product VALUES(\n",
    "            '{product_code}',\n",
    "            '스위트바니 여름 신상 5,900원 ~ 롱원피스/티셔츠/긴팔/반팔',\n",
    "            230000,\n",
    "            6900,\n",
    "            70,\n",
    "            'F'\n",
    "        )\n",
    "    \"\"\"\n",
    "    print(SQL)\n",
    "    cursor.execute(SQL)"
   ]
  },
  {
   "cell_type": "code",
   "execution_count": 22,
   "id": "fc5f99cb-5093-4f47-ab88-4b292d2d2a0e",
   "metadata": {},
   "outputs": [],
   "source": [
    "db.commit()"
   ]
  },
  {
   "cell_type": "code",
   "execution_count": 23,
   "id": "bd8dadd8-de59-4415-aafd-a2f818e1dc32",
   "metadata": {},
   "outputs": [],
   "source": [
    "db.close()"
   ]
  },
  {
   "cell_type": "code",
   "execution_count": 25,
   "id": "3f07345c-69b2-496e-8c00-370bc9e5acec",
   "metadata": {},
   "outputs": [],
   "source": [
    "# fetch alll() : 해당 테이블 내 모든 데이터를 가져옵니다\n",
    "# fetchone() : 매칭되는 해당 값 중 첫번째 값을 가져옵니다.\n",
    "# > 이미 앞에서 먼저 찾아온 값이 존재한다며느 해달 값 이후부터 값을 찾아옵니다.\n",
    "# fetchmany() : 인자값으로 작성된 숫자만큼의 데이터를 가져옵니다."
   ]
  },
  {
   "cell_type": "code",
   "execution_count": 33,
   "id": "2a136305-b614-49b1-af00-f5766f99a34b",
   "metadata": {},
   "outputs": [
    {
     "name": "stdout",
     "output_type": "stream",
     "text": [
      "('215673150', '스위트바니 여름 신상 5,900원 ~ 롱원피스/티셔츠/긴팔/반팔', 230000, 6900, 70, 'F')\n"
     ]
    }
   ],
   "source": [
    "SQL = \"SELECT * FROM product\"\n",
    "cursor.execute(SQL)\n",
    "row = cursor.fetchone()\n",
    "print(row)"
   ]
  },
  {
   "cell_type": "code",
   "execution_count": 34,
   "id": "604d2322-4aa9-4221-bc00-1fbf36c29c2b",
   "metadata": {},
   "outputs": [
    {
     "name": "stdout",
     "output_type": "stream",
     "text": [
      "('215679151', '스위트바니 여름 신상 5,900원 ~ 롱원피스/티셔츠/긴팔/반팔', 230000, 6900, 70, 'F')\n"
     ]
    }
   ],
   "source": [
    "row = cursor.fetchone()\n",
    "print(row)"
   ]
  },
  {
   "cell_type": "code",
   "execution_count": 35,
   "id": "017d8e12-158d-4651-afed-f0e641b71ff4",
   "metadata": {},
   "outputs": [
    {
     "name": "stdout",
     "output_type": "stream",
     "text": [
      "(('215679152', '스위트바니 여름 신상 5,900원 ~ 롱원피스/티셔츠/긴팔/반팔', 230000, 6900, 70, 'F'), ('215679153', '스위트바니 여름 신상 5,900원 ~ 롱원피스/티셔츠/긴팔/반팔', 230000, 6900, 70, 'F'))\n"
     ]
    }
   ],
   "source": [
    "rows = cursor.fetchmany(2)\n",
    "print(rows)"
   ]
  },
  {
   "cell_type": "code",
   "execution_count": 36,
   "id": "41bde76f-9546-4b0b-9b72-9cea7c5f0925",
   "metadata": {},
   "outputs": [
    {
     "name": "stdout",
     "output_type": "stream",
     "text": [
      "('215679154', '스위트바니 여름 신상 5,900원 ~ 롱원피스/티셔츠/긴팔/반팔', 230000, 6900, 70, 'F')\n",
      "('215679155', '스위트바니 여름 신상 5,900원 ~ 롱원피스/티셔츠/긴팔/반팔', 230000, 6900, 70, 'F')\n",
      "('215679156', '스위트바니 여름 신상 5,900원 ~ 롱원피스/티셔츠/긴팔/반팔', 230000, 6900, 70, 'F')\n",
      "('215679157', '스위트바니 여름 신상 5,900원 ~ 롱원피스/티셔츠/긴팔/반팔', 230000, 6900, 70, 'F')\n",
      "('215679158', '스위트바니 여름 신상 5,900원 ~ 롱원피스/티셔츠/긴팔/반팔', 230000, 6900, 70, 'F')\n",
      "('215679159', '스위트바니 여름 신상 5,900원 ~ 롱원피스/티셔츠/긴팔/반팔', 230000, 6900, 70, 'F')\n",
      "('215679160', '스위트바니 여름 신상 5,900원 ~ 롱원피스/티셔츠/긴팔/반팔', 230000, 6900, 70, 'F')\n"
     ]
    }
   ],
   "source": [
    "rowsAll = cursor.fetchall()\n",
    "for row in rowsAll :\n",
    "    print(row)"
   ]
  },
  {
   "cell_type": "code",
   "execution_count": 43,
   "id": "b851dec4-ed51-4160-bca7-b282e797ff13",
   "metadata": {},
   "outputs": [],
   "source": [
    "SQL = \"\"\"\n",
    "    UPDATE product SET\n",
    "        TITLE = \"썸머 가디건 코디전\",\n",
    "        ORI_PRICE = 33000,\n",
    "        DISCOOUNT_PRICE = 9900,\n",
    "        DISCOOUNT_PERCENT = 70\n",
    "    WHERE PRODUCT_CODE = \"215679160\"\n",
    "\"\"\""
   ]
  },
  {
   "cell_type": "code",
   "execution_count": 44,
   "id": "843544f8-393b-4d51-9585-faecd1e51d5f",
   "metadata": {},
   "outputs": [
    {
     "data": {
      "text/plain": [
       "1"
      ]
     },
     "execution_count": 44,
     "metadata": {},
     "output_type": "execute_result"
    }
   ],
   "source": [
    "cursor.execute(SQL)"
   ]
  },
  {
   "cell_type": "code",
   "execution_count": 45,
   "id": "1bf37e79-5c83-4b52-810f-91c84f22b90c",
   "metadata": {},
   "outputs": [],
   "source": [
    "db.commit()"
   ]
  },
  {
   "cell_type": "code",
   "execution_count": 46,
   "id": "c60f5021-0610-4bd8-abd6-9340796f31e2",
   "metadata": {},
   "outputs": [],
   "source": [
    "# 프로그래밍 언어는 CRUD -> 4가지 기능을 기본적으로 가지고 있다."
   ]
  },
  {
   "cell_type": "code",
   "execution_count": 47,
   "id": "187084af-8ac6-4404-89f4-696472f61eae",
   "metadata": {},
   "outputs": [
    {
     "name": "stdout",
     "output_type": "stream",
     "text": [
      "DELETE FROM product WHERE PRODUCT_CODE = '215679160';\n"
     ]
    }
   ],
   "source": [
    "SQL = \"\"\"DELETE FROM product WHERE PRODUCT_CODE = '215679160';\"\"\"\n",
    "print(SQL)"
   ]
  },
  {
   "cell_type": "code",
   "execution_count": 48,
   "id": "8d835c0f-9043-4b6e-b564-e4f7c27c0e7b",
   "metadata": {},
   "outputs": [
    {
     "data": {
      "text/plain": [
       "1"
      ]
     },
     "execution_count": 48,
     "metadata": {},
     "output_type": "execute_result"
    }
   ],
   "source": [
    "cursor.execute(SQL)"
   ]
  },
  {
   "cell_type": "code",
   "execution_count": 49,
   "id": "c51514be-0e5a-4c03-bea4-8a27405b56e2",
   "metadata": {},
   "outputs": [],
   "source": [
    "db.commit()"
   ]
  },
  {
   "cell_type": "code",
   "execution_count": null,
   "id": "5ded46bc-abcf-4ae4-954e-2d778c8d1eee",
   "metadata": {},
   "outputs": [],
   "source": []
  }
 ],
 "metadata": {
  "kernelspec": {
   "display_name": "Python [conda env:base] *",
   "language": "python",
   "name": "conda-base-py"
  },
  "language_info": {
   "codemirror_mode": {
    "name": "ipython",
    "version": 3
   },
   "file_extension": ".py",
   "mimetype": "text/x-python",
   "name": "python",
   "nbconvert_exporter": "python",
   "pygments_lexer": "ipython3",
   "version": "3.13.5"
  }
 },
 "nbformat": 4,
 "nbformat_minor": 5
}
