{
 "cells": [
  {
   "cell_type": "markdown",
   "id": "e53bffc3-d98f-4da3-9c37-1048d447a786",
   "metadata": {},
   "source": [
    "### SQL 학습 전, 반드시 알고 가야하는 개념 정의\n",
    "1. 데이터 (Data)\n",
    "2. 데이터베이스 (Database)\n",
    "3. 스키마 (Schema)\n",
    "4. 테이블 (Table)\n",
    "5. SQL"
   ]
  },
  {
   "cell_type": "markdown",
   "id": "d740a58c-91d3-40ed-94e3-f3e33c87505e",
   "metadata": {},
   "source": [
    "### 1. 데이터 (Data)\n",
    "- 수집 가능한 값, 사실, 기록물 등의 원초적인 정보\n",
    "- 숫자 : 23, 5.9\n",
    "- 문자 : \"david\", \"2025-07-31\"\n",
    "- 상태 : True, False\n",
    "- 데이터 그 자체로는 의미가 부족 -> 구조화가 되어야 데이터는 비로소 가치를 갖게 됨"
   ]
  },
  {
   "cell_type": "markdown",
   "id": "c417122b-aca8-408d-a27f-53da14e384fb",
   "metadata": {},
   "source": [
    "### 2. 데이터베이스 (Database)\n",
    "- 여러가지 다양한 데이터를 구조적이고 체계적으로 저장 및 관리할 수 있도록 해주는 저장소\n",
    "- 종류\n",
    "  - 관계형 데이터베이스 : (RDBMS -> Oracle // MySQL)\n",
    "  - 비관계형 데이터베이스 : (DBMS -> MongoDB) -> 전통적 방식으로 관계를 맺진 않음.\n",
    "- 오프라인 가게를 운영하는데 일일 고객 주문정보, 특정 기간동안 사용한 재고 수량 등"
   ]
  },
  {
   "cell_type": "markdown",
   "id": "0fc4dc9a-dd4b-469d-be8a-f4ffdd9da501",
   "metadata": {},
   "source": [
    "### 3. 스키마 (Schema)\n",
    "- 데이터베이스의 구조를 정의한 것\n",
    "- 데이터베이스를 어떻게 구조화할 것인지를 정의해놓은 일종의 설계도\n",
    "- 스키마는 데이터베이스 내부에 존재하는 논리적 구조"
   ]
  },
  {
   "cell_type": "markdown",
   "id": "74260f0e-5c08-400a-b939-2f869d8df088",
   "metadata": {},
   "source": [
    "### 4. 테이블 (Table)\n",
    "- 관계형 데이터베이스 안에 저장된 실제 데이터의 저장 단위\n",
    "- 구성요소\n",
    "  - 열 (Column) = 속성 (ex. 고객의 나이, 성별, 이메일 등)\n",
    "  - 행 (Row) = 레코드 (ex. 한 명의 고객)"
   ]
  },
  {
   "cell_type": "markdown",
   "id": "be39f06f-698f-4a5d-9f64-d0c740488705",
   "metadata": {},
   "source": [
    "### 5. SQL (Structured Query Language)\n",
    "- 관계형 데이터베이스를 정의, 조작, 제어 할 수 있도록 도와주는 표준 언어\n",
    "- 종류\n",
    "  - DDL (Data Definition Language) : CREATE, DROP, ALTER\n",
    "  - DML (Data Maniqulation Language) : SELECT, INSERT, UPDATE, DELETE\n",
    "  - DCL (Data Control Language) : GRANT, REMOVE"
   ]
  },
  {
   "cell_type": "markdown",
   "id": "69939fe6-7749-491d-bb4c-e6afdc9e9e20",
   "metadata": {},
   "source": [
    "### 지금까지 설명한 내용에 대한 정리 & 요약\n",
    "- 데이터 : 가장 하위 개념, 원초적인 정보 의미\n",
    "- 테이블 : 해당 데이터를 담은 (*구조화) 툴\n",
    "- 스키마 : 이러한 테이블 간 관계를 정의한 설계도면\n",
    "- 데이터베이스 : 스키마의 개년 속에 존재하는 테이블이 포함된 상위 구조 및 개념\n",
    "- SQL : 이 모든 구조를 만들고, 조작하고, 제어할 수 있도록 해주는 언어"
   ]
  },
  {
   "cell_type": "markdown",
   "id": "440ab0e7-1075-449c-904b-a9fe321aeb2b",
   "metadata": {},
   "source": [
    "### 지금까지 학습했던 데이터 수집 관련 프로그램 정의\n",
    "- 아나콘다 (Anaconda) : 파이썬 통합 관리 프랫폼\n",
    "  - 역할 : 파이썬 관련 다양한 라이브러리, 실행환경, 패키지 등을 종합적으로 제공해주는 플랫폼\n",
    "- 주피터 노트북 (Jupyter Notebook) : 파이썬 언어 코딩 프로그램\n",
    "- MySQL : 관계형 데이터 베이스 구조 공간을 설계하도록 지원해주는 관계형데이터베이스 전문 프로그램\n",
    "- MySQL WorkBench : MySQL을 시각적으로 보면서 테이블을 설계하고 각각의 테이블간 관계를 설정할 수 있도록 도와주는 GUI방식의 보조 프로그램"
   ]
  },
  {
   "cell_type": "markdown",
   "id": "016cf916-7e99-47f8-8f9b-faf9f76ad480",
   "metadata": {},
   "source": [
    "#### 프로그래밍 영역에서 꼭 알고 있어야하는 상식\n",
    "- C : Create\n",
    "- R : Read\n",
    "- U : Update\n",
    "- D : Delete"
   ]
  },
  {
   "cell_type": "markdown",
   "id": "6c2e18c3-8021-47c4-9804-627675454149",
   "metadata": {},
   "source": [
    "#### 테이블 생성\n",
    "\n",
    "\n",
    "'''\n",
    "CREATE TABLE 테이블이름 (\n",
    "    컬럼명 데이터형, \n",
    "    컬럼명 데이터형\n",
    "    ...\n",
    "    기본키(*PRIMARY KEY)\n",
    ")\n",
    "'''"
   ]
  },
  {
   "cell_type": "markdown",
   "id": "70db81d4-f105-4f08-b7e5-f032bc4b4683",
   "metadata": {},
   "source": [
    "### 첫번째 미션\n",
    "1. Dave 라는 DB 생성\n",
    "2. 해당 DB 안에 다음과 같은 속성을 가지고 있는 테이블을 생성하세요.\n",
    "3. id, name, modelnumber, series\n",
    "4. id는 양의 정수값 & 필수값 & 자동 증가\n",
    "5. name은 최대 50자까지 가능한 문자열 & 필수값\n",
    "6. modelnumber는 최대 15자까지 가능한 문자열 & 필수값\n",
    "7. series는 최대 30자까지 가능한 문자열 & 필수값\n",
    "8. 고유 식별키는 id"
   ]
  },
  {
   "cell_type": "markdown",
   "id": "ac8a823f-e6d2-484a-a459-daba5ab85ab5",
   "metadata": {},
   "source": [
    "### 두번째 미션\n",
    "1. name의 최대 문자입력 값을 20으로 변경\n",
    "2. modelnumber 속성명을 model_number로 변경 & 최대 10자까지 변경\n",
    "3. series 속성명을 model_type으로 변경 & 최대 20자까지로 변경"
   ]
  },
  {
   "cell_type": "markdown",
   "id": "2eebdfba-809b-4515-80a0-cbf0a76cd8fe",
   "metadata": {},
   "source": [
    "### 세번째 미션\n",
    "1. 기존 데이터베이스 내 mytable을 삭제해주세요.\n",
    "2. model_info 라는 새로운 테이블을 만들어주세요.\n",
    "3. 해당 테이블 안에는 id, name, model_num, model_type의 속성값을 설정해주세요.\n",
    "4. 고유키는 id여야하며, 필수값, 자동 증가 속성 부여해주세요.\n",
    "5. name은 최대 20자까지 허용가능, 필수\n",
    "6. model_num는 최대 10자까지 허용가능, 필수\n",
    "7. model_type는 최대 10자까지 허용가능, 필수"
   ]
  },
  {
   "cell_type": "markdown",
   "id": "92ccd1d8-32d8-47e6-93a9-4de3c5aea0af",
   "metadata": {},
   "source": [
    "### DDL 데이터 정의 문법\n",
    "- CREATE DATABASE dbname\n",
    "- CREATE DATABASE IF NOT EXISTS dbname\n",
    "- DROP DATABASE dbname\n",
    "- DROP DATABASE IF EXISTS dbname\n",
    "- SHOW DATABASES\n",
    "- USE dbname\n",
    "- CREATE TABLE tablename\n",
    "- CREATE DATABASE IF NOT EXISTS tablename\n",
    "- DROP TABLE tablename\n",
    "- DROP TABLE IF EXISTS tablename\n",
    "- ALTER TABLE tablename ADD COLUMN 속성명 속성값;\n",
    "- ALTER TABLE tablename MODIFY COLUMN 속성명 속성값;\n",
    "- ALTER TABLE tablename CHANGE COLUMN 속성명A 속성명B 속성값;\n",
    "- ALTER TABLE tablename DROP COLUMN 속성명;"
   ]
  },
  {
   "cell_type": "markdown",
   "id": "54ee3429-63af-45e4-8f18-0906acad00d9",
   "metadata": {},
   "source": [
    "### DML\n",
    "- INSERT INTO tablename VALUES(Field Value, Field Value, Field Value);\n",
    "- INSERT INTO tablename (Field, Field, Field) VALUES (Field Value, Field Value, Field Value);\n",
    "```\n",
    "- INSERT INTO tablename (Field, Field, Field) VALUES\n",
    "    (Field Value, Field Value, Field Value),\n",
    "    (Field Value, Field Value, Field Value);\n",
    "```\n",
    "- DESC tablename;\n",
    "- SELECT * FROM tablename;\n",
    "- SELECT column FROM tablename;\n",
    "- SELECT column, column FROM tablename;\n",
    "- SELECT * FROM tablename WHERE column = Value;\n",
    "- \"=\" / \">\" / \"!=\" / <>\n",
    "- SELECT * FROM tablename WHERE column >= Value AND column = Value;\n",
    "- SELECT * FROM tablename WHERE column >= Value OR column = Value;\n",
    "- SELECT * FROM tablename WHERE column LIKE \"%Value%\";\n",
    "- SELECT * FROM tablename WHERE column LIKE \"_Value_\";\n",
    "- UPDATE tablename SET column = Value;\n",
    "- UPDATE tablename SET column = Value, column = Value WHERE primarykey = Value; # safe mode\n",
    "- DELETE FROM tablename;\n",
    "- DELETE FROM tablename WHERE primarykey = Value;"
   ]
  },
  {
   "cell_type": "markdown",
   "id": "3243081c-948a-44df-8df4-8ecf84c7e42d",
   "metadata": {},
   "source": [
    "### DCL\n",
    "- USE mysql => 현재 존재하는 사용자 정보 확인\n",
    "- SELECT host, user FROM user; => 사용자별 세부 권한 확인\n",
    "- CREATE USER \"사용자이름@사용권한범위(*localhost)\"\n",
    "- IDENTIFIED BY \"패스워드\"\n",
    "- 사용권한범위 : localhost // %\n",
    "- SET PASSWORD FOR \"사용자이름\"@\"권한범위\" = \"변경하고싶은 패스워드\" => 패스워드 변경 시\n",
    "- DROP USER \"사용자이름\"@\"권한범위\" => 특정 사용자 계정 삭제 시\n",
    "- SHOW GRANTS FOR \"사용자이름@권한범위\" (ex. SHOW GRANTS FOR \"root@localhost\") => 특정 사용자가 가진 권한을 확인하고 싶을 때\n",
    "- GRANT SELECT ON db이름.테이블이름 TO \"사용자이름@권한범위\" => 특정 DB > 특정 Table에만 접근할 수 있도록 제한\n",
    "- GRANT ALL ON db.* TO \"사용자이름@권한범위\" => 특정 DB > 모든 Table에 접근할 수 있도록 제한\n",
    "- GRANT INSERT, UPDATE, SELECT ON . TO \"사용자이름@권한범위\" => 특정 권한만 줄 수 있도록 선택할 수 있음"
   ]
  },
  {
   "cell_type": "markdown",
   "id": "c01a14f3-84d6-4258-9242-48159280d1c1",
   "metadata": {},
   "source": [
    "### 회원정보 관리 시스템을 구축하기 위한 멤버십 DB를 만들어보세요.\n",
    "1. 1개의 레코드 안에는 회원 번호, 이름, 이메일, 생년월일, 가입일시, 포인트, 성별이 반드시 속성으로 포함되어있어야합니다.\n",
    "2. 최소 3명의 회원 정보가 삽입되어 있도록 임의로 데이터를 적용해주세요.\n",
    "3. 해당 DB 및 테이블이 모두 설계되었다면, 고객 포인트가 1000 이상인 회원만 조회할 수 있도록 코드를 작성해주세요.\n",
    "4. 이메일 도메인이 @google.com인 사람만 조회할 수 있도록 코드를 작성해주세요."
   ]
  },
  {
   "cell_type": "code",
   "execution_count": 2,
   "id": "81ad6f20-33d3-41ba-8e7e-d9dcd87a5851",
   "metadata": {},
   "outputs": [
    {
     "name": "stdout",
     "output_type": "stream",
     "text": [
      "0.30000000000000004\n"
     ]
    }
   ],
   "source": [
    "print(0.1 + 0.2) # 파이썬은 실수 자료형을 유사값으로 찾아올 수는 있지만 정확한 값은 찾아올 수 없음."
   ]
  },
  {
   "cell_type": "markdown",
   "id": "75c25be4-38e3-4cf2-8570-dcb7d784fd0a",
   "metadata": {},
   "source": [
    "#### SELECT 문법 :\n",
    "- LIMIT : 가져올 수 있는 데이터 중 일부만 가져오고 싶을 때\n",
    "- COUNT (*집계함수) : 데이터의 총 개수를 확인하고 싶을 때\n",
    "- DISTINCT : 특정 값을 가져올 때, 중복된 값을 출력하지 않고 싶을 때 -> 범주형 데이터에서 유리\n",
    "- SUM : 해당 컬럼값의 합계 -> 수치형 데이터\n",
    "- AVG : 해당 컬럼값의 평균값 -> 수치형 데이터\n",
    "- MAX : 해당 컬럼값의 최대값 -> 수치형 데이터\n",
    "- MIN : 해당 컬럼값의 최소값 -> 수치형 데이터\n",
    "- GROUP BY : 특정 컬럼값을 기반으로 그룹핑하기\n",
    "  - SELECT rating FROM film GROUP BY rating -> film이라는 테이블에서 rating값을 찾아오는데, 해당 rating의 값을 그룹화해서 찾아와라.\n",
    "  - SELECT COUNT(*) FROM film GROUP BY rating -> 각 rating 값의 종류별로 몇개의 데이터가 있는지 확인\n",
    "  - SELECT COUNT(*) FROM film WHERE 조건문 GROUP BY rating -> 특정 조건에 맞는 데이터 중 rating 값의 종류별로 몇 개의 데이터가 있는지 확인\n",
    "- ORDER BY : 특정 컬럼값을 기준으로 데이터를 정렬 (*오름차순 = ASC || 내림차순 = DESC)\n",
    "  - 만약 DESC, ASC 중 그 어떤 값도 입력하지 않는다면 기본 디폴트 값은 ASC 정렬로 실행.\n",
    "\n",
    "```\n",
    "SELECT 컬럼명\n",
    "FROM 테이블명\n",
    "WHERE 조건절\n",
    "GROUP BY 컬럼\n",
    "ORDER BY 컬럼\n",
    "LIMIT 출력갯수\n",
    "```"
   ]
  },
  {
   "cell_type": "markdown",
   "id": "2325a539-4368-417d-ae3e-9372e9f57d21",
   "metadata": {},
   "source": [
    "## Data 대분류 리스트 :\n",
    "1) 수치형 데이터 : (1, 2, 1.1 등) -> 해당 수치값이 각각 고유한 의미\n",
    "2) 범주형 데이터 : (남/여, 미성년/성인 등) -> 중복값을 제거해야하는 경우가 많음"
   ]
  },
  {
   "cell_type": "markdown",
   "id": "fc253b63-7006-471c-84ab-8a52eebb4bf1",
   "metadata": {},
   "source": [
    "### SQL 중급 단계\n",
    "1) FOREIGN KEY (외래 키) <-> PRIMARY KEY (고유 키)\n",
    "2) HAVING\n",
    "   - HAVING절을 활용하여 조건 비교!\n",
    "   - WHERE절을 활용해서도 조건 비교가능한데, 왜 굳이 HAVING절이 왜 필요할까?\n",
    "   - 특정 테이블 내 데이터를 그룹핑하는 GROUP BY를 적용한 상태에서 조건식을 사용하려고 할 때, 반드시 HAVING절을 사용해야함.\n",
    "3) JOIN (*실제 실무에서도 굉장히 많이 사용되는 기능)\n",
    "   - 1개의 테이블에 너무 많은 방대한 데이터를 몰아넣는 경우는 없음.\n",
    "   - 복수의 테이블을 관리하는 경우가 빈번 -> 각각의 테이블간 연결고리를 FOREIGN KEY 만들어놓고, 해당 테이블간 연결하는 경우가 숙명적으로 많을 수 밖에 없음.\n",
    "     -> 그래서 해당 문법을 정말 많이 사용함.\n",
    "   - 서로 다른 테이블을 하나의 연결된 테이블로 활용하고자 할 때 JOIN\n",
    "   - INNER JOIN : 서로 다른 테이블 간에 매칭되는 데이터에 한해서 해당 데이터를 기준으로 연결\n",
    "     (*JOIN이라는 문법을 사용하면 default가 INNER JOIN이기 때문에 실무에서는 INNER 수식어 생략 가능)\n",
    "     서로 다른 테이블을 하나도 연결하기 위해서는 어떤 데이터를 기준으로 연결할 것인가? 물음 -> ON 전치사 \n",
    "   - OUTER JOIN : 서로 매칭되지 않는 데이터도 모두 찾아옴 (* 상대적으로 많이 사용하지 않음) 한쪽에만 데이터가 있는 경우 필터링\n",
    "     - LEFT OUTER JOIN : 먼저 언급된 (*Left data = 부모 데이터)를 기준으로 다른 테이블을 연결,\n",
    "       자식데이터에 부모데이터와 매칭되지않은 데이터가 존재하더라도 해당 데이터를 누락시키지 않고 찾아옴.\n",
    "     - RIGHT OUTER JOIN : 자식데이터를 기준으로 다른 테이블을 연결, 마찬가지로 매칭되지 않은 데이터들을 누락시키지않고 모두 찾아옴.\n",
    "4) SubQuary\n",
    "   - SQL문 안에 포함되어있는 SQL문 => 중첩 SQL문"
   ]
  },
  {
   "cell_type": "markdown",
   "id": "990323c7-8320-4543-a925-bb8f898acb75",
   "metadata": {},
   "source": [
    "#### 무신사 브랜드 사용할 것 같은 느낌으로 Table 생성 -> 마케터의 관점에서 어떻게 사용하면 좋을까?\n",
    "- 고객 테이블 (*고객 정보 가지고 있는 데이터 -> 나이, 성별, 주소, 이메일, 전화번호 등)\n",
    "- 상품 테이블 (*상품 정보 가지고 있는 데이터 -> 재고, 메인카테고리, 서브카테고리, 상품가격, 할인가격, 할인율 등)\n",
    "- 주문 테이블 (*주문 정보 가지고 있는 데이터 -> 주문 수량, 주문한 날짜, 외래 키 -> 고객 & 상품)\n",
    "- 리뷰 테이블 (*리뷰 정보 가지고 있는 데이터 -> 평점, 리뷰 내용, 작성날짜, 외래 키 -> 고객 & 상품)"
   ]
  },
  {
   "cell_type": "markdown",
   "id": "a47c7bdb-c7d2-457b-98f8-789f9d152a3f",
   "metadata": {},
   "source": [
    "## 데이터 분석 마케터\n",
    "- 자사 매출 증대를 목표 -> 마케팅\n",
    "- 회원들의 등급을 파악하고 해당 등급에 따른 차별화된 CRM 마케팅을 해야겠다는 생각\n",
    "- 회원 등급별 인원수 -> 가장 많은 등급에 속해있는 사용자들을 분석해서 페르소나화 해야겠다\n",
    "- 결론 : 회원등급별 인원수 출력\n",
    "\n",
    "- 자사몰에서 상품을 판매 중 -> 꾸준하게 잘 판매되고 있는 상품과 그렇지 않은 상품 구분\n",
    "- 잘 판매되고 있는 상품은 지속적으로 신규고객 및 충성고객 확보를 목표\n",
    "- 판매 실적이 좋지않은 상품은 단종 || 리뉴얼 재고 관리(자산관리)\n",
    "- 결론 : 상품별 평균 평점 출력\n",
    "\n",
    "- OKR, KPI, NSM\n",
    "- NSM 지표 의거해서 월별 주문건수가 00건 이하로 나오면 위기 // 000건 이상이 나오면 긍정\n",
    "- 현재 시점을 기준으로 최근 1개월간 전체 주문 건수를 확인\n",
    "- 결론 : 최근 30일 이내에 주문된 전체 총 건수 출력"
   ]
  }
 ],
 "metadata": {
  "kernelspec": {
   "display_name": "Python [conda env:base] *",
   "language": "python",
   "name": "conda-base-py"
  },
  "language_info": {
   "codemirror_mode": {
    "name": "ipython",
    "version": 3
   },
   "file_extension": ".py",
   "mimetype": "text/x-python",
   "name": "python",
   "nbconvert_exporter": "python",
   "pygments_lexer": "ipython3",
   "version": "3.13.5"
  }
 },
 "nbformat": 4,
 "nbformat_minor": 5
}
