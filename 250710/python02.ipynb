{
 "cells": [
  {
   "cell_type": "code",
   "execution_count": 36,
   "id": "5496bd57-61db-4539-b492-48c8773fbf8c",
   "metadata": {},
   "outputs": [],
   "source": [
    "# 파이썬을 활용한 크롤링 방법론\n",
    "# 1. html 문서 구조 파악 \n",
    "# - 태그들이 주로 반복 사용되는 경우. \n",
    "# - find() // find_all()\n",
    "# - h3 // li //ul\n",
    "# 2. css selector(*선택자) 활용 \n",
    "# - html 내 태그 혹은 클래스, 아이디 요소를 css 파일에서 선택해서 무언가를 하고자할 때, 명칭 => 선택자\n",
    "# - seclect() => 기본적으로 class 속성을 가지고 있는 선택자들을 찾아와서 반복문을 사용하고 싶은 경우\n",
    "# - seclect_one() => id 속성과 같이 문서 상에 한 번 밖에 사용을 하지 못하는 경우에 크롤링 하고 싶을 때\n",
    "# - ul > li //li"
   ]
  },
  {
   "cell_type": "code",
   "execution_count": 2,
   "id": "69ecc1c7-0099-4615-bdc5-25040264f0a6",
   "metadata": {},
   "outputs": [
    {
     "name": "stdout",
     "output_type": "stream",
     "text": [
      "나만의 엣지있는 블로그 사이트 만들기\n",
      "당신의 커리어에 파이썬을 입히세요! 자신만의 자동 프로그램까지 가져가는 특별한 강의\n",
      "커리큘럼 일정\n"
     ]
    }
   ],
   "source": [
    "import requests\n",
    "from bs4 import BeautifulSoup\n",
    "\n",
    "res = requests.get(\"https://crawlingtest.netlify.app/\")\n",
    "soup = BeautifulSoup(res.content,\"html.parser\")\n",
    "\n",
    "# items = soup.select(\"ul > li\")\n",
    "# items = soup.select(\"li\")\n",
    "items = soup.select(\"h3\")\n",
    "# items\n",
    "\n",
    "for item in items :\n",
    "    print(item.get_text().replace(\"\\n\", \" \").replace(\"  \", \"\").strip())"
   ]
  },
  {
   "cell_type": "code",
   "execution_count": 12,
   "id": "4f518415-51f4-4bcc-b269-92355658ca87",
   "metadata": {},
   "outputs": [
    {
     "data": {
      "text/plain": [
       "[<h1>메가스터디 크롤링 테스트 페이지</h1>]"
      ]
     },
     "execution_count": 12,
     "metadata": {},
     "output_type": "execute_result"
    }
   ],
   "source": [
    "import requests\n",
    "from bs4 import BeautifulSoup\n",
    "\n",
    "res = requests.get(\"https://crawlingtest.netlify.app/\")\n",
    "soup = BeautifulSoup(res.content,\"html.parser\")\n",
    "\n",
    "items = soup.select(\"html > body > h1\")\n",
    "items"
   ]
  },
  {
   "cell_type": "code",
   "execution_count": 21,
   "id": "7662adb5-dfff-4b8c-9c53-5c72ddbc4068",
   "metadata": {},
   "outputs": [
    {
     "name": "stdout",
     "output_type": "stream",
     "text": [
      "<li class=\"course\">\n",
      "<a href=\"#\">(왕초보) - 클래스 소개</a>\n",
      "</li>\n",
      "<li class=\"course\">\n",
      "<a href=\"#\">(왕초보) - 블로그 개발 필요한 준비물 준비하기</a>\n",
      "</li>\n",
      "<li class=\"course\">\n",
      "<a href=\"#\">(왕초보) - Github pages 설정해서 블로그 첫 페이지 만들어보기</a>\n",
      "</li>\n",
      "<li class=\"course\">\n",
      "<a href=\"#\">(왕초보) - 초간단 페이지 만들어보기</a>\n",
      "</li>\n",
      "<li class=\"course\">\n",
      "<a href=\"#\">(왕초보) - 이쁘게 테마 적용해보기</a>\n",
      "</li>\n",
      "<li class=\"course\">\n",
      "<a href=\"#\">(왕초보) - 마크다운 기초 이해하고, 실제 나만의 블로그 페이지\n",
      "          만들기</a>\n",
      "</li>\n",
      "<li class=\"course\">\n",
      "<a href=\"#\">(왕초보) - 다양한 마크다운 기법 익혀보며, 나만의 블로그 페이지\n",
      "          꾸며보기</a>\n",
      "</li>\n",
      "<li class=\"course\">\n",
      "<a href=\"#\">(초급) - 강사가 실제 사용하는 자동 프로그램 소개 [2]</a>\n",
      "</li>\n",
      "<li class=\"course\">\n",
      "<a href=\"#\">(초급) - 필요한 프로그램 설치 시연 [5]</a>\n",
      "</li>\n",
      "<li class=\"course\">\n",
      "<a href=\"#\">(초급) - 데이터를 엑셀 파일로 만들기 [9]</a>\n",
      "</li>\n",
      "<li class=\"course\">\n",
      "<a href=\"#\">(초급) -     엑셀 파일 이쁘게! 이쁘게! [8]</a>\n",
      "</li>\n",
      "<li class=\"course\">\n",
      "<a href=\"#\">(초급) -     나대신 주기적으로 파이썬 프로그램\n",
      "          실행하기 [7]</a>\n",
      "</li>\n",
      "<li class=\"course\">\n",
      "<a href=\"#\">(초급) - 파이썬으로 슬랙(slack) 메신저에 글쓰기 [40]</a>\n",
      "</li>\n",
      "<li class=\"course\">\n",
      "<a href=\"#\">(초급) - 웹사이트 변경사항 주기적으로 체크해서, 메신저로 알람주기\n",
      "          [12]</a>\n",
      "</li>\n",
      "<li class=\"course\">\n",
      "<a href=\"#\">(초급) - 네이버 API 사용해서, 블로그에 글쓰기 [42]</a>\n",
      "</li>\n",
      "<li class=\"course\">\n",
      "<a href=\"#\">(중급) - 자동으로 쿠팡파트너스 API 로 가져온 상품 정보, 네이버\n",
      "          블로그/트위터에 홍보하기 [412]</a>\n",
      "</li>\n"
     ]
    }
   ],
   "source": [
    "import requests\n",
    "from bs4 import BeautifulSoup\n",
    "\n",
    "res = requests.get(\"https://crawlingtest.netlify.app/\")\n",
    "soup = BeautifulSoup(res.content,\"html.parser\")\n",
    "\n",
    "items = soup.select(\"ul > li\")\n",
    "# items = soup.select(\"ul a\")\n",
    "# items = soup.select(\"ul > a\") # 문맥상의 오류\n",
    "for item in items :\n",
    "    print(item)"
   ]
  },
  {
   "cell_type": "code",
   "execution_count": 28,
   "id": "81ecac2d-1282-48f4-acea-b62234bcf522",
   "metadata": {},
   "outputs": [
    {
     "data": {
      "text/plain": [
       "[<li class=\"course\" id=\"specialad\">\n",
       " <a href=\"#\">(왕초보) - 클래스 소개</a>\n",
       " </li>,\n",
       " <li class=\"course\">\n",
       " <a href=\"#\">(왕초보) - 블로그 개발 필요한 준비물 준비하기</a>\n",
       " </li>,\n",
       " <li class=\"course\">\n",
       " <a href=\"#\">(왕초보) - Github pages 설정해서 블로그 첫 페이지 만들어보기</a>\n",
       " </li>,\n",
       " <li class=\"course\">\n",
       " <a href=\"#\">(왕초보) - 초간단 페이지 만들어보기</a>\n",
       " </li>,\n",
       " <li class=\"course\">\n",
       " <a href=\"#\">(왕초보) - 이쁘게 테마 적용해보기</a>\n",
       " </li>,\n",
       " <li class=\"course\">\n",
       " <a href=\"#\">(왕초보) - 마크다운 기초 이해하고, 실제 나만의 블로그 페이지\n",
       "           만들기</a>\n",
       " </li>,\n",
       " <li class=\"course\">\n",
       " <a href=\"#\">(왕초보) - 다양한 마크다운 기법 익혀보며, 나만의 블로그 페이지\n",
       "           꾸며보기</a>\n",
       " </li>]"
      ]
     },
     "execution_count": 28,
     "metadata": {},
     "output_type": "execute_result"
    }
   ],
   "source": [
    "import requests\n",
    "from bs4 import BeautifulSoup\n",
    "\n",
    "res = requests.get(\"https://crawlingtest.netlify.app/\")\n",
    "soup = BeautifulSoup(res.content,\"html.parser\")\n",
    "\n",
    "# items = soup.select(\".course\")\n",
    "# items = soup.select(\"#hobby_course_list .course\") # 문맥상의 오류가 나타날 수 있으니 띄어쓰기 민감함.\n",
    "items = soup.select(\"#hobby_course_list > .course\")\n",
    "\n",
    "items\n",
    "\n",
    "# for item in items :\n",
    "#     print(item.get_text())"
   ]
  },
  {
   "cell_type": "code",
   "execution_count": 35,
   "id": "4fa40c44-912c-4e80-95be-041822de475f",
   "metadata": {},
   "outputs": [
    {
     "data": {
      "text/plain": [
       "<li class=\"course\" id=\"specialad\">\n",
       "<a href=\"#\">(왕초보) - 클래스 소개</a>\n",
       "</li>"
      ]
     },
     "execution_count": 35,
     "metadata": {},
     "output_type": "execute_result"
    }
   ],
   "source": [
    "import requests\n",
    "from bs4 import BeautifulSoup\n",
    "\n",
    "res = requests.get(\"https://crawlingtest.netlify.app/\")\n",
    "soup = BeautifulSoup(res.content,\"html.parser\")\n",
    "\n",
    "# items = soup.select(\".course#specialad\")\n",
    "# items = soup.select(\".course.maintitle\")\n",
    "# items = soup.select(\".course #specialad\") 이런 건 없음\n",
    "# items = soup.select(\"body #hobby_course_list > .course#specialad\")\n",
    "items = soup.select_one(\"#specialad\")\n",
    "items"
   ]
  },
  {
   "cell_type": "code",
   "execution_count": 48,
   "id": "84298393-8145-4ef6-9553-a6d04f302d8c",
   "metadata": {},
   "outputs": [
    {
     "name": "stdout",
     "output_type": "stream",
     "text": [
      " 일정 / 커리큘럼 타이틀 / 난이도\n",
      " 5.1 ~ 6.15 / 나만의 엣지있는 블로그 사이트 만들기 (취미로 익히는 IT) / 초급\n",
      " 6.16 ~ 7.31 / 파이썬과 데이터과학 첫걸음 (IT 기본기 익히기) / 중급\n"
     ]
    }
   ],
   "source": [
    "import requests\n",
    "from bs4 import BeautifulSoup\n",
    "\n",
    "res = requests.get(\"https://crawlingtest.netlify.app/\")\n",
    "soup = BeautifulSoup(res.content,\"html.parser\")\n",
    "\n",
    "trs = soup.select(\"tr\")\n",
    "\n",
    "# for tr in trs :\n",
    "#     tds = tr.select(\"td\")\n",
    "#     for td in tds :\n",
    "#         print(td.get_text())\n",
    "\n",
    "for tr in trs :\n",
    "    tds = tr.find_all(\"td\")\n",
    "    row_str = \"\"\n",
    "    for td in tds :\n",
    "        row_str += f\" / {td.get_text()}\"\n",
    "    print(row_str[2:])"
   ]
  }
 ],
 "metadata": {
  "kernelspec": {
   "display_name": "Python [conda env:base] *",
   "language": "python",
   "name": "conda-base-py"
  },
  "language_info": {
   "codemirror_mode": {
    "name": "ipython",
    "version": 3
   },
   "file_extension": ".py",
   "mimetype": "text/x-python",
   "name": "python",
   "nbconvert_exporter": "python",
   "pygments_lexer": "ipython3",
   "version": "3.13.5"
  }
 },
 "nbformat": 4,
 "nbformat_minor": 5
}
