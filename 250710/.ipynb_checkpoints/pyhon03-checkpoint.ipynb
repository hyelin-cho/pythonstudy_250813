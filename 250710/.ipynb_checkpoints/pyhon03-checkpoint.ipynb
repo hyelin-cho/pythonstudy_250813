{
 "cells": [
  {
   "cell_type": "markdown",
   "id": "dd1dd26b-99b5-44c0-9163-502f02f87977",
   "metadata": {},
   "source": [
    "#### 1. 다음 사이트를 크롤링 할 수 있도록 BS4와 requests를 활용해서 기본 세팅!\n",
    "https://davelee-fun.github.io/"
   ]
  },
  {
   "cell_type": "code",
   "execution_count": 3,
   "id": "1ef2ef3d-9485-4391-954d-27d43debc466",
   "metadata": {},
   "outputs": [],
   "source": [
    "import requests\n",
    "from bs4 import BeautifulSoup\n",
    "\n",
    "res = requests.get(\"https://davelee-fun.github.io/\")\n",
    "soup = BeautifulSoup(res.content,\"html.parser\")"
   ]
  },
  {
   "cell_type": "markdown",
   "id": "2a580586-8d41-4302-8f2e-150f04581873",
   "metadata": {},
   "source": [
    "#### 2. 현재 쇼핑몰 내 우측 상단 블로그, 어바웃 메뉴 명을 크롤링 출력"
   ]
  },
  {
   "cell_type": "code",
   "execution_count": 8,
   "id": "ade96a65-aaa3-4ac0-8ed1-4d2d86e09c2f",
   "metadata": {},
   "outputs": [
    {
     "name": "stdout",
     "output_type": "stream",
     "text": [
      "\n",
      "Blog\n",
      "\n",
      "\n",
      "About\n",
      "\n"
     ]
    }
   ],
   "source": [
    "import requests\n",
    "from bs4 import BeautifulSoup\n",
    "\n",
    "url = \"https://davelee-fun.github.io/\"\n",
    "\n",
    "res = requests.get(url)\n",
    "soup = BeautifulSoup(res.content,\"html.parser\")\n",
    "\n",
    "# res = requests.get(f\"{url}product-83/\")\n",
    "items = soup.select(\"li.nav-item\") # li 안써도 가져옴.\n",
    "\n",
    "for item in items :\n",
    "    print(item.get_text())"
   ]
  },
  {
   "cell_type": "markdown",
   "id": "42e3d181-882b-4286-a12f-077a047e3557",
   "metadata": {},
   "source": [
    "#### 3. 현재 찾아온 메뉴명 중에서 가상 클래스 active가 적용된 메뉴명만 추력"
   ]
  },
  {
   "cell_type": "code",
   "execution_count": 13,
   "id": "4c6ea9d5-0a16-4204-a834-afed601d6fc3",
   "metadata": {},
   "outputs": [
    {
     "name": "stdout",
     "output_type": "stream",
     "text": [
      "Blog\n"
     ]
    }
   ],
   "source": [
    "import requests\n",
    "from bs4 import BeautifulSoup\n",
    "\n",
    "url = \"https://davelee-fun.github.io/\"\n",
    "\n",
    "res = requests.get(url)\n",
    "soup = BeautifulSoup(res.content,\"html.parser\")\n",
    "\n",
    "items = soup.select_one(\"li.nav-item.active\")\n",
    "print(item.get_text().strip())\n",
    "\n",
    "\n",
    "# items = soup.select(\"li.nav-item.active\")\n",
    "\n",
    "# for item in items :\n",
    "#     print(item.get_text())"
   ]
  },
  {
   "cell_type": "markdown",
   "id": "52884888-1790-4590-b076-b861f5d707a2",
   "metadata": {},
   "source": [
    "#### 4. 현재 사이트에서 sitetitle 이라는 값을 가지고 있는 h1 태그 안 텍스트 출력"
   ]
  },
  {
   "cell_type": "code",
   "execution_count": 30,
   "id": "11303056-bbab-44b8-be56-f7e8c25b88ad",
   "metadata": {},
   "outputs": [
    {
     "name": "stdout",
     "output_type": "stream",
     "text": [
      "Teddy의 선물 블로그\n"
     ]
    }
   ],
   "source": [
    "item = soup.select_one(\"h1.sitetitle\")\n",
    "print(item.string)"
   ]
  },
  {
   "cell_type": "markdown",
   "id": "8725e1b5-2464-422d-9462-264135d54f7e",
   "metadata": {},
   "source": [
    "#### 5. 현재 사이트에서 \"선물하기 좋은 선물을 고르고 골아서 소개하는 블로그입니다\"라는 서브타이틀을 찾아서 크롤링해서 출력!"
   ]
  },
  {
   "cell_type": "code",
   "execution_count": 32,
   "id": "7cf8a78c-b622-4c4f-b12a-99df22b9d440",
   "metadata": {},
   "outputs": [
    {
     "name": "stdout",
     "output_type": "stream",
     "text": [
      "선물하기 좋은 선물을 고르고 골라서 소개하는 블로그입니다.\n"
     ]
    }
   ],
   "source": [
    "item = soup.select_one(\"p.lead\")\n",
    "print(item.string.strip())"
   ]
  },
  {
   "cell_type": "markdown",
   "id": "b894e0db-60a0-4893-ade6-4ffdd39d80e5",
   "metadata": {},
   "source": [
    "#### 6. 현재 사이트에서 featured 카테고리에 속해있는 상품들의 상품 명만 가져와서 출력해주세요."
   ]
  },
  {
   "cell_type": "code",
   "execution_count": 53,
   "id": "879fe203-4e0b-4d69-8e3b-302ccfccd292",
   "metadata": {},
   "outputs": [
    {
     "name": "stdout",
     "output_type": "stream",
     "text": [
      " 보몽드 순면스퀘어 솔리드 누빔매트커버, 다크블루\n",
      " 슈에뜨룸 선인장 리플 침구 세트, 베이지\n",
      " 선우랜드 레인보우 2단 문걸이용 옷걸이 _중형, 화이트, 상세페이지참조\n",
      " 보드래 헬로우 누빔 매트리스커버, 핑크\n",
      " 보드래 퍼펙트 누빔 매트리스커버, 차콜\n",
      " 피아블 클래식 방수 매트리스커버, 화이트\n",
      " 더자리 에코항균 마이크로 매트리스커버, 밀키차콜그레이\n",
      " 더자리 프레쉬 퓨어 매트리스 커버, 퓨어 차콜그레이\n",
      " 몽쉐어 알러스킨 항균 매트리스 커버, 카키그레이\n",
      " 쿠팡 브랜드 - 코멧 홈 40수 트윌 순면 100% 홑겹 매트리스커버, 그레이\n",
      " 패브릭아트 항균 마이크로 원단 매트리스 커버, 아이보리\n",
      " 바숨 순면 누빔 침대 매트리스커버, 차콜\n",
      " WEMAX 다용도 문옷걸이, 화이트, 1개\n",
      " 타카타카 프리미엄 나노 화이바 누빔 매트리스 커버, 젠틀핑핑\n",
      " 보몽드 순면스퀘어 누빔매트커버, 다크그레이\n",
      " 보드래 국내산 순면 60수 누빔 매트리스커버, 그레이\n"
     ]
    }
   ],
   "source": [
    "items = soup.select(\"h4.card-text\")\n",
    "\n",
    "for item in items :\n",
    "    print(item.string.strip().split(\":\")[1])"
   ]
  },
  {
   "cell_type": "markdown",
   "id": "81290615-cf6f-4cad-b5a4-55b47c222da0",
   "metadata": {},
   "source": [
    "#### 7. 현재 사이트에서 all stories 카테고리에 속해있는 상품들의 상품 명만 가져와서 출력해주세요."
   ]
  },
  {
   "cell_type": "code",
   "execution_count": 72,
   "id": "481b4f9d-5a93-49a2-9091-17c7da467b81",
   "metadata": {},
   "outputs": [
    {
     "name": "stdout",
     "output_type": "stream",
     "text": [
      " 보드래 퍼펙트 누빔 매트리스커버, 차콜\n",
      " 피아블 클래식 방수 매트리스커버, 화이트\n",
      " 더자리 에코항균 마이크로 매트리스커버, 밀키차콜그레이\n",
      " 더자리 프레쉬 퓨어 매트리스 커버, 퓨어 차콜그레이\n",
      " 몽쉐어 알러스킨 항균 매트리스 커버, 카키그레이\n",
      " 쿠팡 브랜드 - 코멧 홈 40수 트윌 순면 100% 홑겹 매트리스커버, 그레이\n",
      " 패브릭아트 항균 마이크로 원단 매트리스 커버, 아이보리\n",
      " 바숨 순면 누빔 침대 매트리스커버, 차콜\n",
      " WEMAX 다용도 문옷걸이, 화이트, 1개\n",
      " 타카타카 프리미엄 나노 화이바 누빔 매트리스 커버, 젠틀핑핑\n",
      " 보몽드 순면스퀘어 누빔매트커버, 다크그레이\n",
      " 보드래 국내산 순면 60수 누빔 매트리스커버, 그레이\n"
     ]
    }
   ],
   "source": [
    "import requests\n",
    "from bs4 import BeautifulSoup\n",
    "\n",
    "res = requests.get(\"https://davelee-fun.github.io/\")\n",
    "soup = BeautifulSoup(res.content,\"html.parser\")\n",
    "\n",
    "allstories = soup.select_one(\".recent-posts\")\n",
    "\n",
    "items = allstories.select(\"h4.card-text\")\n",
    "\n",
    "for item in items :\n",
    "    print(item.string.strip().split(\":\")[1])"
   ]
  },
  {
   "cell_type": "markdown",
   "id": "70995cc7-d366-4b9c-a47b-5a471fbe922d",
   "metadata": {},
   "source": [
    "#### 8. 현재 사이트에서 \"Never miss a story from us, subscribe to our newsletter\" 가져와서 출력해주세요."
   ]
  },
  {
   "cell_type": "code",
   "execution_count": 99,
   "id": "8bbf434a-d791-483c-beab-748d206ddb87",
   "metadata": {},
   "outputs": [
    {
     "name": "stdout",
     "output_type": "stream",
     "text": [
      "Never miss a story from us, subscribe to our newsletter\n"
     ]
    }
   ],
   "source": [
    "import requests\n",
    "from bs4 import BeautifulSoup\n",
    "\n",
    "res = requests.get(\"https://davelee-fun.github.io/\")\n",
    "soup = BeautifulSoup(res.content,\"html.parser\")\n",
    "\n",
    "items = soup.select_one(\"div.container.text-center\")\n",
    "print(items.get_text().strip())"
   ]
  }
 ],
 "metadata": {
  "kernelspec": {
   "display_name": "Python [conda env:base] *",
   "language": "python",
   "name": "conda-base-py"
  },
  "language_info": {
   "codemirror_mode": {
    "name": "ipython",
    "version": 3
   },
   "file_extension": ".py",
   "mimetype": "text/x-python",
   "name": "python",
   "nbconvert_exporter": "python",
   "pygments_lexer": "ipython3",
   "version": "3.13.5"
  }
 },
 "nbformat": 4,
 "nbformat_minor": 5
}
