{
 "cells": [
  {
   "cell_type": "code",
   "execution_count": 10,
   "id": "da72af16-cb5a-4c83-827d-4b3c88674a15",
   "metadata": {},
   "outputs": [
    {
     "name": "stdout",
     "output_type": "stream",
     "text": [
      "\n",
      "(왕초보) - 클래스 소개\n",
      "\n",
      "\n",
      "(왕초보) - 블로그 개발 필요한 준비물 준비하기\n",
      "\n",
      "\n",
      "(왕초보) - Github pages 설정해서 블로그 첫 페이지 만들어보기\n",
      "\n",
      "\n",
      "(왕초보) - 초간단 페이지 만들어보기\n",
      "\n",
      "\n",
      "(왕초보) - 이쁘게 테마 적용해보기\n",
      "\n",
      "\n",
      "(왕초보) - 마크다운 기초 이해하고, 실제 나만의 블로그 페이지\n",
      "          만들기\n",
      "\n",
      "\n",
      "(왕초보) - 다양한 마크다운 기법 익혀보며, 나만의 블로그 페이지\n",
      "          꾸며보기\n",
      "\n",
      "\n",
      "(초급) - 강사가 실제 사용하는 자동 프로그램 소개 [2]\n",
      "\n",
      "\n",
      "(초급) - 필요한 프로그램 설치 시연 [5]\n",
      "\n",
      "\n",
      "(초급) - 데이터를 엑셀 파일로 만들기 [9]\n",
      "\n",
      "\n",
      "(초급) -     엑셀 파일 이쁘게! 이쁘게! [8]\n",
      "\n",
      "\n",
      "(초급) -     나대신 주기적으로 파이썬 프로그램\n",
      "          실행하기 [7]\n",
      "\n",
      "\n",
      "(초급) - 파이썬으로 슬랙(slack) 메신저에 글쓰기 [40]\n",
      "\n",
      "\n",
      "(초급) - 웹사이트 변경사항 주기적으로 체크해서, 메신저로 알람주기\n",
      "          [12]\n",
      "\n",
      "\n",
      "(초급) - 네이버 API 사용해서, 블로그에 글쓰기 [42]\n",
      "\n",
      "\n",
      "(중급) - 자동으로 쿠팡파트너스 API 로 가져온 상품 정보, 네이버\n",
      "          블로그/트위터에 홍보하기 [412]\n",
      "\n"
     ]
    }
   ],
   "source": [
    "# 문제 : 해당 문서에서 li태그이면서 course라는 클래스값을 가지고 있는 요소들의 텍스트만 크롤링해서 주피터 노트북에 출력해주세요.\n",
    "\n",
    "import requests\n",
    "from bs4 import BeautifulSoup\n",
    "\n",
    "res = requests.get(\"https://crawlingtest.netlify.app/\")\n",
    "# print(res) # 첫번째로 확인할 것\n",
    "soup = BeautifulSoup(res.content,\"html.parser\")\n",
    "# print(soup)\n",
    "\n",
    "titles = soup.find_all(\"li\", \"course\")\n",
    "# print(titles) 리스트인 것을 확인. 그럼 이제 반복문을 사용할 차례\n",
    "\n",
    "for title in titles :\n",
    "    # print(title) \n",
    "    print(title.get_text())"
   ]
  },
  {
   "cell_type": "code",
   "execution_count": 25,
   "id": "feb45bad-f97a-4860-87e6-779f0f969202",
   "metadata": {},
   "outputs": [
    {
     "name": "stdout",
     "output_type": "stream",
     "text": [
      "\n",
      "(왕초보) - 클래스 소개\n",
      "\n",
      "\n",
      "(왕초보) - 블로그 개발 필요한 준비물 준비하기\n",
      "\n",
      "\n",
      "(왕초보) - Github pages 설정해서 블로그 첫 페이지 만들어보기\n",
      "\n",
      "\n",
      "(왕초보) - 초간단 페이지 만들어보기\n",
      "\n",
      "\n",
      "(왕초보) - 이쁘게 테마 적용해보기\n",
      "\n",
      "\n",
      "(왕초보) - 마크다운 기초 이해하고, 실제 나만의 블로그 페이지\n",
      "          만들기\n",
      "\n",
      "\n",
      "(왕초보) - 다양한 마크다운 기법 익혀보며, 나만의 블로그 페이지\n",
      "          꾸며보기\n",
      "\n"
     ]
    }
   ],
   "source": [
    "import requests\n",
    "from bs4 import BeautifulSoup\n",
    "\n",
    "res = requests.get(\"https://crawlingtest.netlify.app/\")\n",
    "soup = BeautifulSoup(res.content,\"html.parser\")\n",
    "\n",
    "section = soup.find(\"ul\", id=\"hobby_course_list\") #.find_all(\"li\", \"course\") # 메서드 체이닝 기법. 자전거 체인. 경우와 상황에 맞춰 선택 및 사용.\n",
    "# print(section)\n",
    "\n",
    "titles = section.find_all(\"li\", \"course\")\n",
    "# 파이썬을 활용해서 특정 웹사이트 내 요소를 크롤링 해오면, 해당 값 자료 형태 -> 객체의 형태를 띄게 -> 객체의 속성 혹은 메서드 함수를 사용 가능.\n",
    "# print(titles)\n",
    "\n",
    "for title in titles :\n",
    "    print(title.get_text())"
   ]
  },
  {
   "cell_type": "markdown",
   "id": "516ddcfd-2710-4438-b6e9-a05b4e80ae38",
   "metadata": {},
   "source": [
    "#### 파이썬 크롤링 미션\n",
    "- https://crawlingtest.netlify.app/ 해당 사이트에서  course라는 클래스값을 갖고 있는 li태그 텍스트를 출력하세요. \n",
    "단, 왕초보 혹은 초급, - 와 같은 부가적인 설명은 제외하고 실제 해당 과정의 설명 문안만 크롤링 해오세요."
   ]
  },
  {
   "cell_type": "code",
   "execution_count": 82,
   "id": "24489339-75c9-49d2-82ee-b79c6b9d0e5a",
   "metadata": {},
   "outputs": [
    {
     "name": "stdout",
     "output_type": "stream",
     "text": [
      "클래스 소개\n",
      "블로그 개발 필요한 준비물 준비하기\n",
      "Github pages 설정해서 블로그 첫 페이지 만들어보기\n",
      "초간단 페이지 만들어보기\n",
      "이쁘게 테마 적용해보기\n",
      "마크다운 기초 이해하고, 실제 나만의 블로그 페이지 만들기\n",
      "다양한 마크다운 기법 익혀보며, 나만의 블로그 페이지 꾸며보기\n",
      "강사가 실제 사용하는 자동 프로그램 소개 [2]\n",
      "필요한 프로그램 설치 시연 [5]\n",
      "데이터를 엑셀 파일로 만들기 [9]\n",
      "엑셀 파일 이쁘게! 이쁘게! [8]\n",
      "나대신 주기적으로 파이썬 프로그램 실행하기 [7]\n",
      "파이썬으로 슬랙(slack) 메신저에 글쓰기 [40]\n",
      "웹사이트 변경사항 주기적으로 체크해서, 메신저로 알람주기 [12]\n",
      "네이버 API 사용해서, 블로그에 글쓰기 [42]\n",
      "자동으로 쿠팡파트너스 API 로 가져온 상품 정보, 네이버 블로그/트위터에 홍보하기 [412]\n"
     ]
    }
   ],
   "source": [
    "# 그 전과 같이 course라는 클래스 값을 가지고 있는 모든 li태그 텍스트를 출력한다.\n",
    "# \n",
    "# split 값 활용해서 대쉬를 나눈다?\n",
    "\n",
    "\n",
    "\n",
    "import requests\n",
    "from bs4 import BeautifulSoup\n",
    "\n",
    "res = requests.get(\"https://crawlingtest.netlify.app/\")\n",
    "soup = BeautifulSoup(res.content,\"html.parser\")\n",
    "\n",
    "titles = soup.find_all(\"li\", \"course\")\n",
    "\n",
    "for title in titles :\n",
    "    # print(title.get_text().split(\"-\")[1])\n",
    "    # print(title.get_text().split(\"-\")[-1]) -1도 가능. 우측부터 카운드 했을 시에.\n",
    "    # print(repr(title.get_text().split(\"-\")[1])) # repr - 개행 확인 목적\n",
    "    print(title.get_text().split(\"-\")[1].replace(\"\\n\", \" \").replace(\"  \", \"\").strip())"
   ]
  },
  {
   "cell_type": "code",
   "execution_count": 99,
   "id": "3c9cb4dd-ae7d-4909-ab52-95cb96cf4aef",
   "metadata": {},
   "outputs": [
    {
     "name": "stdout",
     "output_type": "stream",
     "text": [
      "1 클래스 소개\n",
      "2 블로그 개발 필요한 준비물 준비하기\n",
      "3 Github pages 설정해서 블로그 첫 페이지 만들어보기\n",
      "4 초간단 페이지 만들어보기\n",
      "5 이쁘게 테마 적용해보기\n",
      "6 마크다운 기초 이해하고, 실제 나만의 블로그 페이지 만들기\n",
      "7 다양한 마크다운 기법 익혀보며, 나만의 블로그 페이지 꾸며보기\n",
      "8 강사가 실제 사용하는 자동 프로그램 소개\n",
      "9 필요한 프로그램 설치 시연\n",
      "10 데이터를 엑셀 파일로 만들기\n",
      "11 엑셀 파일 이쁘게! 이쁘게!\n",
      "12 나대신 주기적으로 파이썬 프로그램 실행하기\n",
      "13 파이썬으로 슬랙(slack) 메신저에 글쓰기\n",
      "14 웹사이트 변경사항 주기적으로 체크해서, 메신저로 알람주기\n",
      "15 네이버 API 사용해서, 블로그에 글쓰기\n",
      "16 자동으로 쿠팡파트너스 API 로 가져온 상품 정보, 네이버 블로그/트위터에 홍보하기\n"
     ]
    }
   ],
   "source": [
    "import requests\n",
    "from bs4 import BeautifulSoup\n",
    "\n",
    "res = requests.get(\"https://crawlingtest.netlify.app/\")\n",
    "soup = BeautifulSoup(res.content,\"html.parser\")\n",
    "\n",
    "titles = soup.find_all(\"li\", \"course\")\n",
    "\n",
    "for index, title in enumerate(titles) :\n",
    "    print(index + 1, title.get_text().split(\"-\")[1].replace(\"\\n\", \" \").replace(\"  \", \"\").split(\"[\")[0].strip())\n",
    "\n",
    "# 파이썬을 활용한 크롤링 방법론\n",
    "# 1. html 문서 구조 파악 - 태그들이 주로 반복 사용되는 경우. - find() // find_all()\n",
    "# 2. css selector(*선택자) 활용"
   ]
  },
  {
   "cell_type": "code",
   "execution_count": null,
   "id": "1f6d32e0-1d52-49db-94e3-76db633b11be",
   "metadata": {},
   "outputs": [],
   "source": []
  }
 ],
 "metadata": {
  "kernelspec": {
   "display_name": "Python [conda env:base] *",
   "language": "python",
   "name": "conda-base-py"
  },
  "language_info": {
   "codemirror_mode": {
    "name": "ipython",
    "version": 3
   },
   "file_extension": ".py",
   "mimetype": "text/x-python",
   "name": "python",
   "nbconvert_exporter": "python",
   "pygments_lexer": "ipython3",
   "version": "3.13.5"
  }
 },
 "nbformat": 4,
 "nbformat_minor": 5
}
