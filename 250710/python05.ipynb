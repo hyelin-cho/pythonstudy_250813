{
 "cells": [
  {
   "cell_type": "code",
   "execution_count": 1,
   "id": "71d61644-b449-4f07-92e3-8c70e7429e97",
   "metadata": {},
   "outputs": [
    {
     "name": "stdout",
     "output_type": "stream",
     "text": [
      "Requirement already satisfied: openpyxl in /opt/anaconda3/lib/python3.13/site-packages (3.1.5)\n",
      "Requirement already satisfied: et_xmlfile in /opt/anaconda3/lib/python3.13/site-packages (from openpyxl) (1.1.0)\n"
     ]
    }
   ],
   "source": [
    "!pip install openpyxl"
   ]
  },
  {
   "cell_type": "code",
   "execution_count": 2,
   "id": "90e9f811-8a00-4b10-8c72-7eaefacfa85c",
   "metadata": {},
   "outputs": [
    {
     "ename": "NameError",
     "evalue": "name 'excl_sheet' is not defined",
     "output_type": "error",
     "traceback": [
      "\u001b[0;31m---------------------------------------------------------------------------\u001b[0m",
      "\u001b[0;31mNameError\u001b[0m                                 Traceback (most recent call last)",
      "Cell \u001b[0;32mIn[2], line 10\u001b[0m\n\u001b[1;32m      7\u001b[0m excel_sheet \u001b[38;5;241m=\u001b[39m excel_file\u001b[38;5;241m.\u001b[39mactive\n\u001b[1;32m      9\u001b[0m \u001b[38;5;66;03m# 선택한 엑셀시트 내부에 데이터 추가 및 삽입하기\u001b[39;00m\n\u001b[0;32m---> 10\u001b[0m excl_sheet\u001b[38;5;241m.\u001b[39mappend([\u001b[38;5;124m\"\u001b[39m\u001b[38;5;124mdata1\u001b[39m\u001b[38;5;124m\"\u001b[39m, \u001b[38;5;124m\"\u001b[39m\u001b[38;5;124mdata2\u001b[39m\u001b[38;5;124m\"\u001b[39m, \u001b[38;5;124m\"\u001b[39m\u001b[38;5;124mdata3\u001b[39m\u001b[38;5;124m\"\u001b[39m])\n\u001b[1;32m     12\u001b[0m \u001b[38;5;66;03m# 엑셀 파일 저장하기\u001b[39;00m\n\u001b[1;32m     13\u001b[0m excel_file\u001b[38;5;241m.\u001b[39msave(tmp\u001b[38;5;241m.\u001b[39mxlsx)\n",
      "\u001b[0;31mNameError\u001b[0m: name 'excl_sheet' is not defined"
     ]
    }
   ],
   "source": [
    "# openpyxl 라이브러리 찾아오기!\n",
    "import openpyxl\n",
    "\n",
    "excel_file = openpyxl.Workbook() # 프로토타입 객체를 실행시켜 하나의 엑셀파일을 생성하겠다는 의미\n",
    "\n",
    "# 엑셀파일 내부에는 기본적으로 sheet가 1개 존재 => 해당 시트를 선택 (*active)\n",
    "excel_sheet = excel_file.active\n",
    "\n",
    "# 선택한 엑셀시트 내부에 데이터 추가 및 삽입하기\n",
    "excl_sheet.append([\"data1\", \"data2\", \"data3\"])\n",
    "\n",
    "# 엑셀 파일 저장하기\n",
    "excel_file.save(tmp.xlsx)\n",
    "\n",
    "# 엑셀파일 종료하기\n",
    "excel_file.close()"
   ]
  },
  {
   "cell_type": "code",
   "execution_count": 22,
   "id": "0eecd1e6-1064-450d-8357-058a59fcafe6",
   "metadata": {},
   "outputs": [],
   "source": [
    "# 데이터 크롤링 파트\n",
    "import requests\n",
    "from bs4 import BeautifulSoup\n",
    "\n",
    "url = \"https://davelee-fun.github.io/\"\n",
    "product_lists = list()\n",
    "\n",
    "for page_num in range(10) :\n",
    "    if page_num == 0 :\n",
    "        res = requests.get(url)\n",
    "    else :\n",
    "        res = requests.get(f\"{url}page{page_num + 1}\")\n",
    "    soup = BeautifulSoup(res.content,\"html.parser\")\n",
    "    datas = soup.select(\"div.card\")\n",
    "\n",
    "    for data in datas :\n",
    "        product_name = data.select_one(\"div.card-body > h4.card-text\")\n",
    "        product_date = data.select_one(\"div.wrapfooter span.post-date\")\n",
    "        product_info = [product_name.get_text().strip(), product_date.get_text().strip()]\n",
    "        product_lists.append(product_info)"
   ]
  },
  {
   "cell_type": "code",
   "execution_count": 31,
   "id": "13199a24-be29-403e-8f72-f9eb078b2a26",
   "metadata": {},
   "outputs": [],
   "source": [
    "# 2. 엑셀시트 저장용 함수 생성 파트\n",
    "import openpyxl\n",
    "\n",
    "def write_excel_template(filename, sheetname, listdata) :\n",
    "    excel_file = openpyxl.Workbook()\n",
    "    excel_sheet = excel_file.active\n",
    "    excel_sheet.column_dimensions[\"A\"].width = 100\n",
    "\n",
    "    if sheetname != \"\" :\n",
    "        excel_sheet.title = sheetname\n",
    "\n",
    "    for item in listdata :\n",
    "        excel_sheet.append(item)\n",
    "        \n",
    "    excel_file.save(filename)\n",
    "    excel_file.close()"
   ]
  },
  {
   "cell_type": "code",
   "execution_count": 32,
   "id": "dc3bf30f-b03b-4c01-a419-0c24230b933d",
   "metadata": {},
   "outputs": [],
   "source": [
    "# 3. 엑셀 시트 저장용 함수 호출 파트\n",
    "write_excel_template(\"tmp.xlsx\", \"상품정보\", product_lists)"
   ]
  }
 ],
 "metadata": {
  "kernelspec": {
   "display_name": "Python [conda env:base] *",
   "language": "python",
   "name": "conda-base-py"
  },
  "language_info": {
   "codemirror_mode": {
    "name": "ipython",
    "version": 3
   },
   "file_extension": ".py",
   "mimetype": "text/x-python",
   "name": "python",
   "nbconvert_exporter": "python",
   "pygments_lexer": "ipython3",
   "version": "3.13.5"
  }
 },
 "nbformat": 4,
 "nbformat_minor": 5
}
