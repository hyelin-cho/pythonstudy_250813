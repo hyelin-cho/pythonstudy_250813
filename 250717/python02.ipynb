{
 "cells": [
  {
   "cell_type": "markdown",
   "id": "580c7285-5f12-4f40-9c4e-9f7e57955deb",
   "metadata": {},
   "source": [
    "#### 문자열 관련 함수 리스트 \n",
    "- 문자열과 문자는 다른 것(문자열 [], 문자 \"\")\n",
    "- count : 문자열에 있는 특정 문자 갯수 세기\n",
    "- index : 문자열에 있는 특정 문자의 인덱스 위치를 알려주기\n",
    "- find : 문자열에 있는 특정 문자의 인덱스를 찾아오긴 하나, 만약 존재하지 않는다면 에러를 발생하지 않고 -1을 발생!!\n",
    "- join : 문자열 사이에 다른 문자를 끼워 넣기\n",
    "- strip : 문자열 앞 뒤에 공백 지우기\n",
    "- upper : 소문자를 대문자로 변경하기\n",
    "- lower : 대문자를 소문자로 변경하기\n",
    "- split : 문자열 내 특정 문자를 기준으로 나누기\n",
    "- replace : 문자열 중 일부를 다른 문자로 바꾸거나 혹은 삭제하기"
   ]
  },
  {
   "cell_type": "code",
   "execution_count": 8,
   "id": "102e23e3-cefe-4264-8ea8-fcf9db072382",
   "metadata": {},
   "outputs": [
    {
     "data": {
      "text/plain": [
       "2"
      ]
     },
     "execution_count": 8,
     "metadata": {},
     "output_type": "execute_result"
    }
   ],
   "source": [
    "data = \"Dave David\"\n",
    "data.count(\"Dave\")\n",
    "data.count(\"D\")"
   ]
  },
  {
   "cell_type": "code",
   "execution_count": 11,
   "id": "855f79ca-e83f-4ac6-b473-1eddcaaf82ad",
   "metadata": {},
   "outputs": [
    {
     "data": {
      "text/plain": [
       "11"
      ]
     },
     "execution_count": 11,
     "metadata": {},
     "output_type": "execute_result"
    }
   ],
   "source": [
    "string = \"Dave ID is dave\"\n",
    "string.index(\"D\")\n",
    "string.index(\"d\")\n",
    "# string.index(\"x\")"
   ]
  },
  {
   "cell_type": "code",
   "execution_count": 15,
   "id": "0f23cae3-88c3-4b16-ba39-2eb6b817b1cd",
   "metadata": {},
   "outputs": [
    {
     "name": "stdout",
     "output_type": "stream",
     "text": [
      "x는 string01 문자열 객체 안에 없습니다.\n"
     ]
    }
   ],
   "source": [
    "string01 = \"Dave ID is dave\"\n",
    "string01.find(\"x\")\n",
    "string01.find(\"a\")\n",
    "\n",
    "if string01.find(\"x\") == -1 :\n",
    "    print(\"x는 string01 문자열 객체 안에 없습니다.\")"
   ]
  },
  {
   "cell_type": "code",
   "execution_count": 17,
   "id": "3ee7af19-1044-4e26-8a90-edf57360a345",
   "metadata": {},
   "outputs": [
    {
     "data": {
      "text/plain": [
       "'1,2,3,4,5'"
      ]
     },
     "execution_count": 17,
     "metadata": {},
     "output_type": "execute_result"
    }
   ],
   "source": [
    "string02 = \"12345\"\n",
    "comma = \",\"\n",
    "\n",
    "comma.join(string02)"
   ]
  },
  {
   "cell_type": "code",
   "execution_count": 22,
   "id": "7cf66276-2f1e-4c81-aae8-7e22160d8b5c",
   "metadata": {},
   "outputs": [
    {
     "data": {
      "text/plain": [
       "'        Dave04'"
      ]
     },
     "execution_count": 22,
     "metadata": {},
     "output_type": "execute_result"
    }
   ],
   "source": [
    "data01 = \" Dave \"\n",
    "data01.strip()\n",
    "\n",
    "data02 = \"        Dave02 \"\n",
    "data02.strip()\n",
    "\n",
    "data03 = \"        Dave03 \"\n",
    "data03.lstrip()\n",
    "\n",
    "data04 = \"        Dave04 \"\n",
    "data04.rstrip()"
   ]
  },
  {
   "cell_type": "code",
   "execution_count": 28,
   "id": "609ace70-ab5b-41b7-ba71-07998d3b538f",
   "metadata": {},
   "outputs": [
    {
     "data": {
      "text/plain": [
       "'ave'"
      ]
     },
     "execution_count": 28,
     "metadata": {},
     "output_type": "execute_result"
    }
   ],
   "source": [
    "string03 = \"      999999999999(Dave)88888888888      \"\n",
    "string03.strip(\" 98()D\")"
   ]
  },
  {
   "cell_type": "code",
   "execution_count": 30,
   "id": "7752a2f5-e33b-4f8b-adfa-de4b92ec953b",
   "metadata": {},
   "outputs": [
    {
     "data": {
      "text/plain": [
       "'DAVE ID IS DAVE'"
      ]
     },
     "execution_count": 30,
     "metadata": {},
     "output_type": "execute_result"
    }
   ],
   "source": [
    "string04 = \"Dave ID is dave\"\n",
    "string04.upper()"
   ]
  },
  {
   "cell_type": "code",
   "execution_count": 31,
   "id": "3fd6bc43-a102-4fa3-bcf0-41dc895ecaf9",
   "metadata": {},
   "outputs": [
    {
     "data": {
      "text/plain": [
       "'dave id is dave'"
      ]
     },
     "execution_count": 31,
     "metadata": {},
     "output_type": "execute_result"
    }
   ],
   "source": [
    "string05 = \"Dave ID is dave\"\n",
    "string05.lower()"
   ]
  },
  {
   "cell_type": "code",
   "execution_count": 35,
   "id": "85830b2d-7a1d-4f7d-862c-2efd0cade710",
   "metadata": {},
   "outputs": [
    {
     "data": {
      "text/plain": [
       "['Dave', 'goes', 'to', 'korea']"
      ]
     },
     "execution_count": 35,
     "metadata": {},
     "output_type": "execute_result"
    }
   ],
   "source": [
    "string06 = \"Dave goes to korea\"\n",
    "string06.split()[3]\n",
    "string06.split(\" \")\n",
    "\n",
    "string07 = \"Dave/goes/to/korea\"\n",
    "string07.split(\"/\")"
   ]
  },
  {
   "cell_type": "markdown",
   "id": "e6cbd656-69f4-483a-b31b-8084c6871289",
   "metadata": {},
   "source": [
    "#### 문자열 \"10, 11, 12, 13, 14\" 해당 값을 리스트 자료 형태 [10,11,12,13,14]로 변환시켜보세요."
   ]
  },
  {
   "cell_type": "code",
   "execution_count": 53,
   "id": "54a5b8d8-cba0-435f-a99e-30811c5041a3",
   "metadata": {},
   "outputs": [
    {
     "data": {
      "text/plain": [
       "['10, 11, 12, 13, 14']"
      ]
     },
     "execution_count": 53,
     "metadata": {},
     "output_type": "execute_result"
    }
   ],
   "source": [
    "text = \"10, 11, 12, 13, 14\"\n",
    "text.split(\" , \")"
   ]
  },
  {
   "cell_type": "code",
   "execution_count": 57,
   "id": "857af509-b79d-4983-8f59-8729a3931dea",
   "metadata": {},
   "outputs": [
    {
     "name": "stdout",
     "output_type": "stream",
     "text": [
      "[10, 11, 12, 13, 14]\n"
     ]
    }
   ],
   "source": [
    "string = \"10,11,12,13,14\"\n",
    "split_string = string.split(\",\")\n",
    "\n",
    "for index, split_item in enumerate(split_string) :\n",
    "    split_string[index] = int(split_item)\n",
    "print(split_string)"
   ]
  },
  {
   "cell_type": "code",
   "execution_count": 66,
   "id": "ec511f22-e6a3-4a3d-9072-46fb91d4f623",
   "metadata": {},
   "outputs": [
    {
     "data": {
      "text/plain": [
       "'David'"
      ]
     },
     "execution_count": 66,
     "metadata": {},
     "output_type": "execute_result"
    }
   ],
   "source": [
    "string08 = \"Dave goes to korea\"\n",
    "string08.replace(\"Dave\", \"David\")\n",
    "\n",
    "string09 = \"(David)\"\n",
    "string09.replace(\"(\", \"\")\n",
    "\n",
    "string10 = \"(David)\"\n",
    "string10.replace(\"()\", \"\")\n",
    "\n",
    "string11 = \"(David)\"\n",
    "# string12 = string11.replace(\"(\", \"\")\n",
    "# string12.replace(\")\", \"\")\n",
    "\n",
    "# Method Chaining\n",
    "string13 = string11.replace(\"(\", \"\").replace(\")\", \"\")\n",
    "string13"
   ]
  }
 ],
 "metadata": {
  "kernelspec": {
   "display_name": "Python [conda env:base] *",
   "language": "python",
   "name": "conda-base-py"
  },
  "language_info": {
   "codemirror_mode": {
    "name": "ipython",
    "version": 3
   },
   "file_extension": ".py",
   "mimetype": "text/x-python",
   "name": "python",
   "nbconvert_exporter": "python",
   "pygments_lexer": "ipython3",
   "version": "3.13.5"
  }
 },
 "nbformat": 4,
 "nbformat_minor": 5
}
