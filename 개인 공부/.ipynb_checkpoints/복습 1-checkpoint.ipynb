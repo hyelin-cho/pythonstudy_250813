{
 "cells": [
  {
   "cell_type": "code",
   "execution_count": 1,
   "id": "fa18e26a-2461-4eb1-ad2d-daa2acd33287",
   "metadata": {},
   "outputs": [
    {
     "name": "stdout",
     "output_type": "stream",
     "text": [
      "I have a pen. I have a apple\n"
     ]
    }
   ],
   "source": [
    "var01 = \"pen\"\n",
    "var02 = \"apple\"\n",
    "\n",
    "print(f\"I have a {var01}. I have a {var02}\")"
   ]
  },
  {
   "cell_type": "code",
   "execution_count": 4,
   "id": "ad592250-c598-4fd1-8ade-7a013d541a65",
   "metadata": {},
   "outputs": [
    {
     "name": "stdin",
     "output_type": "stream",
     "text": [
      " 5\n",
      " 8\n"
     ]
    },
    {
     "name": "stdout",
     "output_type": "stream",
     "text": [
      "13\n"
     ]
    }
   ],
   "source": [
    "num1 = int(input())\n",
    "num2 = int(input())\n",
    "\n",
    "print(num1+num2)"
   ]
  },
  {
   "cell_type": "code",
   "execution_count": 3,
   "id": "832249fa-1cd2-4394-8f9c-4d2356b446a5",
   "metadata": {},
   "outputs": [
    {
     "name": "stdout",
     "output_type": "stream",
     "text": [
      "0\n"
     ]
    }
   ],
   "source": [
    "num1 = int()\n",
    "num2 = int()\n",
    "\n",
    "print(num1 + num2)"
   ]
  },
  {
   "cell_type": "markdown",
   "id": "a1a8c942-456e-44b7-9883-22a9b07ae4f2",
   "metadata": {},
   "source": [
    "사용자로부터 두개의 숫자를 입력받은 후 곱한 값, 나눈 값, 나눈 몫, 나머지 값을 각각 출력하는 프로그램을 작성해보세요."
   ]
  },
  {
   "cell_type": "code",
   "execution_count": 5,
   "id": "c2a5ea84-2f7a-4523-aca0-90177d8c5ce3",
   "metadata": {},
   "outputs": [
    {
     "name": "stdin",
     "output_type": "stream",
     "text": [
      "첫번째 숫자를 입력하세요. 3\n",
      "두번째 숫자를 입력하세요. 5\n"
     ]
    },
    {
     "name": "stdout",
     "output_type": "stream",
     "text": [
      "15\n",
      "0.6\n",
      "0\n",
      "3\n"
     ]
    }
   ],
   "source": [
    "num1 = int(input(\"첫번째 숫자를 입력하세요.\"))\n",
    "num2 = int(input(\"두번째 숫자를 입력하세요.\"))\n",
    "\n",
    "print(num1 * num2)\n",
    "print(num1 / num2)\n",
    "print(num1 // num2)\n",
    "print(num1 % num2)"
   ]
  },
  {
   "cell_type": "code",
   "execution_count": 11,
   "id": "9e055a10-115a-46e3-8224-3ef31b4a4db2",
   "metadata": {},
   "outputs": [
    {
     "name": "stdout",
     "output_type": "stream",
     "text": [
      "['안녕', '굿', '커피', '캐모마일']\n"
     ]
    }
   ],
   "source": [
    "a01 = [\"안녕\", \"굿\", \"커피\", \"캐모마일\"]\n",
    "\n",
    "print(a01)"
   ]
  },
  {
   "cell_type": "code",
   "execution_count": 14,
   "id": "c652cf0a-03d0-46a5-8334-8009e467f294",
   "metadata": {},
   "outputs": [
    {
     "name": "stdout",
     "output_type": "stream",
     "text": [
      "['안녕', '굿', '커피', '캐모마일', '카페', '카페', '카페']\n"
     ]
    }
   ],
   "source": [
    "a01.append(\"카페\")\n",
    "\n",
    "print(a01)"
   ]
  },
  {
   "cell_type": "code",
   "execution_count": 17,
   "id": "49eda519-2345-4596-9536-a59e7bdb40c5",
   "metadata": {},
   "outputs": [],
   "source": [
    "a01.remove(\"카페\")"
   ]
  },
  {
   "cell_type": "code",
   "execution_count": 18,
   "id": "3d4ab5d4-5320-43ea-809f-a2bd2168509f",
   "metadata": {},
   "outputs": [
    {
     "data": {
      "text/plain": [
       "['안녕', '굿', '커피', '캐모마일', '카페', '카페']"
      ]
     },
     "execution_count": 18,
     "metadata": {},
     "output_type": "execute_result"
    }
   ],
   "source": [
    "a01"
   ]
  },
  {
   "cell_type": "code",
   "execution_count": 19,
   "id": "ecdf8693-c5ad-404b-b834-3b705e90740a",
   "metadata": {},
   "outputs": [],
   "source": [
    "del a01[-1]"
   ]
  },
  {
   "cell_type": "code",
   "execution_count": 20,
   "id": "cef1d436-7cca-4b05-b5f2-8100f442ca4b",
   "metadata": {},
   "outputs": [
    {
     "data": {
      "text/plain": [
       "['안녕', '굿', '커피', '캐모마일', '카페']"
      ]
     },
     "execution_count": 20,
     "metadata": {},
     "output_type": "execute_result"
    }
   ],
   "source": [
    "a01"
   ]
  },
  {
   "cell_type": "code",
   "execution_count": 22,
   "id": "7731b941-6627-4b36-bc50-410e18af1003",
   "metadata": {},
   "outputs": [],
   "source": [
    "a01.extend([\"의자\"])"
   ]
  },
  {
   "cell_type": "code",
   "execution_count": 23,
   "id": "91f9972f-bfbb-420d-b3a9-f693233e7042",
   "metadata": {},
   "outputs": [
    {
     "data": {
      "text/plain": [
       "['안녕', '굿', '커피', '캐모마일', '카페', '의자', '의자']"
      ]
     },
     "execution_count": 23,
     "metadata": {},
     "output_type": "execute_result"
    }
   ],
   "source": [
    "a01"
   ]
  },
  {
   "cell_type": "code",
   "execution_count": 25,
   "id": "d6a44d88-a4f2-4ba1-a6ac-7aea74fa33d0",
   "metadata": {},
   "outputs": [],
   "source": [
    "a01.insert(1, \"책상\")"
   ]
  },
  {
   "cell_type": "code",
   "execution_count": 26,
   "id": "e403f1bf-0bec-4691-954d-d5c5b40f94b7",
   "metadata": {},
   "outputs": [
    {
     "data": {
      "text/plain": [
       "['안녕', '책상', '책상', '굿', '커피', '캐모마일', '카페', '의자', '의자']"
      ]
     },
     "execution_count": 26,
     "metadata": {},
     "output_type": "execute_result"
    }
   ],
   "source": [
    "a01"
   ]
  },
  {
   "cell_type": "code",
   "execution_count": 29,
   "id": "06ccd3b8-120e-4c5e-adaa-8c9686881bf2",
   "metadata": {},
   "outputs": [],
   "source": [
    "del a01[2]"
   ]
  },
  {
   "cell_type": "code",
   "execution_count": 31,
   "id": "84199595-ea7b-4a9d-866c-f72a8477f540",
   "metadata": {},
   "outputs": [
    {
     "data": {
      "text/plain": [
       "['안녕', '책상', '커피', '캐모마일', '카페', '의자', '의자']"
      ]
     },
     "execution_count": 31,
     "metadata": {},
     "output_type": "execute_result"
    }
   ],
   "source": [
    "a01"
   ]
  },
  {
   "cell_type": "code",
   "execution_count": 35,
   "id": "f921b1d6-d02b-48b2-b462-618248e80cb5",
   "metadata": {},
   "outputs": [],
   "source": [
    "del a01[-1]"
   ]
  },
  {
   "cell_type": "code",
   "execution_count": 36,
   "id": "6084e88d-6dd2-465f-9583-86af57e9c5e1",
   "metadata": {},
   "outputs": [
    {
     "data": {
      "text/plain": [
       "['안녕', '책상', '커피', '캐모마일']"
      ]
     },
     "execution_count": 36,
     "metadata": {},
     "output_type": "execute_result"
    }
   ],
   "source": [
    "a01"
   ]
  },
  {
   "cell_type": "code",
   "execution_count": 38,
   "id": "c489d3b5-44bb-4efa-b127-527f1b175be7",
   "metadata": {},
   "outputs": [],
   "source": [
    "a01.extend([\"의자\"])"
   ]
  },
  {
   "cell_type": "code",
   "execution_count": 39,
   "id": "5c079ab0-94b3-4b75-99f2-2c316d150504",
   "metadata": {},
   "outputs": [
    {
     "data": {
      "text/plain": [
       "['안녕', '책상', '커피', '캐모마일', '의자', '의자']"
      ]
     },
     "execution_count": 39,
     "metadata": {},
     "output_type": "execute_result"
    }
   ],
   "source": [
    "a01"
   ]
  },
  {
   "cell_type": "code",
   "execution_count": 40,
   "id": "960c6442-6980-4eb8-bae3-3b34d232f4e1",
   "metadata": {},
   "outputs": [],
   "source": [
    "a01.extend([\"의자\"])"
   ]
  },
  {
   "cell_type": "code",
   "execution_count": 41,
   "id": "002cb638-7b1c-44d0-9c4f-d901181f080f",
   "metadata": {},
   "outputs": [
    {
     "data": {
      "text/plain": [
       "['안녕', '책상', '커피', '캐모마일', '의자', '의자', '의자']"
      ]
     },
     "execution_count": 41,
     "metadata": {},
     "output_type": "execute_result"
    }
   ],
   "source": [
    "a01"
   ]
  }
 ],
 "metadata": {
  "kernelspec": {
   "display_name": "Python [conda env:base] *",
   "language": "python",
   "name": "conda-base-py"
  },
  "language_info": {
   "codemirror_mode": {
    "name": "ipython",
    "version": 3
   },
   "file_extension": ".py",
   "mimetype": "text/x-python",
   "name": "python",
   "nbconvert_exporter": "python",
   "pygments_lexer": "ipython3",
   "version": "3.13.5"
  }
 },
 "nbformat": 4,
 "nbformat_minor": 5
}
