{
 "cells": [
  {
   "cell_type": "code",
   "execution_count": null,
   "id": "da4244fd-b161-459e-8631-316843880979",
   "metadata": {},
   "outputs": [],
   "source": [
    "#### 조건문\n",
    "\n",
    "if 조건 : \n",
    "    실행문\n",
    "if 조건1 and 조건2 :  # and 조건이 들어오면 좌우항 모두 참여해야함.\n",
    "    실행문\n",
    "if 조건1 or 조건2 : # 둘 중 하나라도 참이면 실행\n",
    "    실행문\n",
    "if not 조건1 :  # 조건이 거짓이면 실행이 됨. 부정조건\n",
    "    실행문\n",
    "\n",
    "```\n",
    "if 조건 :\n",
    "    실행문\n",
    "else :\n",
    "    실행문\n",
    "```"
   ]
  },
  {
   "cell_type": "code",
   "execution_count": 6,
   "id": "244d707e-9bef-4cd8-8a1d-6387bbb7b868",
   "metadata": {},
   "outputs": [
    {
     "name": "stdin",
     "output_type": "stream",
     "text": [
      "당신의 나이는? 24\n"
     ]
    },
    {
     "name": "stdout",
     "output_type": "stream",
     "text": [
      "당신은 성인입니다.\n",
      "축하드립니다\n",
      "이제부터 인생은 시작입니다.\n",
      "무엇이든 할 수 있습니다.\n",
      "응원합니다.\n"
     ]
    }
   ],
   "source": [
    "age = int(input(\"당신의 나이는?\"))\n",
    "\n",
    "if age >= 19 : \n",
    "    print(\"당신은 성인입니다.\")\n",
    "    print(\"축하드립니다\")\n",
    "    print(\"이제부터 인생은 시작입니다.\")\n",
    "    print(\"무엇이든 할 수 있습니다.\")\n",
    "    print(\"응원합니다.\") # 조건문에는 들여쓰기가 반드시 필요."
   ]
  },
  {
   "cell_type": "code",
   "execution_count": 8,
   "id": "0fcf31ed-8fd6-441e-ac93-7885093c5c9d",
   "metadata": {},
   "outputs": [
    {
     "name": "stdin",
     "output_type": "stream",
     "text": [
      "인성이의 나이는? 20\n",
      "지섭이의 나이는? 20\n"
     ]
    },
    {
     "name": "stdout",
     "output_type": "stream",
     "text": [
      "영화관 입장 가능\n"
     ]
    }
   ],
   "source": [
    "age1 = int(input(\"인성이의 나이는?\"))\n",
    "age2 = int(input(\"지섭이의 나이는?\"))\n",
    "\n",
    "if age1 >= 19 and age2 >=19 :\n",
    "    print(\"영화관 입장 가능\")"
   ]
  },
  {
   "cell_type": "code",
   "execution_count": 11,
   "id": "0a071e7b-3197-4634-83f1-58cdcc95ad46",
   "metadata": {},
   "outputs": [
    {
     "name": "stdin",
     "output_type": "stream",
     "text": [
      "인성이의 나이는? 18\n",
      "지섭이의 나이는? 24\n"
     ]
    },
    {
     "name": "stdout",
     "output_type": "stream",
     "text": [
      "영화관 입장 가능\n"
     ]
    }
   ],
   "source": [
    "age1 = int(input(\"인성이의 나이는?\"))\n",
    "age2 = int(input(\"지섭이의 나이는?\"))\n",
    "\n",
    "if age1 >= 19 or age2 >=19 :\n",
    "    print(\"영화관 입장 가능\")"
   ]
  },
  {
   "cell_type": "code",
   "execution_count": 13,
   "id": "92d3cad7-61d5-4919-97f5-2d14dbf182b8",
   "metadata": {},
   "outputs": [
    {
     "name": "stdin",
     "output_type": "stream",
     "text": [
      "승원이의 나이는? 24\n"
     ]
    },
    {
     "name": "stdout",
     "output_type": "stream",
     "text": [
      "영화관 입장 가능\n"
     ]
    }
   ],
   "source": [
    "age3 = int(input(\"승원이의 나이는?\"))\n",
    "\n",
    "if not age3 <= 19 : # 많이 사용하진 않지만 알고 있으면 좋음.\n",
    "    print(\"영화관 입장 가능\")"
   ]
  },
  {
   "cell_type": "code",
   "execution_count": 15,
   "id": "2ed3dde4-8d1a-4923-b84d-c9bcbdaaf84b",
   "metadata": {},
   "outputs": [
    {
     "name": "stdin",
     "output_type": "stream",
     "text": [
      "현재 가지고 있는 현금은 얼마인가요? 400000\n"
     ]
    },
    {
     "name": "stdout",
     "output_type": "stream",
     "text": [
      "오늘 저녁은 vips!\n"
     ]
    }
   ],
   "source": [
    "cash = int(input(\"현재 가지고 있는 현금은 얼마인가요?\"))\n",
    "\n",
    "if cash > 10000 :\n",
    "    print(\"오늘 저녁은 vips!\")\n",
    "else :\n",
    "    print(\"오늘 저녁은 집에서!\")"
   ]
  },
  {
   "cell_type": "markdown",
   "id": "45895bd0-7475-4de3-a7bb-c203b2e81d20",
   "metadata": {},
   "source": [
    "- 사용자로부터 나이를 입력 받아서, 나이가 19세 이상이면 \"당신은 성인입니다.\" 출력, 19세 미만이라고 한다면, \"당신은 청소년입니다\" 출력ㅠ"
   ]
  },
  {
   "cell_type": "code",
   "execution_count": 20,
   "id": "50c32578-61f4-4b17-8fbd-3a93d2cb8522",
   "metadata": {},
   "outputs": [
    {
     "name": "stdin",
     "output_type": "stream",
     "text": [
      "당신의 나이는? 19\n"
     ]
    },
    {
     "name": "stdout",
     "output_type": "stream",
     "text": [
      "당신은 성인입니다.\n"
     ]
    }
   ],
   "source": [
    "age = int(input(\"당신의 나이는?\"))\n",
    "\n",
    "if age >= 19 :\n",
    "    print(\"당신은 성인입니다.\")\n",
    "else :\n",
    "    print(\"당신은 청소년입니다.\") # 문제 실습_나"
   ]
  },
  {
   "cell_type": "code",
   "execution_count": 21,
   "id": "5c8e7bf1-d1c2-48a1-865c-b08872da2444",
   "metadata": {},
   "outputs": [
    {
     "name": "stdin",
     "output_type": "stream",
     "text": [
      "당신의 나이는? 18\n"
     ]
    },
    {
     "name": "stdout",
     "output_type": "stream",
     "text": [
      "당신은 청소년입니다\n"
     ]
    }
   ],
   "source": [
    "userAge = int(input(\"당신의 나이는?\"))\n",
    "\n",
    "if userAge >= 19 :\n",
    "    print(\"당신은 성인입니다\")\n",
    "else :\n",
    "    print(\"당신은 청소년입니다\")"
   ]
  },
  {
   "cell_type": "markdown",
   "id": "dea36f98-b0b0-4b33-8a3d-3e99ca196380",
   "metadata": {},
   "source": [
    "- 사용자로부터 나이를 입력 받아서, 나이가 19세 이상이면 당신은 성인입니다. 13세 이상 19세 미만이면 당신은 청소년입니다. 13세 미만이면 당신은 아동입니다."
   ]
  },
  {
   "cell_type": "markdown",
   "id": "5d8bda12-62ce-4d8e-a5e9-7e52fee19ffd",
   "metadata": {},
   "source": [
    "#### else문 유의사항 \n",
    "- 어떤 조건문 안에서도 1회만 사용할 수 있음!\n",
    "- else문은 조건문 중간에 절대 입력할 수 없음!\n",
    "- else문은 독립적으로 조건식을 받을 수 없음!\n",
    "- else문은 조건문 내 반드시 작성해야하는 필수값은 아님!"
   ]
  },
  {
   "cell_type": "code",
   "execution_count": 38,
   "id": "e333db14-4488-4631-9e7b-bf0d8a087c83",
   "metadata": {},
   "outputs": [
    {
     "name": "stdin",
     "output_type": "stream",
     "text": [
      "당신의 나이는? 13\n"
     ]
    },
    {
     "name": "stdout",
     "output_type": "stream",
     "text": [
      "당신은 청소년입니다\n"
     ]
    }
   ],
   "source": [
    "userage = int(input(\"당신의 나이는?\"))\n",
    "\n",
    "if userage >= 19 :\n",
    "    print(\"당신은 성인입니다\")\n",
    "if userage < 19 and userage >= 13 :\n",
    "    print(\"당신은 청소년입니다\")\n",
    "if userage < 13 :\n",
    "    print(\"당신은 아동입니다\") # 내꺼"
   ]
  },
  {
   "cell_type": "code",
   "execution_count": 1,
   "id": "50096e97-19a7-466e-ab58-5d94dc9b9f25",
   "metadata": {},
   "outputs": [
    {
     "name": "stdin",
     "output_type": "stream",
     "text": [
      "당신의 나이는? 12\n"
     ]
    },
    {
     "name": "stdout",
     "output_type": "stream",
     "text": [
      "당신은 아동입니다\n"
     ]
    }
   ],
   "source": [
    "age = int(input(\"당신의 나이는?\"))\n",
    "\n",
    "if age >= 19 :\n",
    "    print(\"당신은 성인입니다\")\n",
    "elif age < 19 and age >= 13 : # else를 쓰지 않아도 된다.\n",
    "    print(\"당신은 청소년입니다\")\n",
    "else :\n",
    "    print(\"당신은 아동입니다\") # else는 중간에 들어갈 수 없다. "
   ]
  },
  {
   "cell_type": "code",
   "execution_count": null,
   "id": "dae35956-4eb0-47db-b0d4-184998597519",
   "metadata": {},
   "outputs": [],
   "source": [
    "- 사용자로부터 나이를 입력 받아서, 나이가 19세 이상이면 당신은 성인입니다. 13세 이상이면서 19세 미만이면 당신은 청소년입니다. 13세 미만이면서 5세 이상이면 당신은 아동입니다."
   ]
  },
  {
   "cell_type": "code",
   "execution_count": 42,
   "id": "d18f089c-3a17-4dc9-b813-62cb2341b585",
   "metadata": {},
   "outputs": [
    {
     "name": "stdin",
     "output_type": "stream",
     "text": [
      "당신의 나이는? 5\n"
     ]
    },
    {
     "name": "stdout",
     "output_type": "stream",
     "text": [
      "당신은 아동입니다\n"
     ]
    }
   ],
   "source": [
    "age = int(input(\"당신의 나이는?\"))\n",
    "\n",
    "if age >= 19 :\n",
    "    print(\"당신은 성인입니다\")\n",
    "elif age < 19 and age >= 13 : # else는 필수값이 아님.\n",
    "    print(\"당신은 청소년입니다\")\n",
    "elif age >= 5 and age < 13 :\n",
    "    print(\"당신은 아동입니다\")"
   ]
  },
  {
   "cell_type": "markdown",
   "id": "81d07e57-bf7d-467f-b6fe-bd874f5f99a3",
   "metadata": {},
   "source": [
    "- 사용자로부터 현재 현금이 얼마인지 확인 후 10만원 이상이라면 레스토랑으로 갑시다! 출력, 그렇지 않은 경우 만약 5만원 이상이라면 뷔페로 갑시다! 출력, 5만원 미만이라면 집으로 가세요! 라고 출력"
   ]
  },
  {
   "cell_type": "code",
   "execution_count": 53,
   "id": "b72846e9-487e-4e3d-9b79-da36706b1d6c",
   "metadata": {},
   "outputs": [
    {
     "name": "stdin",
     "output_type": "stream",
     "text": [
      "현재 가지고 있는 돈은? 60000\n"
     ]
    },
    {
     "name": "stdout",
     "output_type": "stream",
     "text": [
      "뷔페로 갑시다!\n"
     ]
    }
   ],
   "source": [
    "cash = int(input(\"현재 가지고 있는 돈은?\"))\n",
    "\n",
    "if cash >= 100000 :\n",
    "    print(\"레스토랑으로 갑시다!\")\n",
    "else :\n",
    "    if cash >= 50000 :\n",
    "        print(\"뷔페로 갑시다!\")\n",
    "    else :\n",
    "        print(\"집으로 가세요!\") # 중첩if 조건문"
   ]
  },
  {
   "cell_type": "markdown",
   "id": "9bc42388-ea50-4eb7-8dbb-4315857613ae",
   "metadata": {},
   "source": [
    "- 사용자로부터 얼마의 현금이 있는지 확인 후 10만원 초과인 경우 레스토랑 출력, 그렇지 않은 경우 만약 5만원 미만인 경우 집 출력, 7만원 초과인 경우 패밀리 레스토랑 출력, 6만원 초과인 경우 한식집 출력 그렇지 않으면 분식집 출력"
   ]
  },
  {
   "cell_type": "code",
   "execution_count": 65,
   "id": "28029a8d-e655-429f-ae16-89dfa2b23326",
   "metadata": {},
   "outputs": [
    {
     "ename": "SyntaxError",
     "evalue": "invalid syntax (3171358049.py, line 12)",
     "output_type": "error",
     "traceback": [
      "\u001b[0;36m  Cell \u001b[0;32mIn[65], line 12\u001b[0;36m\u001b[0m\n\u001b[0;31m    else :\u001b[0m\n\u001b[0m    ^\u001b[0m\n\u001b[0;31mSyntaxError\u001b[0m\u001b[0;31m:\u001b[0m invalid syntax\n"
     ]
    }
   ],
   "source": [
    "cash = int(input(\"현재 가지고 있는 돈은?\"))\n",
    "\n",
    "if cash > 100000 :\n",
    "    print(\"레스토랑으로 갑시다!\")\n",
    "else :\n",
    "    if cash < 50000 : \n",
    "        print(\"집으로 가세요!\")\n",
    "    if cash > 70000 :\n",
    "        print(\"패밀리 레스토랑으로 갑시다!\")\n",
    "    if cash > 60000 :\n",
    "        print(\"한식집으로 가세요!\")\n",
    "        else :\n",
    "        if cash >= 60000 :\n",
    "            print(\"분식집\")"
   ]
  },
  {
   "cell_type": "code",
   "execution_count": 68,
   "id": "f25bb147-ca17-4f12-8b6b-0b2505b1dfa6",
   "metadata": {},
   "outputs": [
    {
     "name": "stdin",
     "output_type": "stream",
     "text": [
      "현재 가지고 있는 돈은? 54000\n"
     ]
    },
    {
     "name": "stdout",
     "output_type": "stream",
     "text": [
      "분식집\n"
     ]
    }
   ],
   "source": [
    "cash = int(input(\"현재 가지고 있는 돈은?\"))\n",
    "\n",
    "if cash > 100000 :\n",
    "    print(\"레스토랑으로 갑시다!\")\n",
    "else :\n",
    "    if cash > 50000 : \n",
    "        if cash > 70000 :\n",
    "            print(\"패밀리 레스토랑\")\n",
    "        elif cash > 60000 : \n",
    "            print(\"한식집\")\n",
    "        else :\n",
    "            print(\"분식집\")\n",
    "    else :\n",
    "        print(\"집으로 가세요\")"
   ]
  },
  {
   "cell_type": "markdown",
   "id": "d3a55dc7-9ac3-45d7-8773-43f24bfa689d",
   "metadata": {},
   "source": [
    "- 사용자로부터 특정 숫자를 입력 받은 후 해당 숫자가 홀 수 인지, 짝수인지 분별해서 출력해주세요"
   ]
  },
  {
   "cell_type": "code",
   "execution_count": 71,
   "id": "c0539339-9190-4191-9ec8-3ba67c0a536a",
   "metadata": {},
   "outputs": [
    {
     "name": "stdin",
     "output_type": "stream",
     "text": [
      " 3\n"
     ]
    },
    {
     "name": "stdout",
     "output_type": "stream",
     "text": [
      "홀수입니다\n"
     ]
    }
   ],
   "source": [
    "num = int(input())\n",
    "\n",
    "if num % 2 == 0 :\n",
    "    print(\"짝수입니다\")\n",
    "else :\n",
    "    print(\"홀수입니다\")"
   ]
  },
  {
   "cell_type": "markdown",
   "id": "1ea15ada-5cfc-40e4-8794-704c496c8a6e",
   "metadata": {},
   "source": [
    "- 사용자로부터 3개의 숫자를 입력받은 후 그 중 가장 작은 숫자를 출력해주세요."
   ]
  },
  {
   "cell_type": "code",
   "execution_count": 73,
   "id": "bdafce5e-bbe2-4c2e-930e-82d4a7660b36",
   "metadata": {},
   "outputs": [
    {
     "name": "stdin",
     "output_type": "stream",
     "text": [
      " 8\n",
      " 5\n",
      " 2\n"
     ]
    },
    {
     "name": "stdout",
     "output_type": "stream",
     "text": [
      "2\n"
     ]
    }
   ],
   "source": [
    "num1 = int(input())\n",
    "num2 = int(input())\n",
    "num3 = int(input())\n",
    "\n",
    "if num1 <= num2 and num1 <= num3 :\n",
    "    print(num1)\n",
    "elif num2 <= num1 and num2 <= num3 :\n",
    "    print(num2)\n",
    "elif num3 <= num1 and num3 <= num2 :\n",
    "    print(num3)"
   ]
  },
  {
   "cell_type": "code",
   "execution_count": 74,
   "id": "2948107d-0deb-4688-b641-03609b3ba321",
   "metadata": {},
   "outputs": [
    {
     "name": "stdin",
     "output_type": "stream",
     "text": [
      " 10\n",
      " 5\n",
      " 3\n"
     ]
    },
    {
     "data": {
      "text/plain": [
       "3"
      ]
     },
     "execution_count": 74,
     "metadata": {},
     "output_type": "execute_result"
    }
   ],
   "source": [
    "num1 = int(input())\n",
    "num2 = int(input())\n",
    "num3 = int(input())\n",
    "\n",
    "min(num1, num2, num3)"
   ]
  },
  {
   "cell_type": "code",
   "execution_count": 76,
   "id": "93eb1b1b-b2bc-46c3-8532-07758a75078d",
   "metadata": {},
   "outputs": [
    {
     "name": "stdin",
     "output_type": "stream",
     "text": [
      " 10\n",
      " 9\n",
      " 8\n"
     ]
    },
    {
     "data": {
      "text/plain": [
       "8"
      ]
     },
     "execution_count": 76,
     "metadata": {},
     "output_type": "execute_result"
    }
   ],
   "source": [
    "nums = [int(input()) for _ in range(3)]   # for in문. range = 범위 3회만큼 반복해서\n",
    "min(nums) # 이 중 가장 작은 값을 찾아오겠다."
   ]
  },
  {
   "cell_type": "code",
   "execution_count": null,
   "id": "243e691a-b78c-465e-915b-12fb72358136",
   "metadata": {},
   "outputs": [],
   "source": []
  }
 ],
 "metadata": {
  "kernelspec": {
   "display_name": "Python [conda env:base] *",
   "language": "python",
   "name": "conda-base-py"
  },
  "language_info": {
   "codemirror_mode": {
    "name": "ipython",
    "version": 3
   },
   "file_extension": ".py",
   "mimetype": "text/x-python",
   "name": "python",
   "nbconvert_exporter": "python",
   "pygments_lexer": "ipython3",
   "version": "3.13.5"
  }
 },
 "nbformat": 4,
 "nbformat_minor": 5
}
