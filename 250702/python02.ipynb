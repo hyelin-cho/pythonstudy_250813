{
 "cells": [
  {
   "cell_type": "markdown",
   "id": "9b11ef88-7b27-4600-be9e-680fec3409ba",
   "metadata": {},
   "source": [
    "#### 파이썬 입.출력 예시\n",
    "\n",
    "- 사용자로부터 두 개의 숫자를 입력 받은 후 두 갱의 숫자를 더한 값을 출력하는 프로그램을 작성해보세요."
   ]
  },
  {
   "cell_type": "code",
   "execution_count": 2,
   "id": "36100c4b-a6f8-404f-92f2-0d82664768d6",
   "metadata": {},
   "outputs": [
    {
     "name": "stdin",
     "output_type": "stream",
     "text": [
      " 7\n",
      " 3\n"
     ]
    },
    {
     "name": "stdout",
     "output_type": "stream",
     "text": [
      "10\n"
     ]
    }
   ],
   "source": [
    "num1 = int(input())\n",
    "num2 = int(input())\n",
    "\n",
    "print(num1 + num2)"
   ]
  },
  {
   "cell_type": "code",
   "execution_count": 7,
   "id": "d27eed78-b7bf-4732-9b4e-6cd67a88a13c",
   "metadata": {},
   "outputs": [
    {
     "name": "stdout",
     "output_type": "stream",
     "text": [
      "0\n"
     ]
    }
   ],
   "source": [
    "num1 = int()\n",
    "num2 = int()\n",
    "\n",
    "print(num1 + num2)"
   ]
  },
  {
   "cell_type": "code",
   "execution_count": 8,
   "id": "417b78a7-1b73-445e-aad8-8feae413c930",
   "metadata": {},
   "outputs": [
    {
     "name": "stdout",
     "output_type": "stream",
     "text": [
      "10\n"
     ]
    }
   ],
   "source": [
    "num1 = int(7)\n",
    "num2 = int(3)\n",
    "\n",
    "print(num1 + num2)"
   ]
  },
  {
   "cell_type": "code",
   "execution_count": 9,
   "id": "e3f77b27-fc44-40b9-b0b1-2f2682e9639a",
   "metadata": {},
   "outputs": [
    {
     "name": "stdout",
     "output_type": "stream",
     "text": [
      "10\n"
     ]
    }
   ],
   "source": [
    "num1 = 7\n",
    "num = 3\n",
    "\n",
    "print(num1 + num2)"
   ]
  },
  {
   "cell_type": "code",
   "execution_count": 10,
   "id": "32597fcc-a3e0-4924-a9a4-ae83bf5d21d5",
   "metadata": {},
   "outputs": [
    {
     "name": "stdin",
     "output_type": "stream",
     "text": [
      " 8\n",
      " 2\n"
     ]
    },
    {
     "name": "stdout",
     "output_type": "stream",
     "text": [
      "합계 : 10\n"
     ]
    }
   ],
   "source": [
    "num1 = int(input())\n",
    "num2 = int(input())\n",
    "\n",
    "print(\"합계 :\", num1 + num2)"
   ]
  },
  {
   "cell_type": "markdown",
   "id": "11a80408-6e79-4616-af77-28db9dd5e108",
   "metadata": {},
   "source": [
    "- 사용자로부터 두개의 숫자를 입력받은 후 곱한 값, 나눈 값, 나눈 몫, 나머지 값을 각각 출력하는 프로그램을 작성해보세요."
   ]
  },
  {
   "cell_type": "code",
   "execution_count": 17,
   "id": "3cf380c8-38c9-4023-b743-be3b7f85403b",
   "metadata": {},
   "outputs": [
    {
     "name": "stdin",
     "output_type": "stream",
     "text": [
      "첫번째 숫자를 입력하세요 100\n",
      "두번째 숫자를 입력하세요 30\n"
     ]
    },
    {
     "name": "stdout",
     "output_type": "stream",
     "text": [
      "곱한 값 : 3000\n",
      "나눈 값 : 100 / 30 = 3.3333333333333335\n",
      "100 // 30 = 3\n",
      "나머지 값 : 100 % 30 = 10\n"
     ]
    }
   ],
   "source": [
    "num1 = int(input(\"첫번째 숫자를 입력하세요\"))\n",
    "num2 = int(input(\"두번째 숫자를 입력하세요\"))\n",
    "\n",
    "print(\"곱한 값 :\", num1*num2)\n",
    "print(f\"나눈 값 : {num1} / {num2} = {num1 / num2}\")\n",
    "print(num1, \"//\", num2, \"=\", num1//num2)\n",
    "print(f\"나머지 값 : {num1} % {num2} = {num1 % num2}\")"
   ]
  },
  {
   "cell_type": "markdown",
   "id": "1c755b73-5d11-4bce-9544-247a14f71d48",
   "metadata": {},
   "source": [
    "### 데이터 자료구조 - 리스트 {List}\n",
    "- 파이썬의 리스트 => 다른 프로그래밍 언어에서 주로 배열(array)이라는 이름으로 많이 불림\n",
    "- 프로그래밍 언어 => 인간의 작업보다 효율적이다 => 패턴을 반복적인 작업을 매우 빠르게 잘하기 때문!!\n",
    "- 어떤 연산처리 작업을 반복해서 할 수 있는 형태의 자료구조여야만 위의 작업을 할 수 있음\n",
    "- 이터러블 = iterable = 반복적인 // class\n",
    "- 문자열 역시 이터러블한 속성을 가지고 있음.\n",
    "- 리스트 자료구조는 내부에 입력된 값에 고유한 개별적인 인덱스(index)값을 부여"
   ]
  },
  {
   "cell_type": "markdown",
   "id": "5fe3f37d-5d3b-4b2d-a6ce-a05b1ac7b57d",
   "metadata": {},
   "source": [
    "- 리스트는 각각 고유한 인덱스값을 가지고 있음 (0부터 시작함)\n",
    "- 리스트에서 특정 인덱스값을 찾아오고자 할 때 => 변수명[인덱스값] & 만약 오른쪽부터 값을 찾아오고 싶다면 -1 음수값부터 시작!\n",
    "- 문자열과 동일하게 슬라이싱 기능 있음 => 변수명[시작인덱스:종료인덱스 +1]\n",
    "- append() : 리스트 자료구조에서 왼쪽부터 신규로 값을 추가할 수 있도록 해주는 함수 => 한 번에 여러개 값을 추가할 수 없음.\n",
    "- insert() : 리스트 자료구조 안에 값을 추가할 수 있는 함수 => 첫번째 인덱스는 추가하고자 하는 위치, 두번째 인덱스는 추가하고자 하는 값을 의미\n",
    "- extend() : 리스트 자료구조에서 왼쪽부터 신규로 값을 추가하는데 있어서 복수의 값을 한 번에 추가할 수 있음.\n",
    "- remove() : 함수의 인자값을 리스트 자료구조의 왼쪽부터 서칭하다가 발견 시, 삭제해주는 함수\n",
    "- del() : del 변수명[인덱스값] => 해당 인덱스값을 삭제해주는 함수\n",
    "- sort() : 리스트 안에 있는 값을 오름차순으로 정렬할 때 사용하는 함수\n",
    "- reverse() : 리스트 안에 있는 값을 내림차순으로 정렬할 때 사용하는 함수\n",
    "- split() : 문자열의 자료형태를 인자값을 기준으로 나눠서 리스트 자료형태로 변환시켜주는 함수"
   ]
  },
  {
   "cell_type": "markdown",
   "id": "438ac053-059e-4572-853f-07773788683c",
   "metadata": {},
   "source": [
    "#### 리스트 자료구조 생성하는 방법\n",
    "- 변수 선언과 함꼐 직접 대괄호 입력 후 내부에 요소들을 입력하는 방법\n",
    "- 아무런 값도 존재하지 않는 빈 리스트를 만들어 놓고 값을 하나씩 채워가는 방법\n",
    "- 파이썬 내 클래스 문법을 통해서 이미 생성된 리스트 프로토타입을 활용해서 인스턴스 객체를 생성하는 방법  # 파이썬 객체지향언어 <-> 절차지향언어(요즘은 없음 ex.c언어)"
   ]
  },
  {
   "cell_type": "code",
   "execution_count": 22,
   "id": "4892fb36-3a54-4cf2-98f4-5ab39176d383",
   "metadata": {},
   "outputs": [],
   "source": [
    "mydata = [\"hello\", 1, 2, \"world\"]\n",
    "news = [\"오마이뉴스\", \"한국일보\", \"시사인\", \"뉴시스\", \"KBS\", \"스포츠조선\"]"
   ]
  },
  {
   "cell_type": "code",
   "execution_count": 28,
   "id": "2949c592-823f-4254-b730-3f2e7c1823fa",
   "metadata": {},
   "outputs": [
    {
     "name": "stdout",
     "output_type": "stream",
     "text": [
      "서울시\n",
      "경기도\n",
      "인천시\n",
      "['서울시', '경기도', '인천시']\n",
      "<class 'list'>\n"
     ]
    }
   ],
   "source": [
    "location = [\"서울시\", \"경기도\", \"인천시\"]\n",
    "\n",
    "print(location[0])\n",
    "print(location[1])\n",
    "print(location[2])\n",
    "print(location)\n",
    "print(type(location)) # type -> 내장 함수 인자값. class라는 모듈을 떠놓고 필요할 때마다 가져다 쓰는 것. 다시 설명해주실 거임 ex) 붕어빵 틀"
   ]
  },
  {
   "cell_type": "code",
   "execution_count": 35,
   "id": "78e2c655-1ab2-4f71-8477-6ce52acd907d",
   "metadata": {},
   "outputs": [
    {
     "data": {
      "text/plain": [
       "['서울시', '경기도', '인천시', '부산시', '부산시', '부산시', '부산시', '부산시', '부산시', '부산시']"
      ]
     },
     "execution_count": 35,
     "metadata": {},
     "output_type": "execute_result"
    }
   ],
   "source": [
    "location.append(\"부산시\") # 논문이나 부록에 append를 주로 쓰임. 뒤에서부터 값을 추가\n",
    "\n",
    "# print(location) - print를 넣지 않아도 맨 마지막에 특정 변수를 추가하면 값이 출력된다. \n",
    "location"
   ]
  },
  {
   "cell_type": "code",
   "execution_count": 36,
   "id": "fbc88c4d-5822-4695-94bd-c8a44a6af627",
   "metadata": {},
   "outputs": [
    {
     "ename": "TypeError",
     "evalue": "list.append() takes exactly one argument (2 given)",
     "output_type": "error",
     "traceback": [
      "\u001b[0;31m---------------------------------------------------------------------------\u001b[0m",
      "\u001b[0;31mTypeError\u001b[0m                                 Traceback (most recent call last)",
      "Cell \u001b[0;32mIn[36], line 1\u001b[0m\n\u001b[0;32m----> 1\u001b[0m location\u001b[38;5;241m.\u001b[39mappend(\u001b[38;5;124m\"\u001b[39m\u001b[38;5;124m완도군\u001b[39m\u001b[38;5;124m\"\u001b[39m, \u001b[38;5;124m\"\u001b[39m\u001b[38;5;124m해남\u001b[39m\u001b[38;5;124m\"\u001b[39m)\n",
      "\u001b[0;31mTypeError\u001b[0m: list.append() takes exactly one argument (2 given)"
     ]
    }
   ],
   "source": [
    "location.append(\"완도군\", \"해남\") # 한 번에 하나씩 밖에 생성이 되지 않음. 하나의 매개변수만 받을 수 있음"
   ]
  },
  {
   "cell_type": "code",
   "execution_count": 38,
   "id": "7f13d62a-6d5b-4342-9746-a41df365316f",
   "metadata": {},
   "outputs": [],
   "source": [
    "location.append(\"완도군\")"
   ]
  },
  {
   "cell_type": "code",
   "execution_count": 39,
   "id": "54e07046-5139-4a79-a414-444931b7f386",
   "metadata": {},
   "outputs": [
    {
     "data": {
      "text/plain": [
       "['서울시',\n",
       " '경기도',\n",
       " '인천시',\n",
       " '부산시',\n",
       " '부산시',\n",
       " '부산시',\n",
       " '부산시',\n",
       " '부산시',\n",
       " '부산시',\n",
       " '부산시',\n",
       " '완도군',\n",
       " '완도군']"
      ]
     },
     "execution_count": 39,
     "metadata": {},
     "output_type": "execute_result"
    }
   ],
   "source": [
    "location"
   ]
  },
  {
   "cell_type": "code",
   "execution_count": 40,
   "id": "8e4252c9-e5e1-4148-83e0-712485de17a5",
   "metadata": {},
   "outputs": [
    {
     "data": {
      "text/plain": [
       "'완도군'"
      ]
     },
     "execution_count": 40,
     "metadata": {},
     "output_type": "execute_result"
    }
   ],
   "source": [
    "location[-2]"
   ]
  },
  {
   "cell_type": "code",
   "execution_count": 41,
   "id": "9785f62c-ddeb-4389-bbe7-156e7b0c2130",
   "metadata": {},
   "outputs": [
    {
     "data": {
      "text/plain": [
       "['경기도', '인천시']"
      ]
     },
     "execution_count": 41,
     "metadata": {},
     "output_type": "execute_result"
    }
   ],
   "source": [
    "location[1:3]"
   ]
  },
  {
   "cell_type": "code",
   "execution_count": 43,
   "id": "1a8dcf43-c080-4cc4-a7f5-9f78d7da55c2",
   "metadata": {},
   "outputs": [],
   "source": [
    "location.remove(\"부산시\")"
   ]
  },
  {
   "cell_type": "code",
   "execution_count": 45,
   "id": "d53acc60-c8c6-46d2-ab3e-b2ea4a391a77",
   "metadata": {},
   "outputs": [
    {
     "data": {
      "text/plain": [
       "['서울시', '경기도', '인천시', '부산시', '부산시', '부산시', '부산시', '부산시', '완도군', '완도군']"
      ]
     },
     "execution_count": 45,
     "metadata": {},
     "output_type": "execute_result"
    }
   ],
   "source": [
    "location"
   ]
  },
  {
   "cell_type": "code",
   "execution_count": 50,
   "id": "b989ea87-0b02-41ee-9862-d5b6cadb62e9",
   "metadata": {},
   "outputs": [
    {
     "ename": "ValueError",
     "evalue": "list.remove(x): x not in list",
     "output_type": "error",
     "traceback": [
      "\u001b[0;31m---------------------------------------------------------------------------\u001b[0m",
      "\u001b[0;31mValueError\u001b[0m                                Traceback (most recent call last)",
      "Cell \u001b[0;32mIn[50], line 1\u001b[0m\n\u001b[0;32m----> 1\u001b[0m location\u001b[38;5;241m.\u001b[39mremove(\u001b[38;5;124m\"\u001b[39m\u001b[38;5;124m완도군\u001b[39m\u001b[38;5;124m\"\u001b[39m)\n",
      "\u001b[0;31mValueError\u001b[0m: list.remove(x): x not in list"
     ]
    }
   ],
   "source": [
    "location.remove(\"완도군\")"
   ]
  },
  {
   "cell_type": "code",
   "execution_count": 51,
   "id": "f64fea6a-821c-4f5e-9334-4b08073cb5c6",
   "metadata": {},
   "outputs": [
    {
     "data": {
      "text/plain": [
       "['서울시', '경기도', '인천시', '부산시', '부산시', '부산시', '부산시', '부산시']"
      ]
     },
     "execution_count": 51,
     "metadata": {},
     "output_type": "execute_result"
    }
   ],
   "source": [
    "location"
   ]
  },
  {
   "cell_type": "code",
   "execution_count": 53,
   "id": "bfe9acf4-8872-44aa-b690-08da72aaf49e",
   "metadata": {},
   "outputs": [],
   "source": [
    "del location[3]"
   ]
  },
  {
   "cell_type": "code",
   "execution_count": 54,
   "id": "b672ebed-3da6-4888-bbd9-d79b36ac18fc",
   "metadata": {},
   "outputs": [
    {
     "data": {
      "text/plain": [
       "['서울시', '경기도', '인천시', '부산시', '부산시', '부산시', '부산시']"
      ]
     },
     "execution_count": 54,
     "metadata": {},
     "output_type": "execute_result"
    }
   ],
   "source": [
    "location"
   ]
  },
  {
   "cell_type": "code",
   "execution_count": 57,
   "id": "0cbd9e99-01d3-41b4-865b-104d90eecf9b",
   "metadata": {},
   "outputs": [],
   "source": [
    "del location[3]"
   ]
  },
  {
   "cell_type": "code",
   "execution_count": 61,
   "id": "d049c761-b612-4c86-a144-573b8f32906d",
   "metadata": {},
   "outputs": [
    {
     "data": {
      "text/plain": [
       "['서울시', '경기도', '인천시', '부산시', '부산시', '부산시']"
      ]
     },
     "execution_count": 61,
     "metadata": {},
     "output_type": "execute_result"
    }
   ],
   "source": [
    "location"
   ]
  },
  {
   "cell_type": "code",
   "execution_count": 64,
   "id": "8036e5e2-e7ec-4e70-957e-03e92ab94f7a",
   "metadata": {},
   "outputs": [],
   "source": [
    "del location[3]"
   ]
  },
  {
   "cell_type": "code",
   "execution_count": 65,
   "id": "4cd71d7a-cc6e-47dc-bfa7-e5fe1abba15a",
   "metadata": {},
   "outputs": [
    {
     "data": {
      "text/plain": [
       "['서울시', '경기도', '인천시', '부산시']"
      ]
     },
     "execution_count": 65,
     "metadata": {},
     "output_type": "execute_result"
    }
   ],
   "source": [
    "location"
   ]
  },
  {
   "cell_type": "code",
   "execution_count": 70,
   "id": "662b2503-9342-40ae-865a-c308b71bb193",
   "metadata": {},
   "outputs": [],
   "source": [
    "location.extend([\"천안\", \"대구\"]) # 연장하는 것"
   ]
  },
  {
   "cell_type": "code",
   "execution_count": 71,
   "id": "94c1f970-80b2-4ac8-88e5-aabeafbe8012",
   "metadata": {},
   "outputs": [
    {
     "data": {
      "text/plain": [
       "['서울시',\n",
       " '경기도',\n",
       " '인천시',\n",
       " '부산시',\n",
       " '천안',\n",
       " '대구',\n",
       " '천안',\n",
       " '대구',\n",
       " '천안',\n",
       " '대구',\n",
       " '천안',\n",
       " '대구',\n",
       " '천안',\n",
       " '대구']"
      ]
     },
     "execution_count": 71,
     "metadata": {},
     "output_type": "execute_result"
    }
   ],
   "source": [
    "location"
   ]
  },
  {
   "cell_type": "code",
   "execution_count": 72,
   "id": "98950428-258f-44ab-9bd0-d2b7b4310749",
   "metadata": {},
   "outputs": [],
   "source": [
    "location.insert(0, \"제주도\") # 기능을 가지고 있는 함수. 두개의 인자값을 받음."
   ]
  },
  {
   "cell_type": "code",
   "execution_count": 73,
   "id": "75667d05-c894-4bc9-bf59-dbc863059f0a",
   "metadata": {},
   "outputs": [
    {
     "data": {
      "text/plain": [
       "['제주도',\n",
       " '서울시',\n",
       " '경기도',\n",
       " '인천시',\n",
       " '부산시',\n",
       " '천안',\n",
       " '대구',\n",
       " '천안',\n",
       " '대구',\n",
       " '천안',\n",
       " '대구',\n",
       " '천안',\n",
       " '대구',\n",
       " '천안',\n",
       " '대구']"
      ]
     },
     "execution_count": 73,
     "metadata": {},
     "output_type": "execute_result"
    }
   ],
   "source": [
    "location"
   ]
  },
  {
   "cell_type": "code",
   "execution_count": 76,
   "id": "b0557e3a-1a62-40ff-986a-bd8801f83085",
   "metadata": {},
   "outputs": [
    {
     "data": {
      "text/plain": [
       "list"
      ]
     },
     "execution_count": 76,
     "metadata": {},
     "output_type": "execute_result"
    }
   ],
   "source": [
    "location01 = []\n",
    "\n",
    "type(location01)"
   ]
  },
  {
   "cell_type": "code",
   "execution_count": 79,
   "id": "358a9f19-b262-4360-aeef-70a09c985344",
   "metadata": {},
   "outputs": [],
   "source": [
    "location01.append(\"강원도\")"
   ]
  },
  {
   "cell_type": "code",
   "execution_count": 81,
   "id": "88b7f494-9bef-4d5b-960d-32de76dc1ae4",
   "metadata": {},
   "outputs": [
    {
     "data": {
      "text/plain": [
       "['강원도', '강원도', '강원도']"
      ]
     },
     "execution_count": 81,
     "metadata": {},
     "output_type": "execute_result"
    }
   ],
   "source": [
    "location01"
   ]
  },
  {
   "cell_type": "code",
   "execution_count": 92,
   "id": "63284b0f-914c-486f-8dde-3c2db5674d87",
   "metadata": {},
   "outputs": [
    {
     "name": "stdout",
     "output_type": "stream",
     "text": [
      "<class 'list'>\n"
     ]
    }
   ],
   "source": [
    "location02 = list()  # 자료구조의 매뉴얼을 가져다 쓰겠다. 프로토타입\n",
    "print(type(location02))"
   ]
  },
  {
   "cell_type": "code",
   "execution_count": 91,
   "id": "dd2dbe1d-6976-4bae-abf0-5acb2e71502b",
   "metadata": {},
   "outputs": [
    {
     "name": "stdout",
     "output_type": "stream",
     "text": [
      "[2, 1, 4, 3]\n",
      "[1, 2, 3, 4]\n",
      "[4, 3, 2, 1]\n"
     ]
    }
   ],
   "source": [
    "numbers = [2, 1, 4, 3]\n",
    "print(numbers)\n",
    "\n",
    "# 정렬. 오름차순\n",
    "numbers.sort()\n",
    "print(numbers)\n",
    "\n",
    "# 내림차순\n",
    "numbers.reverse()\n",
    "print(numbers)"
   ]
  },
  {
   "cell_type": "code",
   "execution_count": 95,
   "id": "9a796093-3bea-430a-9ce2-7134c9f2ad56",
   "metadata": {},
   "outputs": [
    {
     "data": {
      "text/plain": [
       "'python'"
      ]
     },
     "execution_count": 95,
     "metadata": {},
     "output_type": "execute_result"
    }
   ],
   "source": [
    "pythonBasic = \"python is easy\"\n",
    "pylist = pythonBasic.split() # 쪼개기. 인자값을 -> 공백을 기준으로 단어 하나하나를 쪼갠다.\n",
    "pylist[0]"
   ]
  }
 ],
 "metadata": {
  "kernelspec": {
   "display_name": "Python [conda env:base] *",
   "language": "python",
   "name": "conda-base-py"
  },
  "language_info": {
   "codemirror_mode": {
    "name": "ipython",
    "version": 3
   },
   "file_extension": ".py",
   "mimetype": "text/x-python",
   "name": "python",
   "nbconvert_exporter": "python",
   "pygments_lexer": "ipython3",
   "version": "3.13.5"
  }
 },
 "nbformat": 4,
 "nbformat_minor": 5
}
