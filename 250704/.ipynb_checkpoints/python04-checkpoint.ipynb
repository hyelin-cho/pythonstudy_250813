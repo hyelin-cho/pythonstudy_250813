{
 "cells": [
  {
   "cell_type": "markdown",
   "id": "977ea5a7-26af-4749-846a-d71f18e2f477",
   "metadata": {},
   "source": [
    "- 사용자로부터 어떤 값을 받고, 해당 값을 한화로 바꿔서 출력되도록 해주세요.\n",
    "- ex) 100 => 환율 1112원 // 1112000원 으로 출력되도록 해주세요."
   ]
  },
  {
   "cell_type": "code",
   "execution_count": 4,
   "id": "f7e012e8-58fc-40e0-a2ee-38773e719f56",
   "metadata": {},
   "outputs": [
    {
     "name": "stderr",
     "output_type": "stream",
     "text": [
      "<>:26: SyntaxWarning: 'int' object is not subscriptable; perhaps you missed a comma?\n"
     ]
    },
    {
     "name": "stdin",
     "output_type": "stream",
     "text": [
      "환전하고 싶은 달러를 입력해주세요. ex) 100달러 1000\n",
      "환율은? \n"
     ]
    },
    {
     "ename": "ValueError",
     "evalue": "invalid literal for int() with base 10: ''",
     "output_type": "error",
     "traceback": [
      "\u001b[0;31m---------------------------------------------------------------------------\u001b[0m",
      "\u001b[0;31mValueError\u001b[0m                                Traceback (most recent call last)",
      "Cell \u001b[0;32mIn[4], line 24\u001b[0m\n\u001b[1;32m      1\u001b[0m \u001b[38;5;66;03m# 수학 => math x\u001b[39;00m\n\u001b[1;32m      2\u001b[0m \u001b[38;5;66;03m# 수학능력평가시험 => 수학 => 논리성!!\u001b[39;00m\n\u001b[1;32m      3\u001b[0m \u001b[38;5;66;03m# 문제를 풀던 못풀던 간에 일단 내가 해결하고 싶은 것을 말로 표현\u001b[39;00m\n\u001b[0;32m   (...)\u001b[0m\n\u001b[1;32m     20\u001b[0m \u001b[38;5;66;03m# 4. 사용자의 값과 환율을 계산한 그 결과값을 출력함.\u001b[39;00m\n\u001b[1;32m     21\u001b[0m \u001b[38;5;66;03m# 출력 -> 프린트 함수만 알면 됨.\u001b[39;00m\n\u001b[1;32m     23\u001b[0m Price \u001b[38;5;241m=\u001b[39m \u001b[38;5;28mint\u001b[39m(\u001b[38;5;28minput\u001b[39m(\u001b[38;5;124m\"\u001b[39m\u001b[38;5;124m환전하고 싶은 달러를 입력해주세요. ex) 100달러\u001b[39m\u001b[38;5;124m\"\u001b[39m))\n\u001b[0;32m---> 24\u001b[0m won \u001b[38;5;241m=\u001b[39m \u001b[38;5;28mint\u001b[39m(\u001b[38;5;28minput\u001b[39m(\u001b[38;5;124m\"\u001b[39m\u001b[38;5;124m환율은?\u001b[39m\u001b[38;5;124m\"\u001b[39m))\n\u001b[1;32m     26\u001b[0m \u001b[38;5;28;01mif\u001b[39;00m Price \u001b[38;5;241m<\u001b[39m\u001b[38;5;241m=\u001b[39m \u001b[38;5;241m100\u001b[39m[\u001b[38;5;124m\"\u001b[39m\u001b[38;5;124m달러\u001b[39m\u001b[38;5;124m\"\u001b[39m] :\n\u001b[1;32m     27\u001b[0m     \u001b[38;5;28mprint\u001b[39m({Price} \u001b[38;5;241m*\u001b[39m {won})\n",
      "\u001b[0;31mValueError\u001b[0m: invalid literal for int() with base 10: ''"
     ]
    }
   ],
   "source": [
    "# 수학 => math x\n",
    "# 수학능력평가시험 => 수학 => 논리성!!\n",
    "# 문제를 풀던 못풀던 간에 일단 내가 해결하고 싶은 것을 말로 표현\n",
    "\n",
    "# 인풋으로 문자열 입력\n",
    "# 만약 내가 100달러를 가지고 있음. 그럼 환율 적용해서 입출력\n",
    "#\n",
    "\n",
    "\n",
    "\n",
    "# 1. 사용자에게 값을 받는다.\n",
    "# input(), int()\n",
    "\n",
    "# 2. 사전에 환율을 정의해서 특정 변수에 할당해 놓는다.\n",
    "# 변수 정의만 하면 됨\n",
    "\n",
    "# 3. 사용자에게 받은 값을 사전에 정의해놓은 환율과 계산한다.\n",
    "# 연산자만 알면 됨\n",
    "\n",
    "# 4. 사용자의 값과 환율을 계산한 그 결과값을 출력함.\n",
    "# 출력 -> 프린트 함수만 알면 됨.\n",
    "\n",
    "Price = int(input(\"환전하고 싶은 달러를 입력해주세요. ex) 100달러\"))\n",
    "won = int(input(\"환율은?\"))\n",
    "\n",
    "if Price <= 100[\"달러\"] :\n",
    "    print({Price} * {won})"
   ]
  },
  {
   "cell_type": "code",
   "execution_count": 9,
   "id": "c1966224-a5bb-4c8b-9048-afe16c3766f0",
   "metadata": {},
   "outputs": [
    {
     "name": "stdin",
     "output_type": "stream",
     "text": [
      "환전하고 싶은 달러를 입력해주세요. ex) 100달러 100달러\n"
     ]
    },
    {
     "name": "stdout",
     "output_type": "stream",
     "text": [
      "111,200원\n"
     ]
    }
   ],
   "source": [
    "Price = input(\"환전하고 싶은 달러를 입력해주세요. ex) 100달러\")\n",
    "exchange = 1112\n",
    "\n",
    "dollar = int(Price.replace(\"달러\", \"\"))\n",
    "result = dollar * exchange\n",
    "\n",
    "print(f\"{result:,}원\") #천단위에서 쉼표로 끝어준다."
   ]
  },
  {
   "cell_type": "markdown",
   "id": "c7afe8f6-4f16-4532-a8ae-e9e7e3834598",
   "metadata": {},
   "source": [
    "- 달러의 환율을 1112원으로 설정, 위안화의 환율을 171원 설정, 엔화 환율 1010원 설정을 하시되, 해당 화폐당 환율의 값을 딕셔너리라는 자료구조로 정의하시고, 사용자가 달러 혹은 엔화 혹은 위안화 값을 입력했을 때, 해당 값을 한화로 바꿔서 출력될 수 있도록 해주세요.\n",
    "- ex) 100달러 => 111,200원 // 100위안 => 17,100원"
   ]
  },
  {
   "cell_type": "code",
   "execution_count": 13,
   "id": "dd8f7ae9-5cd4-4572-9c73-3d15b26a5faa",
   "metadata": {},
   "outputs": [
    {
     "data": {
      "text/plain": [
       "{'달러': 1112, '위안': 171, '엔화': 1010}"
      ]
     },
     "execution_count": 13,
     "metadata": {},
     "output_type": "execute_result"
    }
   ],
   "source": [
    "# 1. 사용자에게 값을 받는다. 이건 다음인가\n",
    "# 2. 달러, 위안, 엔화 환율 설정 -> 변수에 할당\n",
    "# 3. 환율 계산\n",
    "# 4. dict = {\"\" : \"\"}\n",
    "# \n",
    "\n",
    "dict01 = {\"달러\" : 1112, \"위안\" : 171, \"엔화\" : 1010}\n",
    "exchange01 = {\"달러\" = 1112}"
   ]
  },
  {
   "cell_type": "code",
   "execution_count": 16,
   "id": "343c6410-776a-4bcd-be03-2b47d7d2bfb0",
   "metadata": {},
   "outputs": [
    {
     "name": "stdin",
     "output_type": "stream",
     "text": [
      "환전하고 싶은 금액입력 100엔화\n"
     ]
    },
    {
     "name": "stdout",
     "output_type": "stream",
     "text": [
      "101,000 원\n"
     ]
    }
   ],
   "source": [
    "exchange_list = {\"달러\":1112, \"위안\":171, \"엔화\":1010}\n",
    "user_money = input(\"환전하고 싶은 금액입력\")\n",
    "# 무엇에 따라서 바꿀 것인지?\n",
    "# 100달러\n",
    "\n",
    "if user_money[-2:] == \"달러\" :\n",
    "    print(f\"{exchange_list['달러'] * int(user_money[:-2]):,} 원\") #문법적으로 큰 따옴표 안에 작은 따옴표를 적는게 맞음.\n",
    "elif user_money[-2:] == \"위안\" :\n",
    "    print(f\"{exchange_list['위안'] * int(user_money[:-2]):,} 원\")\n",
    "elif user_money[-2:] == \"엔화\" :\n",
    "    print(f\"{exchange_list['엔화'] * int(user_money[:-2]):,} 원\")\n",
    "else :\n",
    "    print(\"달러, 위안, 엔화 중 하나를 입력하세요\")"
   ]
  },
  {
   "cell_type": "code",
   "execution_count": 18,
   "id": "c91d1878-565a-471b-b533-efc6bc4370a7",
   "metadata": {},
   "outputs": [],
   "source": [
    "# 2~9단까지 => 1) 숫자가 2부터 9까지 반복순회!! 2) 피연산자로 1부터 9까지 반복순회 2 * 1 = 2"
   ]
  },
  {
   "cell_type": "code",
   "execution_count": 25,
   "id": "6e9d5cc3-a732-4360-b614-3a002da0da12",
   "metadata": {},
   "outputs": [
    {
     "name": "stdout",
     "output_type": "stream",
     "text": [
      "------------\n",
      "- 구구단 2단 -\n",
      "------------\n",
      "2 x 1 = 2\n",
      "2 x 2 = 4\n",
      "2 x 3 = 6\n",
      "2 x 4 = 8\n",
      "2 x 5 = 10\n",
      "2 x 6 = 12\n",
      "2 x 7 = 14\n",
      "2 x 8 = 16\n",
      "2 x 9 = 18\n",
      "\n",
      "\n",
      "------------\n",
      "- 구구단 3단 -\n",
      "------------\n",
      "3 x 1 = 3\n",
      "3 x 2 = 6\n",
      "3 x 3 = 9\n",
      "3 x 4 = 12\n",
      "3 x 5 = 15\n",
      "3 x 6 = 18\n",
      "3 x 7 = 21\n",
      "3 x 8 = 24\n",
      "3 x 9 = 27\n",
      "\n",
      "\n",
      "------------\n",
      "- 구구단 4단 -\n",
      "------------\n",
      "4 x 1 = 4\n",
      "4 x 2 = 8\n",
      "4 x 3 = 12\n",
      "4 x 4 = 16\n",
      "4 x 5 = 20\n",
      "4 x 6 = 24\n",
      "4 x 7 = 28\n",
      "4 x 8 = 32\n",
      "4 x 9 = 36\n",
      "\n",
      "\n",
      "------------\n",
      "- 구구단 5단 -\n",
      "------------\n",
      "5 x 1 = 5\n",
      "5 x 2 = 10\n",
      "5 x 3 = 15\n",
      "5 x 4 = 20\n",
      "5 x 5 = 25\n",
      "5 x 6 = 30\n",
      "5 x 7 = 35\n",
      "5 x 8 = 40\n",
      "5 x 9 = 45\n",
      "\n",
      "\n",
      "------------\n",
      "- 구구단 6단 -\n",
      "------------\n",
      "6 x 1 = 6\n",
      "6 x 2 = 12\n",
      "6 x 3 = 18\n",
      "6 x 4 = 24\n",
      "6 x 5 = 30\n",
      "6 x 6 = 36\n",
      "6 x 7 = 42\n",
      "6 x 8 = 48\n",
      "6 x 9 = 54\n",
      "\n",
      "\n",
      "------------\n",
      "- 구구단 7단 -\n",
      "------------\n",
      "7 x 1 = 7\n",
      "7 x 2 = 14\n",
      "7 x 3 = 21\n",
      "7 x 4 = 28\n",
      "7 x 5 = 35\n",
      "7 x 6 = 42\n",
      "7 x 7 = 49\n",
      "7 x 8 = 56\n",
      "7 x 9 = 63\n",
      "\n",
      "\n",
      "------------\n",
      "- 구구단 8단 -\n",
      "------------\n",
      "8 x 1 = 8\n",
      "8 x 2 = 16\n",
      "8 x 3 = 24\n",
      "8 x 4 = 32\n",
      "8 x 5 = 40\n",
      "8 x 6 = 48\n",
      "8 x 7 = 56\n",
      "8 x 8 = 64\n",
      "8 x 9 = 72\n",
      "\n",
      "\n",
      "------------\n",
      "- 구구단 9단 -\n",
      "------------\n",
      "9 x 1 = 9\n",
      "9 x 2 = 18\n",
      "9 x 3 = 27\n",
      "9 x 4 = 36\n",
      "9 x 5 = 45\n",
      "9 x 6 = 54\n",
      "9 x 7 = 63\n",
      "9 x 8 = 72\n",
      "9 x 9 = 81\n",
      "\n",
      "\n"
     ]
    }
   ],
   "source": [
    "for num01 in range(2, 10) :\n",
    "    print(\"------------\")\n",
    "    print(f\"- 구구단 {num01}단 -\")\n",
    "    print(\"------------\")\n",
    "    for num02 in range(1, 10) : # 중첩for문\n",
    "        print(f\"{num01} x {num02} = {num01 * num02}\")\n",
    "    print(\"\\n\") # 개행"
   ]
  },
  {
   "cell_type": "markdown",
   "id": "cca6df55-2473-485c-90bb-0b80e8d2294b",
   "metadata": {},
   "source": [
    "- 위에서 작성한 코드를 활용해서 다음과 같은 결과를 출력해보세요. 구구단2~9단까지 출력하되, 계산된 결과 값이 짝수인 경우만 출력해주세요. 예) 3x3=9이기 때문에 출력되면 안돼, 2x4=8이기 때문에 출력되어야함."
   ]
  },
  {
   "cell_type": "code",
   "execution_count": 35,
   "id": "4e80afe0-123b-4e4d-865a-fb97d003a181",
   "metadata": {},
   "outputs": [
    {
     "name": "stdout",
     "output_type": "stream",
     "text": [
      "------------\n",
      "- 구구단 2단 -\n",
      "------------\n",
      "2 x 1 = 2\n",
      "2 x 2 = 4\n",
      "2 x 3 = 6\n",
      "2 x 4 = 8\n",
      "2 x 5 = 10\n",
      "2 x 6 = 12\n",
      "2 x 7 = 14\n",
      "2 x 8 = 16\n",
      "2 x 9 = 18\n",
      "\n",
      "\n",
      "------------\n",
      "- 구구단 3단 -\n",
      "------------\n",
      "3 x 2 = 6\n",
      "3 x 4 = 12\n",
      "3 x 6 = 18\n",
      "3 x 8 = 24\n",
      "\n",
      "\n",
      "------------\n",
      "- 구구단 4단 -\n",
      "------------\n",
      "4 x 1 = 4\n",
      "4 x 2 = 8\n",
      "4 x 3 = 12\n",
      "4 x 4 = 16\n",
      "4 x 5 = 20\n",
      "4 x 6 = 24\n",
      "4 x 7 = 28\n",
      "4 x 8 = 32\n",
      "4 x 9 = 36\n",
      "\n",
      "\n",
      "------------\n",
      "- 구구단 5단 -\n",
      "------------\n",
      "5 x 2 = 10\n",
      "5 x 4 = 20\n",
      "5 x 6 = 30\n",
      "5 x 8 = 40\n",
      "\n",
      "\n",
      "------------\n",
      "- 구구단 6단 -\n",
      "------------\n",
      "6 x 1 = 6\n",
      "6 x 2 = 12\n",
      "6 x 3 = 18\n",
      "6 x 4 = 24\n",
      "6 x 5 = 30\n",
      "6 x 6 = 36\n",
      "6 x 7 = 42\n",
      "6 x 8 = 48\n",
      "6 x 9 = 54\n",
      "\n",
      "\n",
      "------------\n",
      "- 구구단 7단 -\n",
      "------------\n",
      "7 x 2 = 14\n",
      "7 x 4 = 28\n",
      "7 x 6 = 42\n",
      "7 x 8 = 56\n",
      "\n",
      "\n",
      "------------\n",
      "- 구구단 8단 -\n",
      "------------\n",
      "8 x 1 = 8\n",
      "8 x 2 = 16\n",
      "8 x 3 = 24\n",
      "8 x 4 = 32\n",
      "8 x 5 = 40\n",
      "8 x 6 = 48\n",
      "8 x 7 = 56\n",
      "8 x 8 = 64\n",
      "8 x 9 = 72\n",
      "\n",
      "\n",
      "------------\n",
      "- 구구단 9단 -\n",
      "------------\n",
      "9 x 2 = 18\n",
      "9 x 4 = 36\n",
      "9 x 6 = 54\n",
      "9 x 8 = 72\n",
      "\n",
      "\n"
     ]
    }
   ],
   "source": [
    "for num01 in range(2, 10) :\n",
    "    print(\"------------\")\n",
    "    print(f\"- 구구단 {num01}단 -\")\n",
    "    print(\"------------\")\n",
    "    for num02 in range(1, 10) : # 중첩for문\n",
    "        if (num01 * num02) % 2 == 0 :\n",
    "            print(f\"{num01} x {num02} = {num01 * num02}\")\n",
    "    print(\"\\n\")"
   ]
  },
  {
   "cell_type": "markdown",
   "id": "e5bffe99-c446-4a90-a71d-4b1c62adc0ab",
   "metadata": {},
   "source": [
    "dongs = [\"6209동\", \"6208동\", \"6207동\"]\n",
    "hos = [\"101호\", \"102호\", \"103호\", \"104호\"]\n",
    "\n",
    "```\n",
    "6209동 101호\n",
    "6209동 102호\n",
    "6209동 103호\n",
    "6209동 104호\n",
    "\n",
    "6208동 101호\n",
    "6208동 102호\n",
    "6208동 103호\n",
    "6208동 104호\n",
    "\n",
    "6207동 101호\n",
    "6207동 102호\n",
    "6207동 103호\n",
    "6207동 104호\n",
    "```"
   ]
  },
  {
   "cell_type": "code",
   "execution_count": 40,
   "id": "742d6516-55d4-4f9a-9c31-da0bad57fedf",
   "metadata": {},
   "outputs": [
    {
     "name": "stdout",
     "output_type": "stream",
     "text": [
      "6209동 101호\n",
      "6209동 102호\n",
      "6209동 103호\n",
      "6209동 104호\n",
      "\n",
      "6208동 101호\n",
      "6208동 102호\n",
      "6208동 103호\n",
      "6208동 104호\n",
      "\n",
      "6207동 101호\n",
      "6207동 102호\n",
      "6207동 103호\n",
      "6207동 104호\n",
      "\n"
     ]
    }
   ],
   "source": [
    "dongs = [\"6209동\", \"6208동\", \"6207동\"] \n",
    "hos = [\"101호\", \"102호\", \"103호\", \"104호\"]\n",
    "\n",
    "for item_1 in dongs :\n",
    "    for item_2 in hos :\n",
    "        print(item_1, item_2)\n",
    "    print() # 뉴라인 안줘도 됨. 한 번 더 주는 꼴"
   ]
  },
  {
   "cell_type": "code",
   "execution_count": 43,
   "id": "93f5d01d-197f-4ed7-b807-0d5a749cca4b",
   "metadata": {},
   "outputs": [
    {
     "data": {
      "text/plain": [
       "('coding01', 'coding02', 'coding03', 'coding04')"
      ]
     },
     "execution_count": 43,
     "metadata": {},
     "output_type": "execute_result"
    }
   ],
   "source": [
    "tupledata = (\"coding01\", \"coding02\", \"coding03\")\n",
    "# temp_list = list(tupledata)\n",
    "# temp_list.append(\"coding04\")\n",
    "# result = tuple(temp_list)\n",
    "\n",
    "# result\n",
    "\n",
    "tuple(list(tupledata) + [\"coding04\"])"
   ]
  },
  {
   "cell_type": "markdown",
   "id": "f49213bb-4e9c-4c16-a8aa-f1eaaa175992",
   "metadata": {},
   "source": [
    "- 딕셔너리 형태의 자료구조를 하나 만들어서 아래와 같이 값을 출력해주세요.\n",
    "\n",
    "    ```\n",
    "    environment : 환경 x\n",
    "    company : 회사 o\n",
    "    government : 정부 x\n",
    "    face : 얼굴 x\n",
    "\n",
    "    ```"
   ]
  },
  {
   "cell_type": "code",
   "execution_count": 78,
   "id": "b08426b5-6971-4e61-af47-2d00a5c59c97",
   "metadata": {},
   "outputs": [],
   "source": [
    "data = {\n",
    "    \"environment\":[\"환경\", \"x\"],\n",
    "    \"company\":[\"회사\",\"o\"], \n",
    "    \"government\":[\"정부\", \"x\"], \n",
    "    \"face\":[\"얼굴\", \"x\"],\n",
    "}"
   ]
  },
  {
   "cell_type": "code",
   "execution_count": 79,
   "id": "3af5f755-8c29-4252-a467-bcde0dc69bd1",
   "metadata": {},
   "outputs": [
    {
     "name": "stdout",
     "output_type": "stream",
     "text": [
      "environment : ['환경', 'x']\n",
      "company : ['회사', 'o']\n",
      "government : ['정부', 'x']\n",
      "face : ['얼굴', 'x']\n"
     ]
    }
   ],
   "source": [
    "for item in data.keys() :\n",
    "    print(f\"{item} : {data[item]}\")"
   ]
  },
  {
   "cell_type": "markdown",
   "id": "a0637516-21b1-4759-b602-9dbb067bc85e",
   "metadata": {},
   "source": [
    "- 사용자로부터 사전에 등록되어있는 단어들 중 1개를 입력 받으세요. 그러면 입력 받은 단어의 경우, 외움표시 o 표시로 수정하고, 아직 외우지 못한 단어들만 출력하는 프로그램 코드를 작성해주세요."
   ]
  },
  {
   "cell_type": "code",
   "execution_count": 81,
   "id": "8379f121-51cc-419c-bb92-59fd0056be6b",
   "metadata": {},
   "outputs": [
    {
     "name": "stdin",
     "output_type": "stream",
     "text": [
      "다 외운 단어 입력하기 compay\n"
     ]
    },
    {
     "name": "stdout",
     "output_type": "stream",
     "text": [
      "사전에 존재하지 않는 단어입니다.\n",
      "environment\n",
      "government\n",
      "face\n"
     ]
    }
   ],
   "source": [
    "english = input(\"다 외운 단어 입력하기\")\n",
    "\n",
    "if english in data.keys() :\n",
    "    data[english][1] = \"o\"\n",
    "else :\n",
    "    print(\"사전에 존재하지 않는 단어입니다.\") # 유효성 검사\n",
    "\n",
    "for item in data.keys() :\n",
    "    data_list = data[item]\n",
    "    if data_list[1] == \"x\" :\n",
    "        print(item)"
   ]
  },
  {
   "cell_type": "markdown",
   "id": "b69a1376-9ea6-45ce-8de1-7a47339f5909",
   "metadata": {},
   "source": [
    "- dict_all = {\"environment\":\"환경\", \"government\":\"정부\"}\n",
    "- dict2 = {\"company\":\"회사\", \"face\":\"얼굴\"}\n",
    "- dict3 = {\"apple\":\"사과\"}\n",
    "- dict_all안에 dict2와 dict3 값을 모두 넣어주세요! 그리고 dict_all 값을 출력"
   ]
  },
  {
   "cell_type": "code",
   "execution_count": 92,
   "id": "4503afa3-9658-441f-a5d4-00a5851ecb70",
   "metadata": {},
   "outputs": [
    {
     "data": {
      "text/plain": [
       "{'environment': '환경',\n",
       " 'government': '정부',\n",
       " 'company': '회사',\n",
       " 'face': '얼굴',\n",
       " 'apple': '사과'}"
      ]
     },
     "execution_count": 92,
     "metadata": {},
     "output_type": "execute_result"
    }
   ],
   "source": [
    "dict_all = {\"environment\":\"환경\", \"government\":\"정부\"}\n",
    "dict2 = {\"company\":\"회사\", \"face\":\"얼굴\"}\n",
    "dict3 = {\"apple\":\"사과\"}\n",
    "\n",
    "for item in dict2.keys() :\n",
    "    dict_all[item] = dict2[item]\n",
    "for item in dict3.keys() :\n",
    "    dict_all[item] = dict3[item]\n",
    "\n",
    "dict_all"
   ]
  },
  {
   "cell_type": "code",
   "execution_count": 104,
   "id": "ab6aeeda-62a7-4efc-812b-a9e12e68d758",
   "metadata": {},
   "outputs": [
    {
     "data": {
      "text/plain": [
       "{1, 3, 4, 5, 6}"
      ]
     },
     "execution_count": 104,
     "metadata": {},
     "output_type": "execute_result"
    }
   ],
   "source": [
    "number_list = {1, 2, 3}\n",
    "number_list.add(4) # setㅇ이라는 add라는 매개변수는 값을 추가할 수는 있지만 하나만 바등ㄹ 수 있ㅇㅡㅁ\n",
    "number_list.update([5,6]) # 복수의 값을 추가할 때는 update 함수 사용\n",
    "number_list.remove(2)\n",
    "\n",
    "number_list"
   ]
  },
  {
   "cell_type": "markdown",
   "id": "6d863791-e7aa-4fac-9d33-21cbd7105ae9",
   "metadata": {},
   "source": [
    "- 임의의 숫자 2개를 사용자에게 받으면 해당 2개의 숫자를 곱한 값을 반환하는 함수를 만들고, 해당 함수의 결과 값을 화면에 출력해주세요."
   ]
  },
  {
   "cell_type": "code",
   "execution_count": 107,
   "id": "2f5e945b-f77d-4950-acf6-2ad8fa652c05",
   "metadata": {},
   "outputs": [
    {
     "name": "stdin",
     "output_type": "stream",
     "text": [
      "첫 숫자 뭐임? 2\n",
      "또 하나는? 3\n"
     ]
    },
    {
     "name": "stdout",
     "output_type": "stream",
     "text": [
      "6\n"
     ]
    }
   ],
   "source": [
    "num1 = int(input(\"첫 숫자 뭐임?\"))\n",
    "num2 = int(input(\"또 하나는?\"))\n",
    "\n",
    "def f1(num1, num2) :\n",
    "    return num1 * num2\n",
    "\n",
    "print(f1(num1, num2))"
   ]
  },
  {
   "cell_type": "code",
   "execution_count": 111,
   "id": "4036d74a-abb5-4b0a-8704-7918505cf6db",
   "metadata": {},
   "outputs": [
    {
     "name": "stdin",
     "output_type": "stream",
     "text": [
      "숫자를 입력하세요 3\n",
      "숫자를 입력하세요 4\n"
     ]
    },
    {
     "name": "stdout",
     "output_type": "stream",
     "text": [
      "12\n"
     ]
    }
   ],
   "source": [
    "num_all = [int(input(\"숫자를 입력하세요\")) for _ in range(2)]\n",
    "\n",
    "def f1(num1, num2) :\n",
    "    return num1 * num2\n",
    "\n",
    "print(f1(num_all[0], num_all[1]))"
   ]
  },
  {
   "cell_type": "markdown",
   "id": "cbf6e9df-d8b0-427f-8025-c2a6a565e173",
   "metadata": {},
   "source": [
    "- 인자값 3개를 받을 수 있는 함수를 호출합니다\n",
    "- func1(인자값1, 인자값2, 인자값3)\n",
    "- 해당 함수의 3번째 인자값 = 인자값3, + => 첫번째 인자값과 두번째 인자값을 더한 결과값을 반환하도록 해주시고, 만약 세번째 인자값이 * 라면, 첫번째 인자값과 두번째 인자값을 곱한 결과값을 반환해주세요. 그런데 만약 3번째 인자값이 +도 아니고, *도 아니라면 무조건 0이라는 값을 반환하도록하는 함수를 만들어주세요."
   ]
  },
  {
   "cell_type": "code",
   "execution_count": 115,
   "id": "681df651-5d36-4df6-bab1-771e73a940ad",
   "metadata": {},
   "outputs": [
    {
     "name": "stdout",
     "output_type": "stream",
     "text": [
      "3 6 0\n"
     ]
    }
   ],
   "source": [
    "def calc(data1, data2, way) :\n",
    "    if way == \"+\" :\n",
    "        return data1 + data2\n",
    "    elif way == \"*\" :\n",
    "        return data1 * data2\n",
    "    else :\n",
    "        return 0\n",
    "\n",
    "data01 = calc(1,2,\"+\")\n",
    "data02 = calc(3,2,\"*\")\n",
    "data03 = calc(2,4,\"-\")\n",
    "\n",
    "print(data01, data02, data03)"
   ]
  },
  {
   "cell_type": "code",
   "execution_count": null,
   "id": "c239bb96-71b6-4348-a1f2-925f6e0470e4",
   "metadata": {},
   "outputs": [],
   "source": []
  }
 ],
 "metadata": {
  "kernelspec": {
   "display_name": "Python [conda env:base] *",
   "language": "python",
   "name": "conda-base-py"
  },
  "language_info": {
   "codemirror_mode": {
    "name": "ipython",
    "version": 3
   },
   "file_extension": ".py",
   "mimetype": "text/x-python",
   "name": "python",
   "nbconvert_exporter": "python",
   "pygments_lexer": "ipython3",
   "version": "3.13.5"
  }
 },
 "nbformat": 4,
 "nbformat_minor": 5
}
