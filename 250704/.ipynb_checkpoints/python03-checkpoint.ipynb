{
 "cells": [
  {
   "cell_type": "markdown",
   "id": "87aeb062-ed22-494d-8e71-fac956b04fe4",
   "metadata": {},
   "source": [
    "### 자료구조 : set = 집합\n",
    "- set은 데이터의 중복되어진 값을 필터링할 수 있는 기능이 있음. 유일하다!!\n",
    "- 서로 다른 그룹 간 연산 작업을 보다 쉽게 하기 위한 목적으로 탄생된 자료구조\n",
    "- set() // list() // tuple() // dict()\n",
    "- list는 (* 각각의 세부값에 인덱스 값을 부여, 이터러블한 객체, 반복문)\n",
    "- 튜플 (* 각각의 세부값에 인덱스 값을 부여, 이터러블한 객체, 반복문)\n",
    "- 딕셔너리 (* 각각의 세부값에 인덱스 값 부여 x, 이터러블한 객체 x, 반복문)\n",
    "- 세트 (*인덱스 값을 부여받지 않음, 이터러블한 객체, 반복문)\n",
    "- 크롤링 시, 찾아온 값이 거의 대부분 리스트의 형태로 들어온다. => 굳이 반복적으로 불필요하게 값을 찾아오는 경우 부지기수. => 중복된 값을 하나로 정리하는 기능을 가장 많이 사용함!!핵심"
   ]
  },
  {
   "cell_type": "code",
   "execution_count": 1,
   "id": "03be1d3c-69ee-4564-b58a-1083d3d01254",
   "metadata": {},
   "outputs": [
    {
     "data": {
      "text/plain": [
       "set"
      ]
     },
     "execution_count": 1,
     "metadata": {},
     "output_type": "execute_result"
    }
   ],
   "source": [
    "data_set01 = set()\n",
    "type(data_set01)"
   ]
  },
  {
   "cell_type": "code",
   "execution_count": 4,
   "id": "fc2be73a-d586-4208-815f-a3d4d80e55f7",
   "metadata": {},
   "outputs": [
    {
     "data": {
      "text/plain": [
       "{'apple', 'dell', 'lg', 'samsung'}"
      ]
     },
     "execution_count": 4,
     "metadata": {},
     "output_type": "execute_result"
    }
   ],
   "source": [
    "data_set02 = {\"apple\", \"dell\", \"samsung\", \"lg\"} # 중괄호라고 해서 내부 형태까지 봐야함. dict인지 set인지\n",
    "data_set02"
   ]
  },
  {
   "cell_type": "code",
   "execution_count": 7,
   "id": "5ffa274a-0929-48ee-84eb-1a857dc1edf8",
   "metadata": {},
   "outputs": [
    {
     "data": {
      "text/plain": [
       "{'a', 'e', 'l', 'p'}"
      ]
     },
     "execution_count": 7,
     "metadata": {},
     "output_type": "execute_result"
    }
   ],
   "source": [
    "data_set03 = set(\"apple\")\n",
    "data_set03"
   ]
  },
  {
   "cell_type": "code",
   "execution_count": 9,
   "id": "2c1f5819-d998-4709-91dd-ebbb89c040dd",
   "metadata": {},
   "outputs": [
    {
     "ename": "TypeError",
     "evalue": "set expected at most 1 argument, got 2",
     "output_type": "error",
     "traceback": [
      "\u001b[0;31m---------------------------------------------------------------------------\u001b[0m",
      "\u001b[0;31mTypeError\u001b[0m                                 Traceback (most recent call last)",
      "Cell \u001b[0;32mIn[9], line 3\u001b[0m\n\u001b[1;32m      1\u001b[0m \u001b[38;5;66;03m# 안되는 것. 이런 문법은 존재하지 않음. 두개의 인자값을 줄 수 없음.\u001b[39;00m\n\u001b[0;32m----> 3\u001b[0m data_set04 \u001b[38;5;241m=\u001b[39m \u001b[38;5;28mset\u001b[39m(\u001b[38;5;124m\"\u001b[39m\u001b[38;5;124msm\u001b[39m\u001b[38;5;124m\"\u001b[39m, \u001b[38;5;124m\"\u001b[39m\u001b[38;5;124mjyp\u001b[39m\u001b[38;5;124m\"\u001b[39m)\n",
      "\u001b[0;31mTypeError\u001b[0m: set expected at most 1 argument, got 2"
     ]
    }
   ],
   "source": [
    "# 안되는 것. 이런 문법은 존재하지 않음. 두개의 인자값을 줄 수 없음.\n",
    "\n",
    "data_set04 = set(\"sm\", \"jyp\")"
   ]
  },
  {
   "cell_type": "code",
   "execution_count": 10,
   "id": "28d5eef0-0e9e-4d11-b440-061129b37c49",
   "metadata": {},
   "outputs": [
    {
     "data": {
      "text/plain": [
       "{'jyp', 'sm'}"
      ]
     },
     "execution_count": 10,
     "metadata": {},
     "output_type": "execute_result"
    }
   ],
   "source": [
    "{\"sm\", \"jyp\"}"
   ]
  },
  {
   "cell_type": "code",
   "execution_count": 11,
   "id": "cf97f0e4-d762-4d96-bd64-831013666d29",
   "metadata": {},
   "outputs": [
    {
     "name": "stdout",
     "output_type": "stream",
     "text": [
      "apple\n",
      "lg\n",
      "samsung\n",
      "dell\n"
     ]
    }
   ],
   "source": [
    "for data in data_set02 : \n",
    "    print(data)"
   ]
  },
  {
   "cell_type": "code",
   "execution_count": 13,
   "id": "3b8c8c76-95c1-4f9e-92a3-23a4d23cead2",
   "metadata": {},
   "outputs": [
    {
     "ename": "TypeError",
     "evalue": "'set' object is not subscriptable",
     "output_type": "error",
     "traceback": [
      "\u001b[0;31m---------------------------------------------------------------------------\u001b[0m",
      "\u001b[0;31mTypeError\u001b[0m                                 Traceback (most recent call last)",
      "Cell \u001b[0;32mIn[13], line 1\u001b[0m\n\u001b[0;32m----> 1\u001b[0m data_set02[\u001b[38;5;241m0\u001b[39m]\n",
      "\u001b[0;31mTypeError\u001b[0m: 'set' object is not subscriptable"
     ]
    }
   ],
   "source": [
    "data_set02[0] # 변수 발생. 이터러블하지만 인덱스값을 부여받지 못함. 이유가 없음."
   ]
  },
  {
   "cell_type": "code",
   "execution_count": 17,
   "id": "5db8dc7d-d9b0-43ba-b00d-c3543b1b1a66",
   "metadata": {},
   "outputs": [
    {
     "name": "stdout",
     "output_type": "stream",
     "text": [
      "False\n",
      "True\n"
     ]
    }
   ],
   "source": [
    "print(\"motorola\" in data_set02)\n",
    "print(\"apple\" in data_set02)"
   ]
  },
  {
   "cell_type": "code",
   "execution_count": 20,
   "id": "54aff9a2-79f5-45e1-9a28-5f7ec6a03577",
   "metadata": {},
   "outputs": [],
   "source": [
    "data_set04 = {\"피카츄\", \"라이츄\", \"꼬부기\"}"
   ]
  },
  {
   "cell_type": "code",
   "execution_count": 23,
   "id": "893e5944-cd1a-4ea9-863b-9dd23e86939b",
   "metadata": {},
   "outputs": [],
   "source": [
    "data_set05 = {\"잠만보\", \"파이리\", \"피카츄\"}"
   ]
  },
  {
   "cell_type": "code",
   "execution_count": 28,
   "id": "47bc9057-07f2-4c4c-ac54-bc978d58f4aa",
   "metadata": {},
   "outputs": [
    {
     "data": {
      "text/plain": [
       "{'피카츄'}"
      ]
     },
     "execution_count": 28,
     "metadata": {},
     "output_type": "execute_result"
    }
   ],
   "source": [
    "data_set04 & data_set05 # 교집합."
   ]
  },
  {
   "cell_type": "code",
   "execution_count": 30,
   "id": "0189df8c-5e14-4807-a2d4-fa712a8f683b",
   "metadata": {},
   "outputs": [
    {
     "data": {
      "text/plain": [
       "{'꼬부기', '라이츄', '잠만보', '파이리', '피카츄'}"
      ]
     },
     "execution_count": 30,
     "metadata": {},
     "output_type": "execute_result"
    }
   ],
   "source": [
    "data_set04 | data_set05 # 합집합."
   ]
  },
  {
   "cell_type": "code",
   "execution_count": 33,
   "id": "7660b390-b6af-4929-9104-1148516c21dc",
   "metadata": {},
   "outputs": [
    {
     "data": {
      "text/plain": [
       "{'꼬부기', '라이츄'}"
      ]
     },
     "execution_count": 33,
     "metadata": {},
     "output_type": "execute_result"
    }
   ],
   "source": [
    "data_set04 - data_set05 # 차집합."
   ]
  },
  {
   "cell_type": "code",
   "execution_count": 35,
   "id": "3104076f-b33d-481a-bae7-7a0309a746dc",
   "metadata": {},
   "outputs": [
    {
     "data": {
      "text/plain": [
       "{'잠만보', '파이리'}"
      ]
     },
     "execution_count": 35,
     "metadata": {},
     "output_type": "execute_result"
    }
   ],
   "source": [
    "data_set05 - data_set04"
   ]
  },
  {
   "cell_type": "code",
   "execution_count": 37,
   "id": "8509c394-cb22-4b1d-bec5-c63533787367",
   "metadata": {},
   "outputs": [
    {
     "data": {
      "text/plain": [
       "{'꼬부기', '라이츄', '잠만보', '파이리'}"
      ]
     },
     "execution_count": 37,
     "metadata": {},
     "output_type": "execute_result"
    }
   ],
   "source": [
    "data_set04 ^ data_set05 # 캐럿 = 교집합을 제외한 나머지 값."
   ]
  }
 ],
 "metadata": {
  "kernelspec": {
   "display_name": "Python [conda env:base] *",
   "language": "python",
   "name": "conda-base-py"
  },
  "language_info": {
   "codemirror_mode": {
    "name": "ipython",
    "version": 3
   },
   "file_extension": ".py",
   "mimetype": "text/x-python",
   "name": "python",
   "nbconvert_exporter": "python",
   "pygments_lexer": "ipython3",
   "version": "3.13.5"
  }
 },
 "nbformat": 4,
 "nbformat_minor": 5
}
