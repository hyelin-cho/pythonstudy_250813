{
 "cells": [
  {
   "cell_type": "markdown",
   "id": "c485d7ca-dea5-4fe2-b9bc-6561a3ba7e27",
   "metadata": {},
   "source": [
    "#### 1. 절차지향 언어가 문제를 해결해가는 과정\n",
    "\n",
    "- 예 : 냉장고에 코끼리를 넣는다\n",
    "- 1. 냉장고 문을 연다. // open 냉장고\n",
    "  2. 코끼리를 냉장고에 넣는다. // insert 코끼리 into 냉장고\n",
    "  3. 냉장고 문을 닫는다. // close 냉장고"
   ]
  },
  {
   "cell_type": "markdown",
   "id": "7d6105bc-9648-4b4f-b2af-a6a8bad44704",
   "metadata": {},
   "source": [
    "#### 2. 객체지향 언어가 문제를 해결해가는 과정\n",
    "- 예 : 냉장고에 코끼리를 넣는다\n",
    "- 1. 코끼리라는 동물의 정보를 수집해서 해당 동물에 대한 설계도(* 코끼리는 냉장고의 문을 열 수 있고, 안으로 들어갈 수 있는 기능이 사전에 정의)를 만든다.\n",
    "  2. 이전 단계에서 만든 설계도를 기반으로 코끼리1 이라는 객체를 하나 만든다.\n",
    "  3. 냉장고라는 사물의 정보를 수집해서 해당 사물에 대한 설계도(* 만약 코끼리가 냉장고 안에 들어오면 문이 자동으로 닫혀지도록 하는 기능을 사전에 정의)를 만든다.\n",
    "  4. 이전단계에서 만든 냉장고 설계도를 기반으로 냉장고1이라는 객체를 하나 만든다.\n",
    "  5. 코끼리1 이라는 객체 안에 \"내장\"되어 있는 기능을 호출해서 냉장고1 이라는 객체의 문을 열게 한다.\n",
    "  6. 코끼리1 이라는 객체 안에 \"내장\"되어 있는 기능을 호출해서 냉장고1 이라는 객체 안으로 들어가게 한다.\n",
    "  7. 냉장고1 이라는 객체 안에 \"내장\"되어 있는 기능을 호출해서 냉장고1 이라는 객채의 문을 닫게 한다.\n",
    "- 양이 많으면 많을 수록 객체지향 언어를 사용하는 것이 훨씬 유리하다."
   ]
  },
  {
   "cell_type": "markdown",
   "id": "ebd29920-8581-4a76-8ecc-0ed178866e11",
   "metadata": {},
   "source": [
    "#### 3. 객체지향 프로그래밍 언어 핵심 요소\n",
    "1. 어떤 사물 혹은 동물을 나타낼 수 있는 설계도를 객체지향언어에서 class\n",
    "   - attribute (속성) : 코끼리의 다리는 4개 / 코끼리의 코는 1개 = 코는 손의 역할을 함.\n",
    "   - method (기능 = 객체만의 기능을 구현할 수 있는 함수) : 코끼리가 냉장고를 보면 자신의 코로 문을 연다. / 코끼리가 자신의 코로 냉장고의 문을 연다면 그 안으로 들어간다.\n",
    "   - 만약 해당 객체가 사전에 설계도면에 정의가 되어 있는 속성값과 기능을 구현하고 싶다면 이렇게 작성해라 => 객체, 속성명 // 객체.매서드함수()\n",
    "3. 어떤 사물 혹은 동물의 정보를 가지고 있는 설계도를 가지고 만들어진 \"객체\" object = 객체\n",
    "   - 객체명, 속성 : 객체가 가지고 있는 어떤 정보들을 찾아올 수 있음.\n",
    "   - 객체명.매서드함수() : 해당 객체가 가지고 있는 고유한 매서드함수를 실행하겠다는 의미"
   ]
  },
  {
   "cell_type": "markdown",
   "id": "66c3a842-37eb-47e7-ac8b-851821690ad9",
   "metadata": {},
   "source": [
    "#### 4. class를 활용한 객체생성 문법\n",
    "\n",
    "1. 클래스 정의 : class라는 예약어 뒤에 student -> student라는 클래스를 정의하겠다는 의미! 클래스 명 첫글자는 항상 대문자로\n",
    "2. 클래스 안에 \"속성\"과 \"매서드 함수\"를 정의하려면, \"생성자 함수 = 초기화 함수\"를 만들어야 함.\n",
    "   - __init__ : 클래스를 통해서 객체가 생성될 때 자동으로 호출되는 특별한 함수.\n",
    "   - self : __init__ 특별한 함수를 선언할 때, 반드시 첫번째 매개변수로 작성해야 함. => 자기자신 => 클래스를 통해서 생성되어질 객체 그 당사자\n",
    "   - ex) __init__(self, name, grade) => 클래스를 활용해서 최초에 객체를 생성할 때, name 이라는 속성값과 grade 라는 속성값을 받아서 객체 본인의 속성으로 정의하겠다는 의미를 내포하고 있다.\n",
    "   - 클래스 안에서 생성자함수를 사용하는 예,\n",
    "   - def __init__(self, name, grade) :\n",
    "         self, name = name\n",
    "         self.grade = grade\n",
    "   - self.name => 클래스 안에 있는 하나의 변수로서 인식\n",
    "   - 생성자 함수를 선언한 이후에 메서드함수를 선언!! => 개발자가 원하는 직관적인 이름으로 메서드 함수명을 선언\n",
    "   - def study(self) :\n",
    "         print(f\"{self.name}가 공부를 열심히 합니다.\") # 중괄호는 변수로서 인식하겠다라는 것\n",
    "   - 클래스를 통해서 새롭게 탄생한 객체. study(공유) => 공유가 공부를 열심히 합니다. 라는 구문 출력!"
   ]
  },
  {
   "cell_type": "code",
   "execution_count": 1,
   "id": "7cd765c6-7a46-4334-aec4-08c9c25f91ad",
   "metadata": {},
   "outputs": [
    {
     "name": "stdout",
     "output_type": "stream",
     "text": [
      "fun coding\n"
     ]
    }
   ],
   "source": [
    "# 함수 선언\n",
    "def print_string(data) : # 함수를 선언 -> 매개변수 여부결정 (*참조 변수라고 부름) - 함수를 호출 했을 때 인자값으로 어떤 값을 적용한다면 해당 인자값을 매개변수는 참조를 해서 찾아오는 방식이기 때문\n",
    "    print(data)\n",
    "\n",
    "#함수 호출\n",
    "print_string(\"fun coding\")"
   ]
  },
  {
   "cell_type": "code",
   "execution_count": 7,
   "id": "9f7441d4-5be3-43c0-986a-1c3a77632686",
   "metadata": {},
   "outputs": [
    {
     "name": "stdout",
     "output_type": "stream",
     "text": [
      "<class 'str'>\n"
     ]
    }
   ],
   "source": [
    "string = \"fun coding\" # 문자열 객체라고 부를 수 있다.\n",
    "string.split() # 문자열 객체만 쓸 수 있는 함수를 가져올 수 있다.\n",
    "# split() -> 내장되어 있었기 때문에, 개발자가 해당 함수를 선언한 적도 없는데 사용가능했음.\n",
    "# 내장 => 누군가가(*파이썬이라는 언어를 창시한 개발자) 파이썬이라는 언어 안에 사전에 만들어놓았다는 의미.\n",
    "\n",
    "# 그렇다면 이 창시자는 어떻게, 어떤 방법으로 파이썬이라는 언어에 이 함수를 내장시킬 수 있었을까? -> 클래스와 객체라는 언어를 학습해야함.\n",
    "# 그렇다면 굳이 창시자가 어떻게 어떤 방법으로 내장 함수를 만들어놓았는지 알필요가 있을까? -> yes\n",
    "# 창시자가 만들어놓은 언어를 사용하다보면 일반적인 개발자들도 복잡하고 반복적으로 실행되어야하는 어떤 기능을 딱 한 번 정의해놓고 \n",
    "# - 필요할 때마다 효율적으로 커스텀 편집을 해가면서 편리하게 기능을 구현해야하는 경우가 존재.\n",
    "\n",
    "print(type(string))"
   ]
  },
  {
   "cell_type": "code",
   "execution_count": 10,
   "id": "7c24cb6b-f18f-4793-a7f3-c8df858ab867",
   "metadata": {},
   "outputs": [],
   "source": [
    "class Student :\n",
    "    def __init__(self, name, grade) :\n",
    "        self.name = name\n",
    "        self.grade = grade\n",
    "\n",
    "    def study(self) :\n",
    "        print(f\"{self.name}가 공부를 열심히 합니다.\")\n",
    "\n",
    "    def take_exem(self) :\n",
    "        print(f\"{self.name}가 시험을 봅니다.\")"
   ]
  },
  {
   "cell_type": "code",
   "execution_count": 17,
   "id": "b4e83b03-b0ae-41ef-94b1-a3b5f34850cb",
   "metadata": {},
   "outputs": [
    {
     "name": "stdout",
     "output_type": "stream",
     "text": [
      "ella 3\n",
      "ella가 공부를 열심히 합니다.\n"
     ]
    }
   ],
   "source": [
    "student = Student(\"ella\", 3)\n",
    "print(student.name, student.grade)\n",
    "student.study()"
   ]
  }
 ],
 "metadata": {
  "kernelspec": {
   "display_name": "Python [conda env:base] *",
   "language": "python",
   "name": "conda-base-py"
  },
  "language_info": {
   "codemirror_mode": {
    "name": "ipython",
    "version": 3
   },
   "file_extension": ".py",
   "mimetype": "text/x-python",
   "name": "python",
   "nbconvert_exporter": "python",
   "pygments_lexer": "ipython3",
   "version": "3.13.5"
  }
 },
 "nbformat": 4,
 "nbformat_minor": 5
}
