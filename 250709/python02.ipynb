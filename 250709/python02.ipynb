{
 "cells": [
  {
   "cell_type": "markdown",
   "id": "54cb8b9f-a7e5-4199-95a2-662bfb454cf7",
   "metadata": {},
   "source": [
    "#### 파이썬 크롤링\n",
    "1. 크롤링을 하는 수많은 프로그래밍 언어와 툴이 존재하는데 왜 파이썬?\n",
    "   - 파이썬은 라이브러리의 천국이다.\n",
    "   - 라이브러리 => 도서관 => 특정 분야에 대한 전문 지식을 습득하기 위해서 해당 책을 빌려보거나 서재에서 가져다가 참고!\n",
    "   - 크롤링을 하려고하는데, atoz까지 직접 크롤링을 위한 코드를 작성한다면 시간과 효율이 매우 안좋을 것임.\n",
    "   - 파이썬은 미리 크롤링할 수 있도록 도와줄 수 있는 일종의 참고서적을 만들어놓음.(* 참고 서적 => 라이브러리)\n",
    "   - 특정 라이브러리를 가져와서 사용하려면 import 예약어 (*명령어) 사용!\n",
    "   - 만약에 해당 라이브러리가 파이썬에 내장되어있는 라이브러리가 아니라고 한다면 반드시 사전에 설치가 필요!\n",
    "     - !pip = (python install package)\n",
    "     - !pip install 설치하고 싶은 라이브러리명 = pandas"
   ]
  },
  {
   "cell_type": "code",
   "execution_count": 4,
   "id": "bff2c89f-509c-468a-a21f-cd5ed00efde4",
   "metadata": {},
   "outputs": [
    {
     "name": "stdout",
     "output_type": "stream",
     "text": [
      "Requirement already satisfied: pandas in /opt/anaconda3/lib/python3.13/site-packages (2.2.3)\n",
      "Requirement already satisfied: numpy>=1.26.0 in /opt/anaconda3/lib/python3.13/site-packages (from pandas) (2.1.3)\n",
      "Requirement already satisfied: python-dateutil>=2.8.2 in /opt/anaconda3/lib/python3.13/site-packages (from pandas) (2.9.0.post0)\n",
      "Requirement already satisfied: pytz>=2020.1 in /opt/anaconda3/lib/python3.13/site-packages (from pandas) (2024.1)\n",
      "Requirement already satisfied: tzdata>=2022.7 in /opt/anaconda3/lib/python3.13/site-packages (from pandas) (2025.2)\n",
      "Requirement already satisfied: six>=1.5 in /opt/anaconda3/lib/python3.13/site-packages (from python-dateutil>=2.8.2->pandas) (1.17.0)\n"
     ]
    }
   ],
   "source": [
    "!pip install pandas"
   ]
  },
  {
   "cell_type": "code",
   "execution_count": 5,
   "id": "f1c751bb-3fc7-4f99-85c8-459605bc33ff",
   "metadata": {},
   "outputs": [],
   "source": [
    "import pandas"
   ]
  },
  {
   "cell_type": "code",
   "execution_count": 22,
   "id": "83821c74-1744-4a86-95ed-5da3d897f464",
   "metadata": {},
   "outputs": [
    {
     "data": {
      "text/plain": [
       "2.5"
      ]
     },
     "execution_count": 22,
     "metadata": {},
     "output_type": "execute_result"
    }
   ],
   "source": [
    "# import statistics # 내장 라이브러리 객체 -> 객체의 자료형태\n",
    "# from statistics import mean, stdev\n",
    "# from statistics import *\n",
    "# import statistics as s # statistics를 s로 가져온다\n",
    "from statistics import mean as m # as는 별칭을 만들어주는 것\n",
    "\n",
    "data = [1, 2, 3, 4]\n",
    "\n",
    "m(data) # as 사용은 유의해서 할 것. 나만 알아보는 언어일 수 있음. 같이 개발하는 개발자들 간의 상호 약속이 있어야함.\n",
    "\n",
    "# s.mean (data)\n",
    "# s.stdev(data)\n",
    "\n",
    "# print(statistics.mean(data)) # mean -> 평균값\n",
    "# print(statistics.stdev(data)) # stdev -> 표준 편차"
   ]
  },
  {
   "cell_type": "code",
   "execution_count": null,
   "id": "e4a4701a-1f6a-4765-a086-0b19c6cc726b",
   "metadata": {},
   "outputs": [],
   "source": []
  }
 ],
 "metadata": {
  "kernelspec": {
   "display_name": "Python [conda env:base] *",
   "language": "python",
   "name": "conda-base-py"
  },
  "language_info": {
   "codemirror_mode": {
    "name": "ipython",
    "version": 3
   },
   "file_extension": ".py",
   "mimetype": "text/x-python",
   "name": "python",
   "nbconvert_exporter": "python",
   "pygments_lexer": "ipython3",
   "version": "3.13.5"
  }
 },
 "nbformat": 4,
 "nbformat_minor": 5
}
