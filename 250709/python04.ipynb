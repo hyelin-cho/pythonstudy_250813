{
 "cells": [
  {
   "cell_type": "code",
   "execution_count": 5,
   "id": "c872ce17-0747-42bb-8fee-3d10fd9944a0",
   "metadata": {},
   "outputs": [
    {
     "name": "stdout",
     "output_type": "stream",
     "text": [
      "<h1 id=\"title\">[1]크롤링이란?</h1>\n",
      "[1]크롤링이란?\n",
      "[1]크롤링이란?\n"
     ]
    }
   ],
   "source": [
    "from bs4 import BeautifulSoup\n",
    "\n",
    "html = \"<html>\\\n",
    "            <body>\\\n",
    "                <h1 id='title'>[1]크롤링이란?</h1>\\\n",
    "                <p class='cssstyle'>웝페이지에서 필요한 데이터를 추출하는 것</p>\\\n",
    "                <p id='body' align='center'>파이썬을 중심으로 다양한 웹크롤링 기술 발달</p>\\\n",
    "            </body>\\\n",
    "        </html>\" # \\의도적인 개행을 주고있음.\n",
    "\n",
    "soup = BeautifulSoup(html, \"html.parser\")\n",
    "data = soup.find(\"h1\")\n",
    "print(data)\n",
    "print(data.string)\n",
    "print(data.get_text())"
   ]
  },
  {
   "cell_type": "code",
   "execution_count": 22,
   "id": "60b393f7-9fdc-439c-a505-fea25f02768d",
   "metadata": {},
   "outputs": [
    {
     "name": "stdout",
     "output_type": "stream",
     "text": [
      "<body> <h1 id=\"title\">[1]크롤링이란?</h1> <p class=\"cssstyle\">웝페이지에서 필요한 데이터를 추출하는 것</p> <p align=\"center\" id=\"body\">파이썬을 중심으로 다양한 웹크롤링 기술 발달</p> </body>\n",
      " [1]크롤링이란? 웝페이지에서 필요한 데이터를 추출하는 것 파이썬을 중심으로 다양한 웹크롤링 기술 발달 \n"
     ]
    }
   ],
   "source": [
    "from bs4 import BeautifulSoup\n",
    "\n",
    "html = \"<html>\\\n",
    "            <body>\\\n",
    "                <h1 id='title'>[1]크롤링이란?</h1>\\\n",
    "                <p class='cssstyle'>웝페이지에서 필요한 데이터를 추출하는 것</p>\\\n",
    "                <p id='body' align='center'>파이썬을 중심으로 다양한 웹크롤링 기술 발달</p>\\\n",
    "            </body>\\\n",
    "        </html>\"\n",
    "\n",
    "soup = BeautifulSoup(html, \"html.parser\")\n",
    "data = soup.find(\"body\")\n",
    "print(data)\n",
    "\n",
    "#string -> 크롤링하고자하는 대상의 직접적인 텍스트 문자열을 찾아와야 할 때\n",
    "# print(data.string)\n",
    "\n",
    "# get_text() -> 자식요소의 텍스트 문자열까지 크롤링하고자 할 때\n",
    "print(data.get_text())"
   ]
  },
  {
   "cell_type": "code",
   "execution_count": 21,
   "id": "67586d3d-4c1a-4ac8-a79d-674e606fbedb",
   "metadata": {},
   "outputs": [
    {
     "name": "stdout",
     "output_type": "stream",
     "text": [
      "웝페이지에서 필요한 데이터를 추출하는 것\n"
     ]
    }
   ],
   "source": [
    "from bs4 import BeautifulSoup\n",
    "\n",
    "html = \"<html>\\\n",
    "            <body>\\\n",
    "                <h1 id='title'>[1]크롤링이란?</h1>\\\n",
    "                <p class='cssstyle'>웝페이지에서 필요한 데이터를 추출하는 것</p>\\\n",
    "                <p id='body' align='center'>파이썬을 중심으로 다양한 웹크롤링 기술 발달</p>\\\n",
    "            </body>\\\n",
    "        </html>\"\n",
    "\n",
    "soup = BeautifulSoup(html, \"html.parser\")\n",
    "data = soup.find(\"p\")\n",
    "print(data.string)"
   ]
  },
  {
   "cell_type": "code",
   "execution_count": 20,
   "id": "894fa541-44f6-4776-bc56-a411ff8ca37d",
   "metadata": {},
   "outputs": [
    {
     "name": "stdout",
     "output_type": "stream",
     "text": [
      "웝페이지에서 필요한 데이터를 추출하는 것\n",
      "파이썬을 중심으로 다양한 웹크롤링 기술 발달\n"
     ]
    }
   ],
   "source": [
    "from bs4 import BeautifulSoup\n",
    "\n",
    "html = \"<html>\\\n",
    "            <body>\\\n",
    "                <h1 id='title'>[1]크롤링이란?</h1>\\\n",
    "                <p class='cssstyle'>웝페이지에서 필요한 데이터를 추출하는 것</p>\\\n",
    "                <p id='body' align='center'>파이썬을 중심으로 다양한 웹크롤링 기술 발달</p>\\\n",
    "            </body>\\\n",
    "        </html>\" \n",
    "\n",
    "soup = BeautifulSoup(html, \"html.parser\")\n",
    "data = soup.find_all(\"p\") # P요소를 다 찾아오라는 뜻임\n",
    "\n",
    "for item in data :\n",
    "    print(item.string)\n",
    "# print(data.string) 리스트 자료구조 상 스트링 쓸 수 없음. 그래서 얘 쓰면 오류"
   ]
  },
  {
   "cell_type": "code",
   "execution_count": 29,
   "id": "304f6773-ad26-4571-a53c-0a7e8195fb50",
   "metadata": {},
   "outputs": [
    {
     "name": "stdout",
     "output_type": "stream",
     "text": [
      "파이썬을 중심으로 다양한 웹크롤링 기술 발달\n"
     ]
    }
   ],
   "source": [
    "from bs4 import BeautifulSoup\n",
    "\n",
    "html = \"<html>\\\n",
    "            <body>\\\n",
    "                <h1 id='title'>[1]크롤링이란?</h1>\\\n",
    "                <p class='cssstyle'>웝페이지에서 필요한 데이터를 추출하는 것</p>\\\n",
    "                <p id='body' align='center'>파이썬을 중심으로 다양한 웹크롤링 기술 발달</p>\\\n",
    "            </body>\\\n",
    "        </html>\" \n",
    "\n",
    "soup = BeautifulSoup(html, \"html.parser\")\n",
    "# data = soup.find(\"p\", attrs={\"id\":\"body\"})\n",
    "data = soup.find(\"p\", attrs={\"align\":\"center\"})\n",
    "print(data.string)"
   ]
  },
  {
   "cell_type": "code",
   "execution_count": 40,
   "id": "3c5efe8d-823a-4785-9215-65cb62671fdb",
   "metadata": {},
   "outputs": [
    {
     "name": "stdout",
     "output_type": "stream",
     "text": [
      "파이썬을 중심으로 다양한 웹크롤링 기술 발달 - 2\n"
     ]
    }
   ],
   "source": [
    "from bs4 import BeautifulSoup\n",
    "\n",
    "html = \"<html>\\\n",
    "            <body>\\\n",
    "                <h1 id='title'>[1]크롤링이란?</h1>\\\n",
    "                <p class='cssstyle'>웝페이지에서 필요한 데이터를 추출하는 것</p>\\\n",
    "                <p id='body01' align='center'>파이썬을 중심으로 다양한 웹크롤링 기술 발달 - 1</p>\\\n",
    "                <p id='body02' align='center'>파이썬을 중심으로 다양한 웹크롤링 기술 발달 - 2</p>\\\n",
    "            </body>\\\n",
    "        </html>\" \n",
    "\n",
    "soup = BeautifulSoup(html, \"html.parser\")\n",
    "# data = soup.find(\"p\", attrs={\"id\":\"body\"})\n",
    "# data = soup.find(\"p\", attrs={\"id\":\"body02\",\"align\":\"center\"}) 이렇게까지 안해도 됨\n",
    "data = soup.find(\"p\", id = \"body02\") # 약식\n",
    "print(data.string)"
   ]
  },
  {
   "cell_type": "code",
   "execution_count": 38,
   "id": "08277934-82a3-401f-9bdc-7b21b097104d",
   "metadata": {},
   "outputs": [
    {
     "name": "stdout",
     "output_type": "stream",
     "text": [
      "웝페이지에서 필요한 데이터를 추출하는 것 - 2\n"
     ]
    }
   ],
   "source": [
    "from bs4 import BeautifulSoup\n",
    "\n",
    "html = \"<html>\\\n",
    "            <body>\\\n",
    "                <h1 id='title'>[1]크롤링이란?</h1>\\\n",
    "                <p class='cssstyle01'>웝페이지에서 필요한 데이터를 추출하는 것 - 1</p>\\\n",
    "                <p class='cssstyle02'>웝페이지에서 필요한 데이터를 추출하는 것 - 2</p>\\\n",
    "                <p id='body01' align='center'>파이썬을 중심으로 다양한 웹크롤링 기술 발달 - 1</p>\\\n",
    "                <p id='body02' align='center'>파이썬을 중심으로 다양한 웹크롤링 기술 발달 - 2</p>\\\n",
    "            </body>\\\n",
    "        </html>\" \n",
    "\n",
    "soup = BeautifulSoup(html, \"html.parser\")\n",
    "# data = soup.find(\"p\", attrs={\"id\":\"body\"})\n",
    "# data = soup.find(\"p\", attrs={\"id\":\"body02\",\"align\":\"center\"})\n",
    "# data = soup.find(\"p\", attrs={\"class\":\"cssstyle02\"})\n",
    "# data = soup.find(\"p\", class_ = \"cssstyle02\") # 저마다 크롤링하는 방법이 다 다르니 많은 방법을 알려주는 것임. 언더바는 혼동이 올 수 있기 때문에 넣은 것\n",
    "data = soup.find(\"p\", \"cssstyle02\")\n",
    "print(data.string)"
   ]
  }
 ],
 "metadata": {
  "kernelspec": {
   "display_name": "Python [conda env:base] *",
   "language": "python",
   "name": "conda-base-py"
  },
  "language_info": {
   "codemirror_mode": {
    "name": "ipython",
    "version": 3
   },
   "file_extension": ".py",
   "mimetype": "text/x-python",
   "name": "python",
   "nbconvert_exporter": "python",
   "pygments_lexer": "ipython3",
   "version": "3.13.5"
  }
 },
 "nbformat": 4,
 "nbformat_minor": 5
}
