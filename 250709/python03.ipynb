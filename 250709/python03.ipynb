{
 "cells": [
  {
   "cell_type": "markdown",
   "id": "eea113ff-d6cd-48af-b1be-8958e53bc1b6",
   "metadata": {},
   "source": [
    "#### 파이썬 Basic 크롤링 문법\n",
    "1. requests\n",
    "2. bs4 # 아르다운 비누의 4버전 # 크롤링의 기본 중의 기본"
   ]
  },
  {
   "cell_type": "code",
   "execution_count": 8,
   "id": "c7091c1a-3858-460c-a354-a71668ef383d",
   "metadata": {},
   "outputs": [
    {
     "name": "stdout",
     "output_type": "stream",
     "text": [
      "잔금대출에도 DTI 규제 적용 검토\n"
     ]
    }
   ],
   "source": [
    "import requests\n",
    "from bs4 import BeautifulSoup # 파씽을 할거임.\n",
    "\n",
    "res = requests.get(\"https://v.daum.net/v/20170615203441266\")\n",
    "soup = BeautifulSoup(res.content, \"html.parser\") # 파씽으로 이쁘게 만들어주셈\n",
    "\n",
    "mydata = soup.find(\"title\")\n",
    "print(mydata.get_text())"
   ]
  },
  {
   "cell_type": "code",
   "execution_count": null,
   "id": "268bb51b-7254-488c-bd5d-04763b599010",
   "metadata": {},
   "outputs": [],
   "source": []
  }
 ],
 "metadata": {
  "kernelspec": {
   "display_name": "Python [conda env:base] *",
   "language": "python",
   "name": "conda-base-py"
  },
  "language_info": {
   "codemirror_mode": {
    "name": "ipython",
    "version": 3
   },
   "file_extension": ".py",
   "mimetype": "text/x-python",
   "name": "python",
   "nbconvert_exporter": "python",
   "pygments_lexer": "ipython3",
   "version": "3.13.5"
  }
 },
 "nbformat": 4,
 "nbformat_minor": 5
}
