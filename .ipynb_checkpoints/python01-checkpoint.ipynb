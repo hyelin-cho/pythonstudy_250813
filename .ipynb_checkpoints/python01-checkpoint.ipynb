{
 "cells": [
  {
   "cell_type": "markdown",
   "id": "8cb75e34-f5d4-421e-9589-676bb57838a8",
   "metadata": {},
   "source": [
    "#### 파이썬 자료구조\n",
    "- list => 하나의 그룹 안에 순번을 매겨서 값을 저장해놓은 형태 (*단일 값을 수정, 삭제 등 변경 허용)\n",
    "- tuple => 하나의 그룹 안에 순번을 매겨서 값을 저장해놓은 형태 (*단일 값을 수정, 삭제 등 변경 허용 x)\n",
    "- dictionary => 사전 (*단어 : 뜻, 형태, 예시 등등 세부정보) => key(*단어) & value(*해당 단어에 대한 의미) => 속성 (*property)\n",
    " 프로그램의 난이도 판단 기준이 됨.\n",
    "- CRUD => 웹 사이트 구현정도 // 해당 프로그램의 난이도 // 고급 언어인지, 저급 언어인지 등을 구분\n",
    "- Create // Read // Update // Delete => 고급 언어로 난이도가 상단계 포지션\n",
    "- 프로그래밍언어는 절대 정답 x => 예제 문제 => 쌤이 문제를 해결한 방법 // 수강생이 문제를 해결한 방법 => x\n",
    "- 2 => 1+1 // 10/5 / 2*1\n",
    "- 문자열 => 숫자 => 문법해결\n",
    "- 문자열 => 문법 해결\n",
    "- 세상에 듣도보도 못한 문법체계를 가져와서 문제를 해결\n",
    "- 개발영역 => 결과가 도출된다면 모두 답 => 어떤 답이 \"효과\"적 || \"효율\"이 있는 가?\n",
    "- 만들고자하는 프로그램이 지향하는 것이 무엇이냐? => 안정성 // 속도(코드가 길면 안되고 빠르게 처리) // 메모리(메모리를 많이 차지하지 않는 것이 베스트\n",
    "- 시간 => 얼마나 빠른 시간 내에 코드를 처리할 수 있는가 => 시간복잡도 라는 개념\n",
    "- 어떤 코드가 실행되는데 있어서 얼만큼 빨리 처리하냐 => 빅오메가 // 빅세타(세, 네번째) // 빅오(제일 마지막) 개념 => 하드웨어 => 컴퓨터의 성능 차이에 따라 넘어갈 수 있다. 하지만 이것은 배제 시켜야함.\n",
    "- 빅오 시간 체크 => 가장 많은 시간을 차지하는 것 하나를 체크 => 반복문"
   ]
  },
  {
   "cell_type": "code",
   "execution_count": 3,
   "id": "b466bcb1-2783-4341-aa40-2daabd123499",
   "metadata": {},
   "outputs": [
    {
     "data": {
      "text/plain": [
       "{'name': 'david'}"
      ]
     },
     "execution_count": 3,
     "metadata": {},
     "output_type": "execute_result"
    }
   ],
   "source": [
    "dict1 = {\"name\" : \"david\"} # 이 값에 대한 세부적인 정보를 가지고 있다.\n",
    "dict1"
   ]
  },
  {
   "cell_type": "code",
   "execution_count": 5,
   "id": "16bcd673-2eec-4dca-930f-375ea12795a4",
   "metadata": {},
   "outputs": [
    {
     "data": {
      "text/plain": [
       "{'korean': 95, 'math': 100, 'science': 80}"
      ]
     },
     "execution_count": 5,
     "metadata": {},
     "output_type": "execute_result"
    }
   ],
   "source": [
    "dict2 = {\"korean\":95, \"math\":100, \"science\":80}\n",
    "dict2"
   ]
  },
  {
   "cell_type": "code",
   "execution_count": 7,
   "id": "0b7caa0d-8498-40e0-b244-fd109d18f03e",
   "metadata": {},
   "outputs": [
    {
     "name": "stdout",
     "output_type": "stream",
     "text": [
      "<class 'dict'>\n"
     ]
    }
   ],
   "source": [
    "# list1 = [] | [1, 2] | list()\n",
    "# tupl1 = () | (1, 2) | tupl()\n",
    "\n",
    "dict1 = {} # {} => set자료구조일 수도 있음.\n",
    "dict2 = dict()\n",
    "\n",
    "print(type(dict2))"
   ]
  },
  {
   "cell_type": "code",
   "execution_count": 11,
   "id": "cfe69952-c021-448e-8c0e-33054efd75cf",
   "metadata": {},
   "outputs": [],
   "source": [
    "data_dict = {\"한국\":\"kr\", \"일본\":\"jp\", \"중국\":\"cn\"}"
   ]
  },
  {
   "cell_type": "code",
   "execution_count": 12,
   "id": "32d9dac4-c5b6-4f09-a4fe-137b19a9b77c",
   "metadata": {},
   "outputs": [
    {
     "data": {
      "text/plain": [
       "'kr'"
      ]
     },
     "execution_count": 12,
     "metadata": {},
     "output_type": "execute_result"
    }
   ],
   "source": [
    "data_dict[\"한국\"] # 해당 키의 매칭되어지는 값을 항상 찾아온다."
   ]
  },
  {
   "cell_type": "code",
   "execution_count": 15,
   "id": "6b420663-95f6-4d7b-86ef-b24225dc59c2",
   "metadata": {},
   "outputs": [],
   "source": [
    "data_dict[\"미국\"] = \"us\" # 값을 추가할 수 있음."
   ]
  },
  {
   "cell_type": "code",
   "execution_count": 14,
   "id": "1c2c46c8-e92a-431d-ab71-d8343eebc2e0",
   "metadata": {},
   "outputs": [
    {
     "data": {
      "text/plain": [
       "{'한국': 'kr', '일본': 'jp', '중국': 'cn', '미국': 'us'}"
      ]
     },
     "execution_count": 14,
     "metadata": {},
     "output_type": "execute_result"
    }
   ],
   "source": [
    "data_dict"
   ]
  },
  {
   "cell_type": "code",
   "execution_count": 17,
   "id": "d95257d7-7e54-4ef4-ba8c-c281874a554d",
   "metadata": {},
   "outputs": [
    {
     "ename": "KeyError",
     "evalue": "'일본'",
     "output_type": "error",
     "traceback": [
      "\u001b[0;31m---------------------------------------------------------------------------\u001b[0m",
      "\u001b[0;31mKeyError\u001b[0m                                  Traceback (most recent call last)",
      "Cell \u001b[0;32mIn[17], line 1\u001b[0m\n\u001b[0;32m----> 1\u001b[0m \u001b[38;5;28;01mdel\u001b[39;00m data_dict[\u001b[38;5;124m\"\u001b[39m\u001b[38;5;124m일본\u001b[39m\u001b[38;5;124m\"\u001b[39m]\n",
      "\u001b[0;31mKeyError\u001b[0m: '일본'"
     ]
    }
   ],
   "source": [
    "del data_dict[\"일본\"]\n",
    "# 예약어 or 명령어, 이 언어를 만든 사람이 이 언어를 쓰면 뭔가를 제거할 것임 이라고 예약한 것임. 오류는 두번 눌러서 그럼."
   ]
  },
  {
   "cell_type": "code",
   "execution_count": 18,
   "id": "8203bf1a-dc79-4934-9cce-035494650b36",
   "metadata": {},
   "outputs": [
    {
     "data": {
      "text/plain": [
       "{'한국': 'kr', '중국': 'cn', '미국': 'us'}"
      ]
     },
     "execution_count": 18,
     "metadata": {},
     "output_type": "execute_result"
    }
   ],
   "source": [
    "data_dict"
   ]
  },
  {
   "cell_type": "code",
   "execution_count": 20,
   "id": "ba2e44cc-575a-4f46-8129-f31c223e4c4e",
   "metadata": {},
   "outputs": [],
   "source": [
    "data_dict[\"미국\"] = \"usa\" # 키 값을 기준으로 찾아오거나 없애거나 함."
   ]
  },
  {
   "cell_type": "code",
   "execution_count": 21,
   "id": "032d0e3b-7cc7-49c8-b171-d29d085d6d85",
   "metadata": {},
   "outputs": [
    {
     "data": {
      "text/plain": [
       "{'한국': 'kr', '중국': 'cn', '미국': 'usa'}"
      ]
     },
     "execution_count": 21,
     "metadata": {},
     "output_type": "execute_result"
    }
   ],
   "source": [
    "data_dict"
   ]
  },
  {
   "cell_type": "code",
   "execution_count": 30,
   "id": "d455d9b9-ed41-42af-90ee-d2129c48e0b8",
   "metadata": {},
   "outputs": [
    {
     "name": "stdout",
     "output_type": "stream",
     "text": [
      "dict_keys(['한국', '중국', '미국'])\n",
      "<class 'dict_keys'>\n",
      "dict_values(['kr', 'cn', 'usa'])\n",
      "dict_items([('한국', 'kr'), ('중국', 'cn'), ('미국', 'usa')])\n"
     ]
    }
   ],
   "source": [
    "keys = data_dict.keys()\n",
    "print(keys)\n",
    "print(type(keys))\n",
    "\n",
    "values = data_dict.values()\n",
    "print(values)\n",
    "\n",
    "items = data_dict.items() # 이 경우 반환 값이 튜플 형태로 가지고 있다. \n",
    "print(items)\n",
    "\n",
    "# 리스트로 변경할 때 쓸 수 있다. "
   ]
  },
  {
   "cell_type": "code",
   "execution_count": 29,
   "id": "cda4ad7b-d08a-417d-a4ab-848c7f7f951c",
   "metadata": {},
   "outputs": [
    {
     "name": "stdout",
     "output_type": "stream",
     "text": [
      "한국\n",
      "중국\n",
      "미국\n"
     ]
    }
   ],
   "source": [
    "for key in keys :\n",
    "    print(key)"
   ]
  },
  {
   "cell_type": "code",
   "execution_count": 33,
   "id": "2b9d24ee-2994-4372-bc3b-546b2bc17fe1",
   "metadata": {},
   "outputs": [
    {
     "name": "stdout",
     "output_type": "stream",
     "text": [
      "('한국', 'kr')\n",
      "('중국', 'cn')\n",
      "('미국', 'usa')\n"
     ]
    }
   ],
   "source": [
    "for item in items :\n",
    "    print(item) # 소괄호는 튜플"
   ]
  },
  {
   "cell_type": "markdown",
   "id": "8b2ae360-b872-4849-b805-a232389550c6",
   "metadata": {},
   "source": [
    "### 리스트"
   ]
  },
  {
   "cell_type": "markdown",
   "id": "9046912d-891f-49d0-b466-10bd06a34c16",
   "metadata": {},
   "source": [
    "- HTML 문서 상에 제목이 여러개 있는 경우"
   ]
  },
  {
   "cell_type": "code",
   "execution_count": 41,
   "id": "d50fe4c6-c4b0-4816-893b-1daf7a57376c",
   "metadata": {},
   "outputs": [
    {
     "name": "stdout",
     "output_type": "stream",
     "text": [
      "뉴스A\n",
      "뉴스B\n",
      "뉴스C\n",
      "뉴스A\n"
     ]
    }
   ],
   "source": [
    "titles = [\"뉴스A\", \"뉴스B\", \"뉴스C\", \"뉴스A\"]\n",
    "for title in titles :\n",
    "    print(title)"
   ]
  },
  {
   "cell_type": "markdown",
   "id": "428e47b9-b78a-456d-87e3-89e4e42f5c12",
   "metadata": {},
   "source": [
    "### 딕셔너리"
   ]
  },
  {
   "cell_type": "code",
   "execution_count": 42,
   "id": "82d9f89b-62c6-4151-ac9f-a793f843d579",
   "metadata": {},
   "outputs": [],
   "source": [
    "article01 = {\n",
    "    \"title\":\"뉴스A\",\n",
    "    \"link\":\"https://www.naver.com\"\n",
    "}\n",
    "\n",
    "article02 = {\n",
    "    \"title\":\"뉴스B\",\n",
    "    \"link\":\"https://www.naver.com\"\n",
    "}\n",
    "\n",
    "articlelist = [article01, article02]"
   ]
  }
 ],
 "metadata": {
  "kernelspec": {
   "display_name": "Python [conda env:base] *",
   "language": "python",
   "name": "conda-base-py"
  },
  "language_info": {
   "codemirror_mode": {
    "name": "ipython",
    "version": 3
   },
   "file_extension": ".py",
   "mimetype": "text/x-python",
   "name": "python",
   "nbconvert_exporter": "python",
   "pygments_lexer": "ipython3",
   "version": "3.13.5"
  }
 },
 "nbformat": 4,
 "nbformat_minor": 5
}
