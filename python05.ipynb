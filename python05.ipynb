{
 "cells": [
  {
   "cell_type": "code",
   "execution_count": 27,
   "id": "bfac28f1-dd13-443b-8f64-9696bffc5507",
   "metadata": {},
   "outputs": [
    {
     "name": "stdout",
     "output_type": "stream",
     "text": [
      "잔금대출에도 DTI 규제 적용 검토\n"
     ]
    }
   ],
   "source": [
    "import requests\n",
    "from bs4 import BeautifulSoup\n",
    "\n",
    "res = requests.get(\"https://v.daum.net/v/20170615203441266\")\n",
    "soup = BeautifulSoup(res.content,\"html.parser\")\n",
    "\n",
    "# mydata = soup.find(\"h3\", attrs={\"class\":\"tit_view\"}) # 뒤 클래스 값까지 주면 확실하고 안정적이게 얻어올 수 있음.\n",
    "mydata = soup.find(\"h3\", attrs={\"class\":\"tit_view\"})\n",
    "# mydata = soup.find(\"h3\", attrs={\"class\",\"tit_view\"}) # 의도와는 다르지만 문법상으로는 틀리지 않음.\n",
    "# mydata = soup.find(\"h3\", attrs={\"class\",\"tit_view01\"}) # 문맥 상의 에러. 오타\n",
    "\n",
    "print(mydata.string) # 직접적으로 찾아오는 법"
   ]
  },
  {
   "cell_type": "code",
   "execution_count": 48,
   "id": "28dc8a4d-4766-472d-90d8-1db7dc82608c",
   "metadata": {},
   "outputs": [
    {
     "name": "stdout",
     "output_type": "stream",
     "text": [
      "2017. 6. 15. 20:34\n"
     ]
    }
   ],
   "source": [
    "import requests\n",
    "from bs4 import BeautifulSoup\n",
    "\n",
    "res = requests.get(\"https://v.daum.net/v/20170615203441266\")\n",
    "soup = BeautifulSoup(res.content,\"html.parser\")\n",
    "\n",
    "# mydata = soup.find(\"span\", attrs={\"class\":\"num_date\"})\n",
    "# mydata = soup.find(\"span\", \"num_date\")\n",
    "# mydata = soup.find(\"span\", class_=\"num_date\")\n",
    "# print(mydata.string)\n",
    "\n",
    "mydata = soup.find_all(\"span\", class_=\"txt_info\") # 리스트로 값을 찾아오는 방법. 밑에 있는 자식요소로 찾아오는 법\n",
    "print(mydata[1].get_text())"
   ]
  },
  {
   "cell_type": "markdown",
   "id": "ee5670f2-1238-4d22-99a8-17f420da7993",
   "metadata": {},
   "source": [
    "해당 문서에서 li태그이면서 course라는 클래스값을 가지고 있는 요소들의 텍스트만 크롤링해서 주피터 노트북에 출력해주세요."
   ]
  },
  {
   "cell_type": "code",
   "execution_count": 55,
   "id": "2eff585f-36b3-4e1c-adc9-0611595f7b79",
   "metadata": {},
   "outputs": [
    {
     "name": "stdout",
     "output_type": "stream",
     "text": [
      "[<li class=\"course\">\n",
      "<a href=\"#\">(왕초보) - 클래스 소개</a>\n",
      "</li>, <li class=\"course\">\n",
      "<a href=\"#\">(왕초보) - 블로그 개발 필요한 준비물 준비하기</a>\n",
      "</li>, <li class=\"course\">\n",
      "<a href=\"#\">(왕초보) - Github pages 설정해서 블로그 첫 페이지 만들어보기</a>\n",
      "</li>, <li class=\"course\">\n",
      "<a href=\"#\">(왕초보) - 초간단 페이지 만들어보기</a>\n",
      "</li>, <li class=\"course\">\n",
      "<a href=\"#\">(왕초보) - 이쁘게 테마 적용해보기</a>\n",
      "</li>, <li class=\"course\">\n",
      "<a href=\"#\">(왕초보) - 마크다운 기초 이해하고, 실제 나만의 블로그 페이지\n",
      "          만들기</a>\n",
      "</li>, <li class=\"course\">\n",
      "<a href=\"#\">(왕초보) - 다양한 마크다운 기법 익혀보며, 나만의 블로그 페이지\n",
      "          꾸며보기</a>\n",
      "</li>, <li class=\"course\">\n",
      "<a href=\"#\">(초급) - 강사가 실제 사용하는 자동 프로그램 소개 [2]</a>\n",
      "</li>, <li class=\"course\">\n",
      "<a href=\"#\">(초급) - 필요한 프로그램 설치 시연 [5]</a>\n",
      "</li>, <li class=\"course\">\n",
      "<a href=\"#\">(초급) - 데이터를 엑셀 파일로 만들기 [9]</a>\n",
      "</li>, <li class=\"course\">\n",
      "<a href=\"#\">(초급) -     엑셀 파일 이쁘게! 이쁘게! [8]</a>\n",
      "</li>, <li class=\"course\">\n",
      "<a href=\"#\">(초급) -     나대신 주기적으로 파이썬 프로그램\n",
      "          실행하기 [7]</a>\n",
      "</li>, <li class=\"course\">\n",
      "<a href=\"#\">(초급) - 파이썬으로 슬랙(slack) 메신저에 글쓰기 [40]</a>\n",
      "</li>, <li class=\"course\">\n",
      "<a href=\"#\">(초급) - 웹사이트 변경사항 주기적으로 체크해서, 메신저로 알람주기\n",
      "          [12]</a>\n",
      "</li>, <li class=\"course\">\n",
      "<a href=\"#\">(초급) - 네이버 API 사용해서, 블로그에 글쓰기 [42]</a>\n",
      "</li>, <li class=\"course\">\n",
      "<a href=\"#\">(중급) - 자동으로 쿠팡파트너스 API 로 가져온 상품 정보, 네이버\n",
      "          블로그/트위터에 홍보하기 [412]</a>\n",
      "</li>]\n"
     ]
    }
   ],
   "source": [
    "import requests\n",
    "from bs4 import BeautifulSoup\n",
    "\n",
    "res = requests.get(\"https://crawlingtest.netlify.app/\")\n",
    "soup = BeautifulSoup(res.content,\"html.parser\")\n",
    "\n",
    "mydata = soup.find_all(\"li\", class_=\"course\")\n",
    "print(mydata)"
   ]
  }
 ],
 "metadata": {
  "kernelspec": {
   "display_name": "Python [conda env:base] *",
   "language": "python",
   "name": "conda-base-py"
  },
  "language_info": {
   "codemirror_mode": {
    "name": "ipython",
    "version": 3
   },
   "file_extension": ".py",
   "mimetype": "text/x-python",
   "name": "python",
   "nbconvert_exporter": "python",
   "pygments_lexer": "ipython3",
   "version": "3.13.5"
  }
 },
 "nbformat": 4,
 "nbformat_minor": 5
}
